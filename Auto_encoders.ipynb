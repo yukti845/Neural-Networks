{
  "nbformat": 4,
  "nbformat_minor": 0,
  "metadata": {
    "colab": {
      "name": "Auto-encoders.ipynb",
      "provenance": [],
      "mount_file_id": "1SpBZ0VHwUOHHJ1tnK_aabC6zjJ2-EksR",
      "authorship_tag": "ABX9TyORUsIKi2A9UV1eQomoni6b",
      "include_colab_link": true
    },
    "kernelspec": {
      "name": "python3",
      "display_name": "Python 3"
    },
    "language_info": {
      "name": "python"
    }
  },
  "cells": [
    {
      "cell_type": "markdown",
      "metadata": {
        "id": "view-in-github",
        "colab_type": "text"
      },
      "source": [
        "<a href=\"https://colab.research.google.com/github/yukti845/Neural-Networks/blob/main/Auto_encoders.ipynb\" target=\"_parent\"><img src=\"https://colab.research.google.com/assets/colab-badge.svg\" alt=\"Open In Colab\"/></a>"
      ]
    },
    {
      "cell_type": "markdown",
      "source": [
        "# AutoEncoders"
      ],
      "metadata": {
        "id": "6abTVDH9HlAZ"
      }
    },
    {
      "cell_type": "markdown",
      "source": [
        "## Downloading the dataset"
      ],
      "metadata": {
        "id": "k_RTD14OHn9W"
      }
    },
    {
      "cell_type": "markdown",
      "source": [
        "### ML - 100K"
      ],
      "metadata": {
        "id": "pRZGJlhkH6bj"
      }
    },
    {
      "cell_type": "code",
      "execution_count": 1,
      "metadata": {
        "colab": {
          "base_uri": "https://localhost:8080/"
        },
        "id": "QUoYW9hiGGXj",
        "outputId": "20f18e5f-c178-4ea3-a638-6228b556c739"
      },
      "outputs": [
        {
          "output_type": "stream",
          "name": "stdout",
          "text": [
            "--2022-01-19 19:41:07--  http://files.grouplens.org/datasets/movielens/ml-100k.zip\n",
            "Resolving files.grouplens.org (files.grouplens.org)... 128.101.65.152\n",
            "Connecting to files.grouplens.org (files.grouplens.org)|128.101.65.152|:80... connected.\n",
            "HTTP request sent, awaiting response... 200 OK\n",
            "Length: 4924029 (4.7M) [application/zip]\n",
            "Saving to: ‘ml-100k.zip’\n",
            "\n",
            "ml-100k.zip         100%[===================>]   4.70M  16.9MB/s    in 0.3s    \n",
            "\n",
            "2022-01-19 19:41:07 (16.9 MB/s) - ‘ml-100k.zip’ saved [4924029/4924029]\n",
            "\n",
            "Archive:  ml-100k.zip\n",
            "   creating: ml-100k/\n",
            "  inflating: ml-100k/allbut.pl       \n",
            "  inflating: ml-100k/mku.sh          \n",
            "  inflating: ml-100k/README          \n",
            "  inflating: ml-100k/u.data          \n",
            "  inflating: ml-100k/u.genre         \n",
            "  inflating: ml-100k/u.info          \n",
            "  inflating: ml-100k/u.item          \n",
            "  inflating: ml-100k/u.occupation    \n",
            "  inflating: ml-100k/u.user          \n",
            "  inflating: ml-100k/u1.base         \n",
            "  inflating: ml-100k/u1.test         \n",
            "  inflating: ml-100k/u2.base         \n",
            "  inflating: ml-100k/u2.test         \n",
            "  inflating: ml-100k/u3.base         \n",
            "  inflating: ml-100k/u3.test         \n",
            "  inflating: ml-100k/u4.base         \n",
            "  inflating: ml-100k/u4.test         \n",
            "  inflating: ml-100k/u5.base         \n",
            "  inflating: ml-100k/u5.test         \n",
            "  inflating: ml-100k/ua.base         \n",
            "  inflating: ml-100k/ua.test         \n",
            "  inflating: ml-100k/ub.base         \n",
            "  inflating: ml-100k/ub.test         \n",
            "drive  ml-100k\tml-100k.zip  sample_data\n"
          ]
        }
      ],
      "source": [
        "!wget \"http://files.grouplens.org/datasets/movielens/ml-100k.zip\"\n",
        "!unzip ml-100k.zip\n",
        "!ls"
      ]
    },
    {
      "cell_type": "markdown",
      "source": [
        "ML - 1M"
      ],
      "metadata": {
        "id": "2E4JCtDrIFbg"
      }
    },
    {
      "cell_type": "code",
      "source": [
        "!wget \"http://files.grouplens.org/datasets/movielens/ml-1m.zip\"\n",
        "!unzip ml-1m.zip\n",
        "!ls"
      ],
      "metadata": {
        "colab": {
          "base_uri": "https://localhost:8080/"
        },
        "id": "hMk90xrCH-M9",
        "outputId": "38d73252-0b5d-4d86-e36f-517a4479e60c"
      },
      "execution_count": 2,
      "outputs": [
        {
          "output_type": "stream",
          "name": "stdout",
          "text": [
            "--2022-01-19 19:41:08--  http://files.grouplens.org/datasets/movielens/ml-1m.zip\n",
            "Resolving files.grouplens.org (files.grouplens.org)... 128.101.65.152\n",
            "Connecting to files.grouplens.org (files.grouplens.org)|128.101.65.152|:80... connected.\n",
            "HTTP request sent, awaiting response... 200 OK\n",
            "Length: 5917549 (5.6M) [application/zip]\n",
            "Saving to: ‘ml-1m.zip’\n",
            "\n",
            "ml-1m.zip           100%[===================>]   5.64M  19.7MB/s    in 0.3s    \n",
            "\n",
            "2022-01-19 19:41:08 (19.7 MB/s) - ‘ml-1m.zip’ saved [5917549/5917549]\n",
            "\n",
            "Archive:  ml-1m.zip\n",
            "   creating: ml-1m/\n",
            "  inflating: ml-1m/movies.dat        \n",
            "  inflating: ml-1m/ratings.dat       \n",
            "  inflating: ml-1m/README            \n",
            "  inflating: ml-1m/users.dat         \n",
            "drive  ml-100k\tml-100k.zip  ml-1m  ml-1m.zip  sample_data\n"
          ]
        }
      ]
    },
    {
      "cell_type": "markdown",
      "source": [
        "## Importing the libraries"
      ],
      "metadata": {
        "id": "IOWcyKdiu8xY"
      }
    },
    {
      "cell_type": "code",
      "source": [
        "import pandas as pd\n",
        "import numpy as np\n",
        "import torch\n",
        "import torch.nn as nn\n",
        "import torch.nn.parallel\n",
        "import torch.optim as optim\n",
        "import torch.utils.data\n",
        "from torch.autograd import Variable "
      ],
      "metadata": {
        "id": "r7Xzw4IOIHvb"
      },
      "execution_count": 3,
      "outputs": []
    },
    {
      "cell_type": "markdown",
      "source": [
        "## Importing the dataset"
      ],
      "metadata": {
        "id": "ptdSSwpCvgKW"
      }
    },
    {
      "cell_type": "code",
      "source": [
        "movies = pd.read_csv('ml-1m/movies.dat', sep = '::', header = None, engine = 'python', encoding = 'latin-1')\n",
        "users = pd.read_csv('ml-1m/users.dat', sep = '::', header = None, engine = 'python', encoding = 'latin-1')\n",
        "ratings = pd.read_csv('ml-1m/ratings.dat', sep = '::', header = None, engine = 'python', encoding = 'latin-1')"
      ],
      "metadata": {
        "id": "IYdIfzG7vaBF"
      },
      "execution_count": 4,
      "outputs": []
    },
    {
      "cell_type": "markdown",
      "source": [
        "## Preparing the training set and the test set"
      ],
      "metadata": {
        "id": "-_rxVpr9wIts"
      }
    },
    {
      "cell_type": "code",
      "source": [
        "training_set = pd.read_csv('/content/ml-100k/u1.base', delimiter = '\\t')\n",
        "training_set = np.array(training_set, dtype = 'int')\n",
        "test_set = pd.read_csv('ml-100k/u1.test', delimiter = '\\t')\n",
        "test_set = np.array(test_set, dtype = 'int')"
      ],
      "metadata": {
        "id": "dBrxkt3IvnKu"
      },
      "execution_count": 5,
      "outputs": []
    },
    {
      "cell_type": "markdown",
      "source": [
        "## Getting the number of users and movies"
      ],
      "metadata": {
        "id": "Ov9N5lzgHoaF"
      }
    },
    {
      "cell_type": "code",
      "source": [
        "nb_users = int(max(max(training_set[:, 0], ), max(test_set[:, 0])))\n",
        "nb_movies = int(max(max(training_set[:, 1], ), max(test_set[:, 1])))"
      ],
      "metadata": {
        "id": "9jDWD0rowYyU"
      },
      "execution_count": 6,
      "outputs": []
    },
    {
      "cell_type": "markdown",
      "source": [
        "## Converting the data into an array with users in lines and movies in columns"
      ],
      "metadata": {
        "id": "7-9BONdRHzto"
      }
    },
    {
      "cell_type": "code",
      "source": [
        "def convert(data):\n",
        "  new_data = []\n",
        "  for id_users in range(1, nb_users + 1):\n",
        "    id_movies = data[:, 1] [data[:, 0] == id_users]\n",
        "    id_ratings = data[:, 2] [data[:, 0] == id_users]\n",
        "    ratings = np.zeros(nb_movies)\n",
        "    ratings[id_movies - 1] = id_ratings\n",
        "    new_data.append(list(ratings))\n",
        "  return new_data\n",
        "\n",
        "training_set = convert(training_set)\n",
        "test_set = convert(test_set)"
      ],
      "metadata": {
        "id": "9tPq7y5oHruC"
      },
      "execution_count": 7,
      "outputs": []
    },
    {
      "cell_type": "markdown",
      "source": [
        "## Converting the data into torch tensors"
      ],
      "metadata": {
        "id": "Soistdd9SFjk"
      }
    },
    {
      "cell_type": "code",
      "source": [
        "training_set = torch.FloatTensor(training_set)\n",
        "test_set = torch.FloatTensor(test_set)"
      ],
      "metadata": {
        "id": "DRNZTpqOIJbL"
      },
      "execution_count": 8,
      "outputs": []
    },
    {
      "cell_type": "markdown",
      "source": [
        "## Creating the architecture of the Neural Network"
      ],
      "metadata": {
        "id": "r2H_tG0d4_xB"
      }
    },
    {
      "cell_type": "code",
      "source": [
        "class SAE(nn.Module):\n",
        "  def __init__(self, ):\n",
        "    super(SAE, self).__init__()\n",
        "    self.fc1 = nn.Linear(nb_movies, 20)\n",
        "    self.fc2 = nn.Linear(20, 10)\n",
        "    self.fc3 = nn.Linear(10, 20)\n",
        "    self.fc4 = nn.Linear(20, nb_movies)\n",
        "    self.activation = nn.Sigmoid()\n",
        "  def forward(self, x):\n",
        "    x = self.activation(self.fc1(x))\n",
        "    x = self.activation(self.fc2(x))\n",
        "    x = self.activation(self.fc3(x))\n",
        "    x = self.fc4(x)\n",
        "    return x\n",
        "sae = SAE()\n",
        "criterion = nn.MSELoss()\n",
        "optimizer = optim.RMSprop(sae.parameters(), lr = 0.01, weight_decay=0.5)"
      ],
      "metadata": {
        "id": "dZoepMxwSQ4A"
      },
      "execution_count": 9,
      "outputs": []
    },
    {
      "cell_type": "markdown",
      "source": [
        "## Training the SAE"
      ],
      "metadata": {
        "id": "fFo-V9vkdfj5"
      }
    },
    {
      "cell_type": "code",
      "source": [
        "nb_epoch = 200\n",
        "for epoch in range(1, nb_epoch + 1):\n",
        "  train_loss = 0\n",
        "  s = 0.\n",
        "  for id_user in range(nb_users):\n",
        "    input = Variable(training_set[id_user]).unsqueeze(0)\n",
        "    target = input.clone()\n",
        "    if torch.sum(target.data > 0) > 0:\n",
        "      output = sae(input)\n",
        "      target.require_grad = False\n",
        "      output[target == 0] = 0\n",
        "      loss = criterion(output, target)\n",
        "      mean_corrector = nb_movies/float(torch.sum(target.data>0) + 1e-10)\n",
        "      loss.backward()\n",
        "      train_loss += np.sqrt(loss.data*mean_corrector)\n",
        "      s += 1.\n",
        "      optimizer.step()\n",
        "  print('epoch: '+str(epoch) + 'loss: '+str(train_loss/s))"
      ],
      "metadata": {
        "id": "QYwggr0RvF2K",
        "colab": {
          "base_uri": "https://localhost:8080/"
        },
        "outputId": "acb42a1c-83c7-4cc5-e51d-86f216009e21"
      },
      "execution_count": 12,
      "outputs": [
        {
          "output_type": "stream",
          "name": "stdout",
          "text": [
            "epoch: 1loss: tensor(1.7717)\n",
            "epoch: 2loss: tensor(1.0967)\n",
            "epoch: 3loss: tensor(1.0538)\n",
            "epoch: 4loss: tensor(1.0383)\n",
            "epoch: 5loss: tensor(1.0308)\n",
            "epoch: 6loss: tensor(1.0264)\n",
            "epoch: 7loss: tensor(1.0237)\n",
            "epoch: 8loss: tensor(1.0218)\n",
            "epoch: 9loss: tensor(1.0206)\n",
            "epoch: 10loss: tensor(1.0196)\n",
            "epoch: 11loss: tensor(1.0188)\n",
            "epoch: 12loss: tensor(1.0184)\n",
            "epoch: 13loss: tensor(1.0180)\n",
            "epoch: 14loss: tensor(1.0174)\n",
            "epoch: 15loss: tensor(1.0173)\n",
            "epoch: 16loss: tensor(1.0169)\n",
            "epoch: 17loss: tensor(1.0165)\n",
            "epoch: 18loss: tensor(1.0166)\n",
            "epoch: 19loss: tensor(1.0164)\n",
            "epoch: 20loss: tensor(1.0163)\n",
            "epoch: 21loss: tensor(1.0162)\n",
            "epoch: 22loss: tensor(1.0159)\n",
            "epoch: 23loss: tensor(1.0158)\n",
            "epoch: 24loss: tensor(1.0158)\n",
            "epoch: 25loss: tensor(1.0156)\n",
            "epoch: 26loss: tensor(1.0156)\n",
            "epoch: 27loss: tensor(1.0151)\n",
            "epoch: 28loss: tensor(1.0149)\n",
            "epoch: 29loss: tensor(1.0134)\n",
            "epoch: 30loss: tensor(1.0115)\n",
            "epoch: 31loss: tensor(1.0110)\n",
            "epoch: 32loss: tensor(1.0081)\n",
            "epoch: 33loss: tensor(1.0082)\n",
            "epoch: 34loss: tensor(1.0035)\n",
            "epoch: 35loss: tensor(1.0023)\n",
            "epoch: 36loss: tensor(0.9996)\n",
            "epoch: 37loss: tensor(0.9972)\n",
            "epoch: 38loss: tensor(0.9951)\n",
            "epoch: 39loss: tensor(0.9934)\n",
            "epoch: 40loss: tensor(0.9907)\n",
            "epoch: 41loss: tensor(0.9923)\n",
            "epoch: 42loss: tensor(0.9913)\n",
            "epoch: 43loss: tensor(0.9871)\n",
            "epoch: 44loss: tensor(0.9837)\n",
            "epoch: 45loss: tensor(0.9856)\n",
            "epoch: 46loss: tensor(0.9812)\n",
            "epoch: 47loss: tensor(0.9828)\n",
            "epoch: 48loss: tensor(0.9793)\n",
            "epoch: 49loss: tensor(0.9812)\n",
            "epoch: 50loss: tensor(0.9788)\n",
            "epoch: 51loss: tensor(0.9758)\n",
            "epoch: 52loss: tensor(0.9713)\n",
            "epoch: 53loss: tensor(0.9763)\n",
            "epoch: 54loss: tensor(0.9698)\n",
            "epoch: 55loss: tensor(0.9698)\n",
            "epoch: 56loss: tensor(0.9695)\n",
            "epoch: 57loss: tensor(0.9710)\n",
            "epoch: 58loss: tensor(0.9667)\n",
            "epoch: 59loss: tensor(0.9686)\n",
            "epoch: 60loss: tensor(0.9652)\n",
            "epoch: 61loss: tensor(0.9646)\n",
            "epoch: 62loss: tensor(0.9616)\n",
            "epoch: 63loss: tensor(0.9632)\n",
            "epoch: 64loss: tensor(0.9565)\n",
            "epoch: 65loss: tensor(0.9614)\n",
            "epoch: 66loss: tensor(0.9529)\n",
            "epoch: 67loss: tensor(0.9542)\n",
            "epoch: 68loss: tensor(0.9533)\n",
            "epoch: 69loss: tensor(0.9538)\n",
            "epoch: 70loss: tensor(0.9500)\n",
            "epoch: 71loss: tensor(0.9525)\n",
            "epoch: 72loss: tensor(0.9496)\n",
            "epoch: 73loss: tensor(0.9502)\n",
            "epoch: 74loss: tensor(0.9473)\n",
            "epoch: 75loss: tensor(0.9466)\n",
            "epoch: 76loss: tensor(0.9442)\n",
            "epoch: 77loss: tensor(0.9451)\n",
            "epoch: 78loss: tensor(0.9433)\n",
            "epoch: 79loss: tensor(0.9438)\n",
            "epoch: 80loss: tensor(0.9410)\n",
            "epoch: 81loss: tensor(0.9418)\n",
            "epoch: 82loss: tensor(0.9402)\n",
            "epoch: 83loss: tensor(0.9415)\n",
            "epoch: 84loss: tensor(0.9387)\n",
            "epoch: 85loss: tensor(0.9397)\n",
            "epoch: 86loss: tensor(0.9390)\n",
            "epoch: 87loss: tensor(0.9386)\n",
            "epoch: 88loss: tensor(0.9375)\n",
            "epoch: 89loss: tensor(0.9375)\n",
            "epoch: 90loss: tensor(0.9368)\n",
            "epoch: 91loss: tensor(0.9370)\n",
            "epoch: 92loss: tensor(0.9364)\n",
            "epoch: 93loss: tensor(0.9357)\n",
            "epoch: 94loss: tensor(0.9353)\n",
            "epoch: 95loss: tensor(0.9352)\n",
            "epoch: 96loss: tensor(0.9343)\n",
            "epoch: 97loss: tensor(0.9345)\n",
            "epoch: 98loss: tensor(0.9332)\n",
            "epoch: 99loss: tensor(0.9338)\n",
            "epoch: 100loss: tensor(0.9329)\n",
            "epoch: 101loss: tensor(0.9330)\n",
            "epoch: 102loss: tensor(0.9321)\n",
            "epoch: 103loss: tensor(0.9321)\n",
            "epoch: 104loss: tensor(0.9317)\n",
            "epoch: 105loss: tensor(0.9315)\n",
            "epoch: 106loss: tensor(0.9311)\n",
            "epoch: 107loss: tensor(0.9314)\n",
            "epoch: 108loss: tensor(0.9307)\n",
            "epoch: 109loss: tensor(0.9306)\n",
            "epoch: 110loss: tensor(0.9300)\n",
            "epoch: 111loss: tensor(0.9299)\n",
            "epoch: 112loss: tensor(0.9298)\n",
            "epoch: 113loss: tensor(0.9301)\n",
            "epoch: 114loss: tensor(0.9292)\n",
            "epoch: 115loss: tensor(0.9296)\n",
            "epoch: 116loss: tensor(0.9288)\n",
            "epoch: 117loss: tensor(0.9291)\n",
            "epoch: 118loss: tensor(0.9282)\n",
            "epoch: 119loss: tensor(0.9284)\n",
            "epoch: 120loss: tensor(0.9276)\n",
            "epoch: 121loss: tensor(0.9281)\n",
            "epoch: 122loss: tensor(0.9268)\n",
            "epoch: 123loss: tensor(0.9277)\n",
            "epoch: 124loss: tensor(0.9267)\n",
            "epoch: 125loss: tensor(0.9271)\n",
            "epoch: 126loss: tensor(0.9261)\n",
            "epoch: 127loss: tensor(0.9266)\n",
            "epoch: 128loss: tensor(0.9255)\n",
            "epoch: 129loss: tensor(0.9261)\n",
            "epoch: 130loss: tensor(0.9254)\n",
            "epoch: 131loss: tensor(0.9257)\n",
            "epoch: 132loss: tensor(0.9247)\n",
            "epoch: 133loss: tensor(0.9251)\n",
            "epoch: 134loss: tensor(0.9243)\n",
            "epoch: 135loss: tensor(0.9247)\n",
            "epoch: 136loss: tensor(0.9238)\n",
            "epoch: 137loss: tensor(0.9242)\n",
            "epoch: 138loss: tensor(0.9233)\n",
            "epoch: 139loss: tensor(0.9239)\n",
            "epoch: 140loss: tensor(0.9230)\n",
            "epoch: 141loss: tensor(0.9234)\n",
            "epoch: 142loss: tensor(0.9225)\n",
            "epoch: 143loss: tensor(0.9229)\n",
            "epoch: 144loss: tensor(0.9222)\n",
            "epoch: 145loss: tensor(0.9223)\n",
            "epoch: 146loss: tensor(0.9217)\n",
            "epoch: 147loss: tensor(0.9218)\n",
            "epoch: 148loss: tensor(0.9214)\n",
            "epoch: 149loss: tensor(0.9214)\n",
            "epoch: 150loss: tensor(0.9210)\n",
            "epoch: 151loss: tensor(0.9212)\n",
            "epoch: 152loss: tensor(0.9206)\n",
            "epoch: 153loss: tensor(0.9210)\n",
            "epoch: 154loss: tensor(0.9200)\n",
            "epoch: 155loss: tensor(0.9204)\n",
            "epoch: 156loss: tensor(0.9198)\n",
            "epoch: 157loss: tensor(0.9202)\n",
            "epoch: 158loss: tensor(0.9193)\n",
            "epoch: 159loss: tensor(0.9198)\n",
            "epoch: 160loss: tensor(0.9193)\n",
            "epoch: 161loss: tensor(0.9194)\n",
            "epoch: 162loss: tensor(0.9197)\n",
            "epoch: 163loss: tensor(0.9263)\n",
            "epoch: 164loss: tensor(0.9227)\n",
            "epoch: 165loss: tensor(0.9232)\n",
            "epoch: 166loss: tensor(0.9215)\n",
            "epoch: 167loss: tensor(0.9215)\n",
            "epoch: 168loss: tensor(0.9203)\n",
            "epoch: 169loss: tensor(0.9213)\n",
            "epoch: 170loss: tensor(0.9198)\n",
            "epoch: 171loss: tensor(0.9203)\n",
            "epoch: 172loss: tensor(0.9192)\n",
            "epoch: 173loss: tensor(0.9192)\n",
            "epoch: 174loss: tensor(0.9186)\n",
            "epoch: 175loss: tensor(0.9190)\n",
            "epoch: 176loss: tensor(0.9181)\n",
            "epoch: 177loss: tensor(0.9184)\n",
            "epoch: 178loss: tensor(0.9177)\n",
            "epoch: 179loss: tensor(0.9180)\n",
            "epoch: 180loss: tensor(0.9172)\n",
            "epoch: 181loss: tensor(0.9177)\n",
            "epoch: 182loss: tensor(0.9171)\n",
            "epoch: 183loss: tensor(0.9174)\n",
            "epoch: 184loss: tensor(0.9166)\n",
            "epoch: 185loss: tensor(0.9169)\n",
            "epoch: 186loss: tensor(0.9162)\n",
            "epoch: 187loss: tensor(0.9166)\n",
            "epoch: 188loss: tensor(0.9158)\n",
            "epoch: 189loss: tensor(0.9159)\n",
            "epoch: 190loss: tensor(0.9152)\n",
            "epoch: 191loss: tensor(0.9156)\n",
            "epoch: 192loss: tensor(0.9153)\n",
            "epoch: 193loss: tensor(0.9156)\n",
            "epoch: 194loss: tensor(0.9150)\n",
            "epoch: 195loss: tensor(0.9151)\n",
            "epoch: 196loss: tensor(0.9145)\n",
            "epoch: 197loss: tensor(0.9152)\n",
            "epoch: 198loss: tensor(0.9147)\n",
            "epoch: 199loss: tensor(0.9144)\n",
            "epoch: 200loss: tensor(0.9142)\n"
          ]
        }
      ]
    },
    {
      "cell_type": "code",
      "source": [
        ""
      ],
      "metadata": {
        "id": "iY56a0oId3Xg"
      },
      "execution_count": 10,
      "outputs": []
    }
  ]
}