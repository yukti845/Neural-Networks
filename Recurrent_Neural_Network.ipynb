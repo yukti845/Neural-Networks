{
  "nbformat": 4,
  "nbformat_minor": 0,
  "metadata": {
    "colab": {
      "name": "Recurrent Neural Network.ipynb",
      "provenance": [],
      "authorship_tag": "ABX9TyMva+cA+TBhJZH5+1JYzUNM",
      "include_colab_link": true
    },
    "kernelspec": {
      "name": "python3",
      "display_name": "Python 3"
    },
    "language_info": {
      "name": "python"
    }
  },
  "cells": [
    {
      "cell_type": "markdown",
      "metadata": {
        "id": "view-in-github",
        "colab_type": "text"
      },
      "source": [
        "<a href=\"https://colab.research.google.com/github/yukti845/Neural-Networks/blob/main/Recurrent_Neural_Network.ipynb\" target=\"_parent\"><img src=\"https://colab.research.google.com/assets/colab-badge.svg\" alt=\"Open In Colab\"/></a>"
      ]
    },
    {
      "cell_type": "markdown",
      "metadata": {
        "id": "-_KwoV1wIXnp"
      },
      "source": [
        "# Recurrent Neural Network"
      ]
    },
    {
      "cell_type": "markdown",
      "metadata": {
        "id": "r_ur9aDMIb7w"
      },
      "source": [
        "## Part-1 Data Preprocessing"
      ]
    },
    {
      "cell_type": "markdown",
      "metadata": {
        "id": "r0z4XA83IjlZ"
      },
      "source": [
        "### Importing the Libraries"
      ]
    },
    {
      "cell_type": "code",
      "metadata": {
        "id": "44hIRt2TIRLr"
      },
      "source": [
        "import numpy as np\n",
        "import pandas as pd\n",
        "import matplotlib.pyplot as plt"
      ],
      "execution_count": 1,
      "outputs": []
    },
    {
      "cell_type": "markdown",
      "metadata": {
        "id": "fZkkR-HNI7Nr"
      },
      "source": [
        "### Importing the Training set"
      ]
    },
    {
      "cell_type": "code",
      "metadata": {
        "colab": {
          "base_uri": "https://localhost:8080/"
        },
        "id": "XymQ5z8dOQZW",
        "outputId": "15a6a953-2d18-4d9e-d46a-9be74a71d25c"
      },
      "source": [
        "from google.colab import drive\n",
        "drive.mount('/content/drive')"
      ],
      "execution_count": 2,
      "outputs": [
        {
          "output_type": "stream",
          "name": "stdout",
          "text": [
            "Mounted at /content/drive\n"
          ]
        }
      ]
    },
    {
      "cell_type": "code",
      "metadata": {
        "id": "QrFQl1s9OR03"
      },
      "source": [
        "dataset_train = pd.read_csv(\"/content/drive/MyDrive/rnn_data/Google_Stock_Price_Train.csv\")\n",
        "training_set = dataset_train.iloc[:, 1:2].values"
      ],
      "execution_count": 3,
      "outputs": []
    },
    {
      "cell_type": "markdown",
      "metadata": {
        "id": "hpXGWm4EO6iN"
      },
      "source": [
        "### Feature Scaling"
      ]
    },
    {
      "cell_type": "code",
      "metadata": {
        "id": "wnnU-JoAOwoV"
      },
      "source": [
        "from sklearn.preprocessing import MinMaxScaler"
      ],
      "execution_count": 4,
      "outputs": []
    },
    {
      "cell_type": "code",
      "metadata": {
        "id": "4jwGiuM2PESL"
      },
      "source": [
        "sc = MinMaxScaler(feature_range=(0,1))\n",
        "training_set_scaled = sc.fit_transform(training_set)"
      ],
      "execution_count": 5,
      "outputs": []
    },
    {
      "cell_type": "markdown",
      "metadata": {
        "id": "scTI0Dk9r1To"
      },
      "source": [
        "### Creating a data structure with 60 timestamps and 1 output"
      ]
    },
    {
      "cell_type": "code",
      "metadata": {
        "id": "Gt0iI0Q9PZDF"
      },
      "source": [
        "x_train = []\n",
        "y_train = []\n",
        "for i in range(60, 1258):\n",
        "  x_train.append(training_set[i-60:i, 0])\n",
        "  y_train.append(training_set[i, 0])\n",
        "x_train, y_train = np.array(x_train), np.array(y_train)"
      ],
      "execution_count": 6,
      "outputs": []
    },
    {
      "cell_type": "markdown",
      "metadata": {
        "id": "cNUdhPjImC1p"
      },
      "source": [
        "### Reshaping"
      ]
    },
    {
      "cell_type": "code",
      "metadata": {
        "id": "7VZZUlMCmByX"
      },
      "source": [
        "x_train = np.reshape(x_train, (x_train.shape[0], x_train.shape[1], 1))"
      ],
      "execution_count": 7,
      "outputs": []
    },
    {
      "cell_type": "markdown",
      "metadata": {
        "id": "Kipy3wIxmhmp"
      },
      "source": [
        "## Part-2 Building and Training the RNN"
      ]
    },
    {
      "cell_type": "code",
      "metadata": {
        "id": "QCJ6YKuTtJf7"
      },
      "source": [
        "from keras.models import Sequential\n",
        "from keras.layers import Dense\n",
        "from keras.layers import LSTM\n",
        "from keras.layers import Dropout"
      ],
      "execution_count": 8,
      "outputs": []
    },
    {
      "cell_type": "markdown",
      "metadata": {
        "id": "AmOeBYfmnLI4"
      },
      "source": [
        "### Initialising the RNN"
      ]
    },
    {
      "cell_type": "code",
      "metadata": {
        "id": "n7PStJyNm83n"
      },
      "source": [
        "regressor = Sequential()"
      ],
      "execution_count": 9,
      "outputs": []
    },
    {
      "cell_type": "markdown",
      "metadata": {
        "id": "4CNnroWBO459"
      },
      "source": [
        "### Adding the first LSTM layer and some Dropout regularisations"
      ]
    },
    {
      "cell_type": "code",
      "metadata": {
        "id": "nuU42wopnQQv"
      },
      "source": [
        "regressor.add(LSTM(units=50, return_sequences=True, input_shape=(x_train.shape[1], 1)))\n",
        "regressor.add(Dropout(0.2))"
      ],
      "execution_count": 10,
      "outputs": []
    },
    {
      "cell_type": "markdown",
      "metadata": {
        "id": "CKxs3-Jy1w0r"
      },
      "source": [
        "### Adding second LSTM layer and some Dropout regularisation"
      ]
    },
    {
      "cell_type": "code",
      "metadata": {
        "id": "uz21wD9-Pap7"
      },
      "source": [
        "regressor.add(LSTM(units=50, return_sequences=True))\n",
        "regressor.add(Dropout(0.2))"
      ],
      "execution_count": 11,
      "outputs": []
    },
    {
      "cell_type": "markdown",
      "metadata": {
        "id": "9t7u9I7T2P22"
      },
      "source": [
        "### Adding third LSTM layer and some Dropout regularisation "
      ]
    },
    {
      "cell_type": "code",
      "metadata": {
        "id": "Jh__lbvf2HJE"
      },
      "source": [
        "regressor.add(LSTM(units=50, return_sequences=True))\n",
        "regressor.add(Dropout(0.2))"
      ],
      "execution_count": 12,
      "outputs": []
    },
    {
      "cell_type": "markdown",
      "metadata": {
        "id": "IL6iF7B42k2a"
      },
      "source": [
        "### Adding fourth LSTM layer and some Dropout regularisation"
      ]
    },
    {
      "cell_type": "code",
      "metadata": {
        "id": "RIHTTRLX2e0U"
      },
      "source": [
        "regressor.add(LSTM(units=50))\n",
        "regressor.add(Dropout(0.2))"
      ],
      "execution_count": 13,
      "outputs": []
    },
    {
      "cell_type": "markdown",
      "metadata": {
        "id": "5xRug-2s26ux"
      },
      "source": [
        "### Adding the output layer"
      ]
    },
    {
      "cell_type": "code",
      "metadata": {
        "id": "lVihl4Bd21UP"
      },
      "source": [
        "regressor.add(Dense(units=1))"
      ],
      "execution_count": 14,
      "outputs": []
    },
    {
      "cell_type": "markdown",
      "metadata": {
        "id": "4NOhx8x5BP7p"
      },
      "source": [
        "### Compiling the RNN"
      ]
    },
    {
      "cell_type": "code",
      "metadata": {
        "id": "J23QsO8y3BmJ"
      },
      "source": [
        "regressor.compile(optimizer='adam', loss='mean_squared_error')"
      ],
      "execution_count": 15,
      "outputs": []
    },
    {
      "cell_type": "markdown",
      "metadata": {
        "id": "TpL6R8RVB15s"
      },
      "source": [
        "### Fitting the RNN to the Training set"
      ]
    },
    {
      "cell_type": "code",
      "metadata": {
        "colab": {
          "base_uri": "https://localhost:8080/"
        },
        "id": "oz9Kt0uOBlIN",
        "outputId": "16f47a1a-6525-454f-dbb4-9cfba7361ce2"
      },
      "source": [
        "regressor.fit(x_train, y_train, epochs=100, batch_size=32)"
      ],
      "execution_count": 16,
      "outputs": [
        {
          "output_type": "stream",
          "name": "stdout",
          "text": [
            "Epoch 1/100\n",
            "38/38 [==============================] - 11s 119ms/step - loss: 313335.3438\n",
            "Epoch 2/100\n",
            "38/38 [==============================] - 4s 118ms/step - loss: 307612.1875\n",
            "Epoch 3/100\n",
            "38/38 [==============================] - 5s 122ms/step - loss: 304902.6875\n",
            "Epoch 4/100\n",
            "38/38 [==============================] - 5s 120ms/step - loss: 302615.6875\n",
            "Epoch 5/100\n",
            "38/38 [==============================] - 5s 120ms/step - loss: 300419.6250\n",
            "Epoch 6/100\n",
            "38/38 [==============================] - 4s 118ms/step - loss: 298159.0000\n",
            "Epoch 7/100\n",
            "38/38 [==============================] - 5s 121ms/step - loss: 295994.4062\n",
            "Epoch 8/100\n",
            "38/38 [==============================] - 5s 120ms/step - loss: 293906.7188\n",
            "Epoch 9/100\n",
            "38/38 [==============================] - 5s 119ms/step - loss: 291812.1250\n",
            "Epoch 10/100\n",
            "38/38 [==============================] - 5s 120ms/step - loss: 289786.1562\n",
            "Epoch 11/100\n",
            "38/38 [==============================] - 5s 119ms/step - loss: 287739.3125\n",
            "Epoch 12/100\n",
            "38/38 [==============================] - 5s 119ms/step - loss: 285788.7500\n",
            "Epoch 13/100\n",
            "38/38 [==============================] - 5s 120ms/step - loss: 283855.6250\n",
            "Epoch 14/100\n",
            "38/38 [==============================] - 5s 121ms/step - loss: 281796.5000\n",
            "Epoch 15/100\n",
            "38/38 [==============================] - 5s 119ms/step - loss: 279854.9375\n",
            "Epoch 16/100\n",
            "38/38 [==============================] - 5s 119ms/step - loss: 277884.5938\n",
            "Epoch 17/100\n",
            "38/38 [==============================] - 5s 118ms/step - loss: 275909.9688\n",
            "Epoch 18/100\n",
            "38/38 [==============================] - 5s 121ms/step - loss: 274040.1875\n",
            "Epoch 19/100\n",
            "38/38 [==============================] - 4s 118ms/step - loss: 272048.6562\n",
            "Epoch 20/100\n",
            "38/38 [==============================] - 5s 120ms/step - loss: 270280.8438\n",
            "Epoch 21/100\n",
            "38/38 [==============================] - 5s 120ms/step - loss: 268415.3438\n",
            "Epoch 22/100\n",
            "38/38 [==============================] - 5s 119ms/step - loss: 266481.7500\n",
            "Epoch 23/100\n",
            "38/38 [==============================] - 5s 120ms/step - loss: 264523.7500\n",
            "Epoch 24/100\n",
            "38/38 [==============================] - 5s 121ms/step - loss: 263101.0000\n",
            "Epoch 25/100\n",
            "38/38 [==============================] - 5s 120ms/step - loss: 260863.2500\n",
            "Epoch 26/100\n",
            "38/38 [==============================] - 5s 119ms/step - loss: 259115.9688\n",
            "Epoch 27/100\n",
            "38/38 [==============================] - 5s 119ms/step - loss: 257271.1875\n",
            "Epoch 28/100\n",
            "38/38 [==============================] - 5s 120ms/step - loss: 255504.7812\n",
            "Epoch 29/100\n",
            "38/38 [==============================] - 5s 119ms/step - loss: 253830.5156\n",
            "Epoch 30/100\n",
            "38/38 [==============================] - 5s 121ms/step - loss: 251684.4531\n",
            "Epoch 31/100\n",
            "38/38 [==============================] - 5s 121ms/step - loss: 250162.1562\n",
            "Epoch 32/100\n",
            "38/38 [==============================] - 5s 121ms/step - loss: 248378.4219\n",
            "Epoch 33/100\n",
            "38/38 [==============================] - 5s 120ms/step - loss: 246337.8906\n",
            "Epoch 34/100\n",
            "38/38 [==============================] - 5s 121ms/step - loss: 244810.4219\n",
            "Epoch 35/100\n",
            "38/38 [==============================] - 5s 120ms/step - loss: 243211.7500\n",
            "Epoch 36/100\n",
            "38/38 [==============================] - 5s 119ms/step - loss: 241511.8594\n",
            "Epoch 37/100\n",
            "38/38 [==============================] - 5s 119ms/step - loss: 239602.5625\n",
            "Epoch 38/100\n",
            "38/38 [==============================] - 5s 119ms/step - loss: 237929.9844\n",
            "Epoch 39/100\n",
            "38/38 [==============================] - 5s 122ms/step - loss: 236146.9375\n",
            "Epoch 40/100\n",
            "38/38 [==============================] - 5s 121ms/step - loss: 234838.0312\n",
            "Epoch 41/100\n",
            "38/38 [==============================] - 5s 121ms/step - loss: 232968.0938\n",
            "Epoch 42/100\n",
            "38/38 [==============================] - 5s 121ms/step - loss: 231278.9062\n",
            "Epoch 43/100\n",
            "38/38 [==============================] - 5s 121ms/step - loss: 229645.8438\n",
            "Epoch 44/100\n",
            "38/38 [==============================] - 5s 119ms/step - loss: 227805.8594\n",
            "Epoch 45/100\n",
            "38/38 [==============================] - 5s 119ms/step - loss: 226602.2500\n",
            "Epoch 46/100\n",
            "38/38 [==============================] - 5s 122ms/step - loss: 224834.0781\n",
            "Epoch 47/100\n",
            "38/38 [==============================] - 5s 119ms/step - loss: 223037.1094\n",
            "Epoch 48/100\n",
            "38/38 [==============================] - 5s 122ms/step - loss: 221264.0625\n",
            "Epoch 49/100\n",
            "38/38 [==============================] - 5s 122ms/step - loss: 219829.2969\n",
            "Epoch 50/100\n",
            "38/38 [==============================] - 5s 121ms/step - loss: 218529.3281\n",
            "Epoch 51/100\n",
            "38/38 [==============================] - 5s 121ms/step - loss: 216991.6094\n",
            "Epoch 52/100\n",
            "38/38 [==============================] - 5s 122ms/step - loss: 215215.5312\n",
            "Epoch 53/100\n",
            "38/38 [==============================] - 5s 120ms/step - loss: 213582.4844\n",
            "Epoch 54/100\n",
            "38/38 [==============================] - 5s 119ms/step - loss: 211966.2969\n",
            "Epoch 55/100\n",
            "38/38 [==============================] - 5s 120ms/step - loss: 210354.7969\n",
            "Epoch 56/100\n",
            "38/38 [==============================] - 5s 120ms/step - loss: 209014.2656\n",
            "Epoch 57/100\n",
            "38/38 [==============================] - 5s 121ms/step - loss: 207561.2969\n",
            "Epoch 58/100\n",
            "38/38 [==============================] - 5s 120ms/step - loss: 206016.3281\n",
            "Epoch 59/100\n",
            "38/38 [==============================] - 5s 123ms/step - loss: 204075.3906\n",
            "Epoch 60/100\n",
            "38/38 [==============================] - 5s 121ms/step - loss: 202476.2812\n",
            "Epoch 61/100\n",
            "38/38 [==============================] - 5s 119ms/step - loss: 201165.9531\n",
            "Epoch 62/100\n",
            "38/38 [==============================] - 4s 118ms/step - loss: 199198.6719\n",
            "Epoch 63/100\n",
            "38/38 [==============================] - 5s 121ms/step - loss: 198110.1094\n",
            "Epoch 64/100\n",
            "38/38 [==============================] - 5s 120ms/step - loss: 196075.6094\n",
            "Epoch 65/100\n",
            "38/38 [==============================] - 5s 121ms/step - loss: 195302.2031\n",
            "Epoch 66/100\n",
            "38/38 [==============================] - 5s 120ms/step - loss: 193805.0938\n",
            "Epoch 67/100\n",
            "38/38 [==============================] - 5s 122ms/step - loss: 192613.4375\n",
            "Epoch 68/100\n",
            "38/38 [==============================] - 5s 121ms/step - loss: 191228.5312\n",
            "Epoch 69/100\n",
            "38/38 [==============================] - 5s 119ms/step - loss: 189537.4375\n",
            "Epoch 70/100\n",
            "38/38 [==============================] - 5s 121ms/step - loss: 187755.5938\n",
            "Epoch 71/100\n",
            "38/38 [==============================] - 5s 121ms/step - loss: 186879.7656\n",
            "Epoch 72/100\n",
            "38/38 [==============================] - 5s 120ms/step - loss: 185038.3906\n",
            "Epoch 73/100\n",
            "38/38 [==============================] - 5s 119ms/step - loss: 183887.0156\n",
            "Epoch 74/100\n",
            "38/38 [==============================] - 5s 119ms/step - loss: 182786.4531\n",
            "Epoch 75/100\n",
            "38/38 [==============================] - 5s 120ms/step - loss: 180767.3906\n",
            "Epoch 76/100\n",
            "38/38 [==============================] - 5s 119ms/step - loss: 178837.4844\n",
            "Epoch 77/100\n",
            "38/38 [==============================] - 5s 120ms/step - loss: 177642.1562\n",
            "Epoch 78/100\n",
            "38/38 [==============================] - 5s 120ms/step - loss: 176995.7344\n",
            "Epoch 79/100\n",
            "38/38 [==============================] - 5s 121ms/step - loss: 175456.9531\n",
            "Epoch 80/100\n",
            "38/38 [==============================] - 5s 119ms/step - loss: 173886.1094\n",
            "Epoch 81/100\n",
            "38/38 [==============================] - 5s 120ms/step - loss: 172798.5312\n",
            "Epoch 82/100\n",
            "38/38 [==============================] - 5s 120ms/step - loss: 171523.7344\n",
            "Epoch 83/100\n",
            "38/38 [==============================] - 5s 120ms/step - loss: 169918.8281\n",
            "Epoch 84/100\n",
            "38/38 [==============================] - 5s 119ms/step - loss: 168723.7031\n",
            "Epoch 85/100\n",
            "38/38 [==============================] - 5s 121ms/step - loss: 166995.0781\n",
            "Epoch 86/100\n",
            "38/38 [==============================] - 5s 120ms/step - loss: 165884.2812\n",
            "Epoch 87/100\n",
            "38/38 [==============================] - 5s 121ms/step - loss: 164798.7656\n",
            "Epoch 88/100\n",
            "38/38 [==============================] - 5s 119ms/step - loss: 163257.3438\n",
            "Epoch 89/100\n",
            "38/38 [==============================] - 5s 120ms/step - loss: 162223.6406\n",
            "Epoch 90/100\n",
            "38/38 [==============================] - 5s 122ms/step - loss: 160994.2656\n",
            "Epoch 91/100\n",
            "38/38 [==============================] - 5s 119ms/step - loss: 159548.5938\n",
            "Epoch 92/100\n",
            "38/38 [==============================] - 5s 122ms/step - loss: 158190.2031\n",
            "Epoch 93/100\n",
            "38/38 [==============================] - 5s 120ms/step - loss: 156958.5000\n",
            "Epoch 94/100\n",
            "38/38 [==============================] - 5s 121ms/step - loss: 155869.5781\n",
            "Epoch 95/100\n",
            "38/38 [==============================] - 5s 120ms/step - loss: 154123.8125\n",
            "Epoch 96/100\n",
            "38/38 [==============================] - 5s 119ms/step - loss: 153259.6406\n",
            "Epoch 97/100\n",
            "38/38 [==============================] - 5s 120ms/step - loss: 151866.0469\n",
            "Epoch 98/100\n",
            "38/38 [==============================] - 5s 122ms/step - loss: 150298.9531\n",
            "Epoch 99/100\n",
            "38/38 [==============================] - 5s 121ms/step - loss: 148989.6094\n",
            "Epoch 100/100\n",
            "38/38 [==============================] - 5s 119ms/step - loss: 148644.2500\n"
          ]
        },
        {
          "output_type": "execute_result",
          "data": {
            "text/plain": [
              "<keras.callbacks.History at 0x7fe6720b5c50>"
            ]
          },
          "metadata": {},
          "execution_count": 16
        }
      ]
    },
    {
      "cell_type": "markdown",
      "metadata": {
        "id": "GCrGyYPXNCm3"
      },
      "source": [
        "## Part-3 Making the predictions and visualizing the results"
      ]
    },
    {
      "cell_type": "markdown",
      "metadata": {
        "id": "pqo9x7J8NL_1"
      },
      "source": [
        "### Getting the real stock price of 2017"
      ]
    },
    {
      "cell_type": "code",
      "metadata": {
        "id": "cSdrlZgsCBS4"
      },
      "source": [
        "dataset_test = pd.read_csv(\"/content/drive/MyDrive/rnn_data/Google_Stock_Price_Test.csv\")\n",
        "real_stock_price =dataset_test.iloc[:, 1:2].values"
      ],
      "execution_count": 17,
      "outputs": []
    },
    {
      "cell_type": "markdown",
      "metadata": {
        "id": "Ea5EcFMnNsl_"
      },
      "source": [
        "### Getting the predicted stock price of 2017"
      ]
    },
    {
      "cell_type": "code",
      "metadata": {
        "id": "rpT2PRdONrnI"
      },
      "source": [
        "dataset_total = pd.concat((dataset_train['Open'], dataset_test['Open']), axis=0)\n",
        "inputs = dataset_total[len(dataset_total) - len(dataset_test) - 60:].values\n",
        "inputs = inputs.reshape(-1,1)\n",
        "inputs = sc.transform(inputs)\n",
        "x_test = []\n",
        "for i in range(60,80):\n",
        "  x_test.append(inputs[i-60:i, 0])\n",
        "x_test = np.array(x_test)\n",
        "x_test = np.reshape(x_test, (x_test.shape[0], x_test.shape[1], 1))\n",
        "predicted_stock_price = regressor.predict(x_test)\n",
        "predicted_stock_price = sc.inverse_transform(predicted_stock_price) "
      ],
      "execution_count": 19,
      "outputs": []
    },
    {
      "cell_type": "code",
      "metadata": {
        "id": "MgeupX7tQH-y"
      },
      "source": [
        ""
      ],
      "execution_count": null,
      "outputs": []
    }
  ]
}