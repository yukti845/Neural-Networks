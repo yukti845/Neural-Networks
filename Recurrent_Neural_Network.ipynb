{
  "nbformat": 4,
  "nbformat_minor": 0,
  "metadata": {
    "colab": {
      "name": "Recurrent Neural Network.ipynb",
      "provenance": [],
      "authorship_tag": "ABX9TyM/lH8ySav8jBWz/jzfTQtx",
      "include_colab_link": true
    },
    "kernelspec": {
      "name": "python3",
      "display_name": "Python 3"
    },
    "language_info": {
      "name": "python"
    }
  },
  "cells": [
    {
      "cell_type": "markdown",
      "metadata": {
        "id": "view-in-github",
        "colab_type": "text"
      },
      "source": [
        "<a href=\"https://colab.research.google.com/github/yukti845/Neural-Networks/blob/main/Recurrent_Neural_Network.ipynb\" target=\"_parent\"><img src=\"https://colab.research.google.com/assets/colab-badge.svg\" alt=\"Open In Colab\"/></a>"
      ]
    },
    {
      "cell_type": "markdown",
      "metadata": {
        "id": "-_KwoV1wIXnp"
      },
      "source": [
        "# Recurrent Neural Network"
      ]
    },
    {
      "cell_type": "markdown",
      "metadata": {
        "id": "r_ur9aDMIb7w"
      },
      "source": [
        "## Part-1 Data Preprocessing"
      ]
    },
    {
      "cell_type": "markdown",
      "metadata": {
        "id": "r0z4XA83IjlZ"
      },
      "source": [
        "### Importing the Libraries"
      ]
    },
    {
      "cell_type": "code",
      "metadata": {
        "id": "44hIRt2TIRLr"
      },
      "source": [
        "import numpy as np\n",
        "import pandas as pd\n",
        "import matplotlib.pyplot as plt"
      ],
      "execution_count": 1,
      "outputs": []
    },
    {
      "cell_type": "markdown",
      "metadata": {
        "id": "fZkkR-HNI7Nr"
      },
      "source": [
        "### Importing the Training set"
      ]
    },
    {
      "cell_type": "code",
      "metadata": {
        "colab": {
          "base_uri": "https://localhost:8080/"
        },
        "id": "XymQ5z8dOQZW",
        "outputId": "172cdc53-0c69-4346-f230-920781f860b5"
      },
      "source": [
        "from google.colab import drive\n",
        "drive.mount('/content/drive')"
      ],
      "execution_count": 2,
      "outputs": [
        {
          "output_type": "stream",
          "name": "stdout",
          "text": [
            "Mounted at /content/drive\n"
          ]
        }
      ]
    },
    {
      "cell_type": "code",
      "metadata": {
        "id": "QrFQl1s9OR03"
      },
      "source": [
        "dataset_train = pd.read_csv(\"/content/drive/MyDrive/rnn_data/Google_Stock_Price_Train.csv\")\n",
        "training_set = dataset_train.iloc[:, 1:2].values"
      ],
      "execution_count": 3,
      "outputs": []
    },
    {
      "cell_type": "markdown",
      "metadata": {
        "id": "hpXGWm4EO6iN"
      },
      "source": [
        "### Feature Scaling"
      ]
    },
    {
      "cell_type": "code",
      "metadata": {
        "id": "wnnU-JoAOwoV"
      },
      "source": [
        "from sklearn.preprocessing import MinMaxScaler"
      ],
      "execution_count": 4,
      "outputs": []
    },
    {
      "cell_type": "code",
      "metadata": {
        "id": "4jwGiuM2PESL"
      },
      "source": [
        "sc = MinMaxScaler(feature_range=(0,1))\n",
        "training_set_scaled = sc.fit_transform(training_set)"
      ],
      "execution_count": 5,
      "outputs": []
    },
    {
      "cell_type": "markdown",
      "metadata": {
        "id": "scTI0Dk9r1To"
      },
      "source": [
        "### Creating a data structure with 60 timestamps and 1 output"
      ]
    },
    {
      "cell_type": "code",
      "metadata": {
        "id": "Gt0iI0Q9PZDF"
      },
      "source": [
        "x_train = []\n",
        "y_train = []\n",
        "for i in range(60, 1258):\n",
        "  x_train.append(training_set[i-60:i, 0])\n",
        "  y_train.append(training_set[i, 0])\n",
        "x_train, y_train = np.array(x_train), np.array(y_train)"
      ],
      "execution_count": 6,
      "outputs": []
    },
    {
      "cell_type": "markdown",
      "metadata": {
        "id": "cNUdhPjImC1p"
      },
      "source": [
        "### Reshaping"
      ]
    },
    {
      "cell_type": "code",
      "metadata": {
        "id": "7VZZUlMCmByX"
      },
      "source": [
        "x_train = np.reshape(x_train, (x_train.shape[0], x_train.shape[1], 1))"
      ],
      "execution_count": 7,
      "outputs": []
    },
    {
      "cell_type": "markdown",
      "metadata": {
        "id": "Kipy3wIxmhmp"
      },
      "source": [
        "## Part-2 Building and Training the RNN"
      ]
    },
    {
      "cell_type": "code",
      "metadata": {
        "id": "QCJ6YKuTtJf7"
      },
      "source": [
        "from keras.models import Sequential\n",
        "from keras.layers import Dense\n",
        "from keras.layers import LSTM\n",
        "from keras.layers import Dropout"
      ],
      "execution_count": 8,
      "outputs": []
    },
    {
      "cell_type": "markdown",
      "metadata": {
        "id": "AmOeBYfmnLI4"
      },
      "source": [
        "### Initialising the RNN"
      ]
    },
    {
      "cell_type": "code",
      "metadata": {
        "id": "n7PStJyNm83n"
      },
      "source": [
        "regressor = Sequential()"
      ],
      "execution_count": 9,
      "outputs": []
    },
    {
      "cell_type": "markdown",
      "metadata": {
        "id": "4CNnroWBO459"
      },
      "source": [
        "### Adding the first LSTM layer and some Dropout regularisations"
      ]
    },
    {
      "cell_type": "code",
      "metadata": {
        "id": "nuU42wopnQQv"
      },
      "source": [
        "regressor.add(LSTM(units=50, return_sequences=True, input_shape=(x_train.shape[1], 1)))\n",
        "regressor.add(Dropout(0.2))"
      ],
      "execution_count": 10,
      "outputs": []
    },
    {
      "cell_type": "markdown",
      "metadata": {
        "id": "CKxs3-Jy1w0r"
      },
      "source": [
        "### Adding second LSTM layer and some Dropout regularisation"
      ]
    },
    {
      "cell_type": "code",
      "metadata": {
        "id": "uz21wD9-Pap7"
      },
      "source": [
        "regressor.add(LSTM(units=50, return_sequences=True))\n",
        "regressor.add(Dropout(0.2))"
      ],
      "execution_count": 11,
      "outputs": []
    },
    {
      "cell_type": "markdown",
      "metadata": {
        "id": "9t7u9I7T2P22"
      },
      "source": [
        "### Adding third LSTM layer and some Dropout regularisation "
      ]
    },
    {
      "cell_type": "code",
      "metadata": {
        "id": "Jh__lbvf2HJE"
      },
      "source": [
        "regressor.add(LSTM(units=50, return_sequences=True))\n",
        "regressor.add(Dropout(0.2))"
      ],
      "execution_count": 12,
      "outputs": []
    },
    {
      "cell_type": "markdown",
      "metadata": {
        "id": "IL6iF7B42k2a"
      },
      "source": [
        "### Adding fourth LSTM layer and some Dropout regularisation"
      ]
    },
    {
      "cell_type": "code",
      "metadata": {
        "id": "RIHTTRLX2e0U"
      },
      "source": [
        "regressor.add(LSTM(units=50))\n",
        "regressor.add(Dropout(0.2))"
      ],
      "execution_count": 13,
      "outputs": []
    },
    {
      "cell_type": "markdown",
      "metadata": {
        "id": "5xRug-2s26ux"
      },
      "source": [
        "### Adding the output layer"
      ]
    },
    {
      "cell_type": "code",
      "metadata": {
        "id": "lVihl4Bd21UP"
      },
      "source": [
        "regressor.add(Dense(units=1))"
      ],
      "execution_count": 14,
      "outputs": []
    },
    {
      "cell_type": "markdown",
      "metadata": {
        "id": "4NOhx8x5BP7p"
      },
      "source": [
        "### Compiling the RNN"
      ]
    },
    {
      "cell_type": "code",
      "metadata": {
        "id": "J23QsO8y3BmJ"
      },
      "source": [
        "regressor.compile(optimizer='adam', loss='mean_squared_error')"
      ],
      "execution_count": 17,
      "outputs": []
    },
    {
      "cell_type": "markdown",
      "metadata": {
        "id": "TpL6R8RVB15s"
      },
      "source": [
        "### Fitting the RNN to the Training set"
      ]
    },
    {
      "cell_type": "code",
      "metadata": {
        "colab": {
          "base_uri": "https://localhost:8080/"
        },
        "id": "oz9Kt0uOBlIN",
        "outputId": "d51644d0-d172-4a80-efa5-4b6c756eb6a2"
      },
      "source": [
        "regressor.fit(x_train, y_train, epochs=100, batch_size=32)"
      ],
      "execution_count": 18,
      "outputs": [
        {
          "output_type": "stream",
          "name": "stdout",
          "text": [
            "Epoch 1/100\n",
            "38/38 [==============================] - 11s 118ms/step - loss: 314281.2188\n",
            "Epoch 2/100\n",
            "38/38 [==============================] - 5s 118ms/step - loss: 308706.2500\n",
            "Epoch 3/100\n",
            "38/38 [==============================] - 5s 119ms/step - loss: 306112.2812\n",
            "Epoch 4/100\n",
            "38/38 [==============================] - 5s 120ms/step - loss: 303830.1250\n",
            "Epoch 5/100\n",
            "38/38 [==============================] - 5s 120ms/step - loss: 301619.2188\n",
            "Epoch 6/100\n",
            "38/38 [==============================] - 5s 119ms/step - loss: 299335.4375\n",
            "Epoch 7/100\n",
            "38/38 [==============================] - 5s 119ms/step - loss: 297237.0625\n",
            "Epoch 8/100\n",
            "38/38 [==============================] - 5s 119ms/step - loss: 295067.1250\n",
            "Epoch 9/100\n",
            "38/38 [==============================] - 5s 120ms/step - loss: 293045.2188\n",
            "Epoch 10/100\n",
            "38/38 [==============================] - 5s 122ms/step - loss: 290981.7500\n",
            "Epoch 11/100\n",
            "38/38 [==============================] - 4s 118ms/step - loss: 288957.1562\n",
            "Epoch 12/100\n",
            "38/38 [==============================] - 5s 119ms/step - loss: 286967.8125\n",
            "Epoch 13/100\n",
            "38/38 [==============================] - 5s 118ms/step - loss: 285015.2188\n",
            "Epoch 14/100\n",
            "38/38 [==============================] - 5s 118ms/step - loss: 282951.0938\n",
            "Epoch 15/100\n",
            "38/38 [==============================] - 5s 119ms/step - loss: 281065.2812\n",
            "Epoch 16/100\n",
            "38/38 [==============================] - 4s 117ms/step - loss: 279287.6562\n",
            "Epoch 17/100\n",
            "38/38 [==============================] - 5s 119ms/step - loss: 277175.5938\n",
            "Epoch 18/100\n",
            "38/38 [==============================] - 5s 118ms/step - loss: 275259.5938\n",
            "Epoch 19/100\n",
            "38/38 [==============================] - 4s 117ms/step - loss: 273510.8125\n",
            "Epoch 20/100\n",
            "38/38 [==============================] - 5s 120ms/step - loss: 271574.0312\n",
            "Epoch 21/100\n",
            "38/38 [==============================] - 4s 117ms/step - loss: 269745.1875\n",
            "Epoch 22/100\n",
            "38/38 [==============================] - 4s 118ms/step - loss: 267909.2812\n",
            "Epoch 23/100\n",
            "38/38 [==============================] - 5s 119ms/step - loss: 265954.3750\n",
            "Epoch 24/100\n",
            "38/38 [==============================] - 5s 119ms/step - loss: 264153.7812\n",
            "Epoch 25/100\n",
            "38/38 [==============================] - 5s 119ms/step - loss: 262364.9688\n",
            "Epoch 26/100\n",
            "38/38 [==============================] - 5s 121ms/step - loss: 260475.7812\n",
            "Epoch 27/100\n",
            "38/38 [==============================] - 5s 122ms/step - loss: 258991.4688\n",
            "Epoch 28/100\n",
            "38/38 [==============================] - 5s 122ms/step - loss: 256908.0781\n",
            "Epoch 29/100\n",
            "38/38 [==============================] - 5s 121ms/step - loss: 255322.4375\n",
            "Epoch 30/100\n",
            "38/38 [==============================] - 5s 122ms/step - loss: 253220.0000\n",
            "Epoch 31/100\n",
            "38/38 [==============================] - 5s 122ms/step - loss: 251592.3906\n",
            "Epoch 32/100\n",
            "38/38 [==============================] - 5s 121ms/step - loss: 249883.4531\n",
            "Epoch 33/100\n",
            "38/38 [==============================] - 5s 121ms/step - loss: 248146.8906\n",
            "Epoch 34/100\n",
            "38/38 [==============================] - 5s 119ms/step - loss: 246582.1719\n",
            "Epoch 35/100\n",
            "38/38 [==============================] - 5s 119ms/step - loss: 244890.8750\n",
            "Epoch 36/100\n",
            "38/38 [==============================] - 5s 119ms/step - loss: 243192.2344\n",
            "Epoch 37/100\n",
            "38/38 [==============================] - 5s 119ms/step - loss: 241524.1094\n",
            "Epoch 38/100\n",
            "38/38 [==============================] - 5s 120ms/step - loss: 239656.8750\n",
            "Epoch 39/100\n",
            "38/38 [==============================] - 5s 119ms/step - loss: 237401.3438\n",
            "Epoch 40/100\n",
            "38/38 [==============================] - 5s 121ms/step - loss: 236032.9062\n",
            "Epoch 41/100\n",
            "38/38 [==============================] - 5s 120ms/step - loss: 234185.5156\n",
            "Epoch 42/100\n",
            "38/38 [==============================] - 5s 120ms/step - loss: 232760.1250\n",
            "Epoch 43/100\n",
            "38/38 [==============================] - 5s 120ms/step - loss: 230882.3438\n",
            "Epoch 44/100\n",
            "38/38 [==============================] - 4s 118ms/step - loss: 228999.3438\n",
            "Epoch 45/100\n",
            "38/38 [==============================] - 5s 120ms/step - loss: 227576.8750\n",
            "Epoch 46/100\n",
            "38/38 [==============================] - 5s 120ms/step - loss: 225851.6719\n",
            "Epoch 47/100\n",
            "38/38 [==============================] - 5s 121ms/step - loss: 224234.8438\n",
            "Epoch 48/100\n",
            "38/38 [==============================] - 5s 120ms/step - loss: 222659.8594\n",
            "Epoch 49/100\n",
            "38/38 [==============================] - 5s 119ms/step - loss: 220964.5781\n",
            "Epoch 50/100\n",
            "38/38 [==============================] - 5s 119ms/step - loss: 219073.6406\n",
            "Epoch 51/100\n",
            "38/38 [==============================] - 5s 120ms/step - loss: 217672.2344\n",
            "Epoch 52/100\n",
            "38/38 [==============================] - 5s 118ms/step - loss: 216069.8906\n",
            "Epoch 53/100\n",
            "38/38 [==============================] - 5s 120ms/step - loss: 214615.0469\n",
            "Epoch 54/100\n",
            "38/38 [==============================] - 5s 122ms/step - loss: 212788.4844\n",
            "Epoch 55/100\n",
            "38/38 [==============================] - 5s 121ms/step - loss: 211251.0938\n",
            "Epoch 56/100\n",
            "38/38 [==============================] - 5s 120ms/step - loss: 209564.7344\n",
            "Epoch 57/100\n",
            "38/38 [==============================] - 5s 120ms/step - loss: 208089.9375\n",
            "Epoch 58/100\n",
            "38/38 [==============================] - 5s 120ms/step - loss: 206325.8906\n",
            "Epoch 59/100\n",
            "38/38 [==============================] - 5s 119ms/step - loss: 205397.0938\n",
            "Epoch 60/100\n",
            "38/38 [==============================] - 5s 122ms/step - loss: 203684.4375\n",
            "Epoch 61/100\n",
            "38/38 [==============================] - 5s 122ms/step - loss: 201893.5938\n",
            "Epoch 62/100\n",
            "38/38 [==============================] - 5s 120ms/step - loss: 200367.6719\n",
            "Epoch 63/100\n",
            "38/38 [==============================] - 5s 120ms/step - loss: 198823.8281\n",
            "Epoch 64/100\n",
            "38/38 [==============================] - 5s 121ms/step - loss: 197599.6406\n",
            "Epoch 65/100\n",
            "38/38 [==============================] - 5s 122ms/step - loss: 195923.1719\n",
            "Epoch 66/100\n",
            "38/38 [==============================] - 5s 122ms/step - loss: 194588.4531\n",
            "Epoch 67/100\n",
            "38/38 [==============================] - 5s 120ms/step - loss: 192701.8438\n",
            "Epoch 68/100\n",
            "38/38 [==============================] - 5s 120ms/step - loss: 191611.7188\n",
            "Epoch 69/100\n",
            "38/38 [==============================] - 5s 123ms/step - loss: 189799.7812\n",
            "Epoch 70/100\n",
            "38/38 [==============================] - 5s 121ms/step - loss: 188729.0625\n",
            "Epoch 71/100\n",
            "38/38 [==============================] - 5s 120ms/step - loss: 187158.0156\n",
            "Epoch 72/100\n",
            "38/38 [==============================] - 5s 121ms/step - loss: 185721.3125\n",
            "Epoch 73/100\n",
            "38/38 [==============================] - 5s 121ms/step - loss: 184572.9062\n",
            "Epoch 74/100\n",
            "38/38 [==============================] - 5s 122ms/step - loss: 183148.0625\n",
            "Epoch 75/100\n",
            "38/38 [==============================] - 5s 120ms/step - loss: 181675.1875\n",
            "Epoch 76/100\n",
            "38/38 [==============================] - 5s 121ms/step - loss: 179853.8125\n",
            "Epoch 77/100\n",
            "38/38 [==============================] - 5s 120ms/step - loss: 178558.8125\n",
            "Epoch 78/100\n",
            "38/38 [==============================] - 5s 120ms/step - loss: 177788.9219\n",
            "Epoch 79/100\n",
            "38/38 [==============================] - 5s 122ms/step - loss: 176077.3594\n",
            "Epoch 80/100\n",
            "38/38 [==============================] - 5s 119ms/step - loss: 174475.7188\n",
            "Epoch 81/100\n",
            "38/38 [==============================] - 5s 119ms/step - loss: 172960.2344\n",
            "Epoch 82/100\n",
            "38/38 [==============================] - 5s 120ms/step - loss: 171664.5625\n",
            "Epoch 83/100\n",
            "38/38 [==============================] - 5s 121ms/step - loss: 170761.5156\n",
            "Epoch 84/100\n",
            "38/38 [==============================] - 5s 120ms/step - loss: 169108.1875\n",
            "Epoch 85/100\n",
            "38/38 [==============================] - 5s 118ms/step - loss: 168041.7188\n",
            "Epoch 86/100\n",
            "38/38 [==============================] - 5s 118ms/step - loss: 166885.4688\n",
            "Epoch 87/100\n",
            "38/38 [==============================] - 5s 120ms/step - loss: 165576.3906\n",
            "Epoch 88/100\n",
            "38/38 [==============================] - 5s 121ms/step - loss: 163890.7969\n",
            "Epoch 89/100\n",
            "38/38 [==============================] - 5s 121ms/step - loss: 162620.9688\n",
            "Epoch 90/100\n",
            "38/38 [==============================] - 5s 119ms/step - loss: 161158.7500\n",
            "Epoch 91/100\n",
            "38/38 [==============================] - 5s 120ms/step - loss: 159953.4531\n",
            "Epoch 92/100\n",
            "38/38 [==============================] - 5s 120ms/step - loss: 158702.4844\n",
            "Epoch 93/100\n",
            "38/38 [==============================] - 4s 118ms/step - loss: 157656.8750\n",
            "Epoch 94/100\n",
            "38/38 [==============================] - 5s 119ms/step - loss: 156218.4531\n",
            "Epoch 95/100\n",
            "38/38 [==============================] - 5s 120ms/step - loss: 155349.7500\n",
            "Epoch 96/100\n",
            "38/38 [==============================] - 5s 119ms/step - loss: 153890.2500\n",
            "Epoch 97/100\n",
            "38/38 [==============================] - 5s 121ms/step - loss: 152049.3594\n",
            "Epoch 98/100\n",
            "38/38 [==============================] - 5s 122ms/step - loss: 151185.4219\n",
            "Epoch 99/100\n",
            "38/38 [==============================] - 5s 123ms/step - loss: 150279.9062\n",
            "Epoch 100/100\n",
            "38/38 [==============================] - 5s 121ms/step - loss: 148892.5312\n"
          ]
        },
        {
          "output_type": "execute_result",
          "data": {
            "text/plain": [
              "<keras.callbacks.History at 0x7f90292ebd90>"
            ]
          },
          "metadata": {},
          "execution_count": 18
        }
      ]
    },
    {
      "cell_type": "code",
      "metadata": {
        "id": "cSdrlZgsCBS4"
      },
      "source": [
        ""
      ],
      "execution_count": null,
      "outputs": []
    }
  ]
}