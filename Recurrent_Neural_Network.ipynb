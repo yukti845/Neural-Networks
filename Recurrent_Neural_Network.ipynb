{
  "nbformat": 4,
  "nbformat_minor": 0,
  "metadata": {
    "colab": {
      "name": "Recurrent Neural Network.ipynb",
      "provenance": [],
      "authorship_tag": "ABX9TyMWbcURvSHfBZmbprcpQMV/",
      "include_colab_link": true
    },
    "kernelspec": {
      "name": "python3",
      "display_name": "Python 3"
    },
    "language_info": {
      "name": "python"
    }
  },
  "cells": [
    {
      "cell_type": "markdown",
      "metadata": {
        "id": "view-in-github",
        "colab_type": "text"
      },
      "source": [
        "<a href=\"https://colab.research.google.com/github/yukti845/Neural-Networks/blob/main/Recurrent_Neural_Network.ipynb\" target=\"_parent\"><img src=\"https://colab.research.google.com/assets/colab-badge.svg\" alt=\"Open In Colab\"/></a>"
      ]
    },
    {
      "cell_type": "markdown",
      "metadata": {
        "id": "-_KwoV1wIXnp"
      },
      "source": [
        "# Recurrent Neural Network"
      ]
    },
    {
      "cell_type": "markdown",
      "metadata": {
        "id": "r_ur9aDMIb7w"
      },
      "source": [
        "## Part-1 Data Preprocessing"
      ]
    },
    {
      "cell_type": "markdown",
      "metadata": {
        "id": "r0z4XA83IjlZ"
      },
      "source": [
        "### Importing the Libraries"
      ]
    },
    {
      "cell_type": "code",
      "metadata": {
        "id": "44hIRt2TIRLr"
      },
      "source": [
        "import numpy as np\n",
        "import pandas as pd\n",
        "import matplotlib.pyplot as plt"
      ],
      "execution_count": 23,
      "outputs": []
    },
    {
      "cell_type": "markdown",
      "metadata": {
        "id": "fZkkR-HNI7Nr"
      },
      "source": [
        "### Importing the Training set"
      ]
    },
    {
      "cell_type": "code",
      "metadata": {
        "colab": {
          "base_uri": "https://localhost:8080/"
        },
        "id": "XymQ5z8dOQZW",
        "outputId": "d5614470-fafc-49f6-c194-651260d58096"
      },
      "source": [
        "from google.colab import drive\n",
        "drive.mount('/content/drive')"
      ],
      "execution_count": 24,
      "outputs": [
        {
          "output_type": "stream",
          "name": "stdout",
          "text": [
            "Drive already mounted at /content/drive; to attempt to forcibly remount, call drive.mount(\"/content/drive\", force_remount=True).\n"
          ]
        }
      ]
    },
    {
      "cell_type": "code",
      "metadata": {
        "id": "QrFQl1s9OR03"
      },
      "source": [
        "dataset_train = pd.read_csv(\"/content/drive/MyDrive/rnn_data/Google_Stock_Price_Train.csv\")\n",
        "training_set = dataset_train.iloc[:, 1:2].values"
      ],
      "execution_count": 25,
      "outputs": []
    },
    {
      "cell_type": "markdown",
      "metadata": {
        "id": "hpXGWm4EO6iN"
      },
      "source": [
        "### Feature Scaling"
      ]
    },
    {
      "cell_type": "code",
      "metadata": {
        "id": "wnnU-JoAOwoV"
      },
      "source": [
        "from sklearn.preprocessing import MinMaxScaler"
      ],
      "execution_count": 26,
      "outputs": []
    },
    {
      "cell_type": "code",
      "metadata": {
        "id": "4jwGiuM2PESL"
      },
      "source": [
        "sc = MinMaxScaler(feature_range=(0,1))\n",
        "training_set_scaled = sc.fit_transform(training_set)"
      ],
      "execution_count": 27,
      "outputs": []
    },
    {
      "cell_type": "markdown",
      "metadata": {
        "id": "scTI0Dk9r1To"
      },
      "source": [
        "### Creating a data structure with 60 timestamps and 1 output"
      ]
    },
    {
      "cell_type": "code",
      "metadata": {
        "id": "Gt0iI0Q9PZDF"
      },
      "source": [
        "x_train = []\n",
        "y_train = []\n",
        "for i in range(60, 1258):\n",
        "  x_train.append(training_set[i-60:i, 0])\n",
        "  y_train.append(training_set[i, 0])\n",
        "x_train, y_train = np.array(x_train), np.array(y_train)"
      ],
      "execution_count": 28,
      "outputs": []
    },
    {
      "cell_type": "markdown",
      "metadata": {
        "id": "cNUdhPjImC1p"
      },
      "source": [
        "### Reshaping"
      ]
    },
    {
      "cell_type": "code",
      "metadata": {
        "id": "7VZZUlMCmByX"
      },
      "source": [
        "x_train = np.reshape(x_train, (x_train.shape[0], x_train.shape[1], 1))"
      ],
      "execution_count": 29,
      "outputs": []
    },
    {
      "cell_type": "markdown",
      "metadata": {
        "id": "Kipy3wIxmhmp"
      },
      "source": [
        "## Part-2 Building and Training the RNN"
      ]
    },
    {
      "cell_type": "code",
      "metadata": {
        "id": "QCJ6YKuTtJf7"
      },
      "source": [
        "from keras.models import Sequential\n",
        "from keras.layers import Dense\n",
        "from keras.layers import LSTM\n",
        "from keras.layers import Dropout"
      ],
      "execution_count": 30,
      "outputs": []
    },
    {
      "cell_type": "markdown",
      "metadata": {
        "id": "AmOeBYfmnLI4"
      },
      "source": [
        "### Initialising the RNN"
      ]
    },
    {
      "cell_type": "code",
      "metadata": {
        "id": "n7PStJyNm83n"
      },
      "source": [
        "regressor = Sequential()"
      ],
      "execution_count": 31,
      "outputs": []
    },
    {
      "cell_type": "markdown",
      "metadata": {
        "id": "4CNnroWBO459"
      },
      "source": [
        "### Adding the first LSTM layer and some Dropout regularisations"
      ]
    },
    {
      "cell_type": "code",
      "metadata": {
        "id": "nuU42wopnQQv"
      },
      "source": [
        "regressor.add(LSTM(units=50, return_sequences=True, input_shape=(x_train.shape[1], 1)))\n",
        "regressor.add(Dropout(0.2))"
      ],
      "execution_count": 32,
      "outputs": []
    },
    {
      "cell_type": "markdown",
      "metadata": {
        "id": "CKxs3-Jy1w0r"
      },
      "source": [
        "### Adding second LSTM layer and some Dropout regularisation"
      ]
    },
    {
      "cell_type": "code",
      "metadata": {
        "id": "uz21wD9-Pap7"
      },
      "source": [
        "regressor.add(LSTM(units=50, return_sequences=True))\n",
        "regressor.add(Dropout(0.2))"
      ],
      "execution_count": 33,
      "outputs": []
    },
    {
      "cell_type": "markdown",
      "metadata": {
        "id": "9t7u9I7T2P22"
      },
      "source": [
        "### Adding third LSTM layer and some Dropout regularisation "
      ]
    },
    {
      "cell_type": "code",
      "metadata": {
        "id": "Jh__lbvf2HJE"
      },
      "source": [
        "regressor.add(LSTM(units=50, return_sequences=True))\n",
        "regressor.add(Dropout(0.2))"
      ],
      "execution_count": 34,
      "outputs": []
    },
    {
      "cell_type": "markdown",
      "metadata": {
        "id": "IL6iF7B42k2a"
      },
      "source": [
        "### Adding fourth LSTM layer and some Dropout regularisation"
      ]
    },
    {
      "cell_type": "code",
      "metadata": {
        "id": "RIHTTRLX2e0U"
      },
      "source": [
        "regressor.add(LSTM(units=50))\n",
        "regressor.add(Dropout(0.2))"
      ],
      "execution_count": 35,
      "outputs": []
    },
    {
      "cell_type": "markdown",
      "metadata": {
        "id": "5xRug-2s26ux"
      },
      "source": [
        "### Adding the output layer"
      ]
    },
    {
      "cell_type": "code",
      "metadata": {
        "id": "lVihl4Bd21UP"
      },
      "source": [
        "regressor.add(Dense(units=1))"
      ],
      "execution_count": 36,
      "outputs": []
    },
    {
      "cell_type": "markdown",
      "metadata": {
        "id": "4NOhx8x5BP7p"
      },
      "source": [
        "### Compiling the RNN"
      ]
    },
    {
      "cell_type": "code",
      "metadata": {
        "id": "J23QsO8y3BmJ"
      },
      "source": [
        "regressor.compile(optimizer='adam', loss='mean_squared_error')"
      ],
      "execution_count": 37,
      "outputs": []
    },
    {
      "cell_type": "markdown",
      "metadata": {
        "id": "TpL6R8RVB15s"
      },
      "source": [
        "### Fitting the RNN to the Training set"
      ]
    },
    {
      "cell_type": "code",
      "metadata": {
        "colab": {
          "base_uri": "https://localhost:8080/"
        },
        "id": "oz9Kt0uOBlIN",
        "outputId": "0c522c63-43e4-428a-8832-5900054220dc"
      },
      "source": [
        "regressor.fit(x_train, y_train, epochs=100, batch_size=32)"
      ],
      "execution_count": null,
      "outputs": [
        {
          "output_type": "stream",
          "name": "stdout",
          "text": [
            "Epoch 1/100\n",
            "38/38 [==============================] - 11s 120ms/step - loss: 312929.3438\n",
            "Epoch 2/100\n",
            "38/38 [==============================] - 5s 119ms/step - loss: 306757.1562\n",
            "Epoch 3/100\n",
            "38/38 [==============================] - 5s 123ms/step - loss: 304057.5312\n",
            "Epoch 4/100\n",
            "38/38 [==============================] - 5s 121ms/step - loss: 301789.3125\n",
            "Epoch 5/100\n",
            "38/38 [==============================] - 5s 122ms/step - loss: 299578.7188\n",
            "Epoch 6/100\n",
            "38/38 [==============================] - 5s 122ms/step - loss: 297384.1875\n",
            "Epoch 7/100\n",
            "38/38 [==============================] - 5s 122ms/step - loss: 295320.3750\n",
            "Epoch 8/100\n",
            "38/38 [==============================] - 5s 122ms/step - loss: 293227.9688\n",
            "Epoch 9/100\n",
            "38/38 [==============================] - 5s 126ms/step - loss: 291095.2500\n",
            "Epoch 10/100\n",
            "38/38 [==============================] - 5s 123ms/step - loss: 289179.4375\n",
            "Epoch 11/100\n",
            "38/38 [==============================] - 5s 120ms/step - loss: 287003.1250\n",
            "Epoch 12/100\n",
            "38/38 [==============================] - 5s 118ms/step - loss: 284999.5938\n",
            "Epoch 13/100\n",
            "38/38 [==============================] - 5s 119ms/step - loss: 283247.6562\n",
            "Epoch 14/100\n",
            "38/38 [==============================] - 5s 121ms/step - loss: 281149.0312\n",
            "Epoch 15/100\n",
            "38/38 [==============================] - 5s 119ms/step - loss: 279181.3438\n",
            "Epoch 16/100\n",
            "38/38 [==============================] - 5s 119ms/step - loss: 277150.6250\n",
            "Epoch 17/100\n",
            "38/38 [==============================] - 5s 120ms/step - loss: 275245.5000\n",
            "Epoch 18/100\n",
            "38/38 [==============================] - 5s 121ms/step - loss: 273435.3125\n",
            "Epoch 19/100\n",
            "38/38 [==============================] - 5s 120ms/step - loss: 271435.0938\n",
            "Epoch 20/100\n",
            "38/38 [==============================] - 5s 119ms/step - loss: 269582.5625\n",
            "Epoch 21/100\n",
            "38/38 [==============================] - 5s 119ms/step - loss: 267881.8438\n",
            "Epoch 22/100\n",
            "38/38 [==============================] - 5s 120ms/step - loss: 265967.0938\n",
            "Epoch 23/100\n",
            "38/38 [==============================] - 5s 123ms/step - loss: 264118.5312\n",
            "Epoch 24/100\n",
            "38/38 [==============================] - 5s 122ms/step - loss: 262337.2188\n",
            "Epoch 25/100\n",
            "38/38 [==============================] - 5s 122ms/step - loss: 260625.1250\n",
            "Epoch 26/100\n",
            "38/38 [==============================] - 5s 120ms/step - loss: 258594.6406\n",
            "Epoch 27/100\n",
            "38/38 [==============================] - 5s 121ms/step - loss: 256463.9531\n",
            "Epoch 28/100\n",
            "38/38 [==============================] - 5s 121ms/step - loss: 254899.9531\n",
            "Epoch 29/100\n",
            "38/38 [==============================] - 5s 118ms/step - loss: 253478.0156\n",
            "Epoch 30/100\n",
            "38/38 [==============================] - 5s 122ms/step - loss: 251430.0625\n",
            "Epoch 31/100\n",
            "38/38 [==============================] - 5s 121ms/step - loss: 249729.3281\n",
            "Epoch 32/100\n",
            "38/38 [==============================] - 5s 119ms/step - loss: 247833.9844\n",
            "Epoch 33/100\n",
            "38/38 [==============================] - 5s 121ms/step - loss: 246500.4375\n",
            "Epoch 34/100\n",
            "38/38 [==============================] - 5s 119ms/step - loss: 244560.4531\n",
            "Epoch 35/100\n",
            "38/38 [==============================] - 5s 121ms/step - loss: 242462.8438\n",
            "Epoch 36/100\n",
            "38/38 [==============================] - 5s 125ms/step - loss: 240901.9375\n",
            "Epoch 37/100\n",
            "38/38 [==============================] - 5s 118ms/step - loss: 239115.9688\n",
            "Epoch 38/100\n",
            "38/38 [==============================] - 5s 121ms/step - loss: 237667.0781\n",
            "Epoch 39/100\n",
            "38/38 [==============================] - 5s 120ms/step - loss: 235633.7344\n",
            "Epoch 40/100\n",
            "38/38 [==============================] - 5s 120ms/step - loss: 233810.3281\n",
            "Epoch 41/100\n",
            "38/38 [==============================] - 5s 119ms/step - loss: 232423.4062\n",
            "Epoch 42/100\n",
            "38/38 [==============================] - 5s 120ms/step - loss: 230442.2812\n",
            "Epoch 43/100\n",
            "38/38 [==============================] - 5s 122ms/step - loss: 228838.5781\n",
            "Epoch 44/100\n",
            "38/38 [==============================] - 5s 122ms/step - loss: 227466.2031\n",
            "Epoch 45/100\n",
            "38/38 [==============================] - 5s 121ms/step - loss: 225719.4531\n",
            "Epoch 46/100\n",
            "38/38 [==============================] - 5s 120ms/step - loss: 224232.7812\n",
            "Epoch 47/100\n",
            "38/38 [==============================] - 5s 120ms/step - loss: 222678.1250\n",
            "Epoch 48/100\n",
            "38/38 [==============================] - 5s 122ms/step - loss: 221048.5938\n",
            "Epoch 49/100\n",
            "38/38 [==============================] - 5s 128ms/step - loss: 219280.2812\n",
            "Epoch 50/100\n",
            "38/38 [==============================] - 5s 121ms/step - loss: 217948.8281\n",
            "Epoch 51/100\n",
            "38/38 [==============================] - 5s 125ms/step - loss: 216092.1719\n",
            "Epoch 52/100\n",
            "38/38 [==============================] - 5s 122ms/step - loss: 214808.5000\n",
            "Epoch 53/100\n",
            "38/38 [==============================] - 5s 122ms/step - loss: 213202.7031\n",
            "Epoch 54/100\n",
            "38/38 [==============================] - 5s 121ms/step - loss: 210957.5625\n",
            "Epoch 55/100\n",
            "38/38 [==============================] - 5s 123ms/step - loss: 209911.9531\n",
            "Epoch 56/100\n",
            "38/38 [==============================] - 5s 121ms/step - loss: 208097.8750\n",
            "Epoch 57/100\n",
            "38/38 [==============================] - 5s 124ms/step - loss: 207091.2656\n",
            "Epoch 58/100\n",
            "38/38 [==============================] - 5s 122ms/step - loss: 205220.8438\n",
            "Epoch 59/100\n",
            "38/38 [==============================] - 5s 123ms/step - loss: 203949.3125\n",
            "Epoch 60/100\n",
            "38/38 [==============================] - 5s 125ms/step - loss: 202291.1719\n",
            "Epoch 61/100\n",
            "38/38 [==============================] - 5s 122ms/step - loss: 200659.0781\n",
            "Epoch 62/100\n",
            "38/38 [==============================] - 5s 128ms/step - loss: 198878.2812\n",
            "Epoch 63/100\n",
            "38/38 [==============================] - 5s 121ms/step - loss: 197814.4375\n",
            "Epoch 64/100\n",
            "38/38 [==============================] - 5s 120ms/step - loss: 196316.0000\n",
            "Epoch 65/100\n",
            "38/38 [==============================] - 5s 119ms/step - loss: 194921.9062\n",
            "Epoch 66/100\n",
            "38/38 [==============================] - 5s 120ms/step - loss: 193414.6719\n",
            "Epoch 67/100\n",
            "38/38 [==============================] - 5s 120ms/step - loss: 191859.4531\n",
            "Epoch 68/100\n",
            "38/38 [==============================] - 5s 119ms/step - loss: 190774.5625\n",
            "Epoch 69/100\n",
            "38/38 [==============================] - 5s 122ms/step - loss: 189103.6562\n",
            "Epoch 70/100\n",
            "38/38 [==============================] - 5s 120ms/step - loss: 187264.6406\n",
            "Epoch 71/100\n",
            "38/38 [==============================] - 5s 122ms/step - loss: 185958.5000\n",
            "Epoch 72/100\n",
            "38/38 [==============================] - 5s 121ms/step - loss: 184264.3906\n",
            "Epoch 73/100\n",
            "38/38 [==============================] - 5s 120ms/step - loss: 183076.4531\n",
            "Epoch 74/100\n",
            "38/38 [==============================] - 5s 120ms/step - loss: 182031.7969\n",
            "Epoch 75/100\n",
            "38/38 [==============================] - 5s 125ms/step - loss: 180327.6875\n",
            "Epoch 76/100\n",
            "38/38 [==============================] - 5s 122ms/step - loss: 179018.1094\n",
            "Epoch 77/100\n",
            "38/38 [==============================] - 5s 120ms/step - loss: 178109.0000\n",
            "Epoch 78/100\n",
            "38/38 [==============================] - 5s 121ms/step - loss: 176134.5781\n",
            "Epoch 79/100\n",
            "38/38 [==============================] - 5s 123ms/step - loss: 175066.5312\n",
            "Epoch 80/100\n",
            "38/38 [==============================] - 5s 121ms/step - loss: 173595.3594\n",
            "Epoch 81/100\n",
            "38/38 [==============================] - 5s 121ms/step - loss: 172196.7344\n",
            "Epoch 82/100\n",
            "38/38 [==============================] - 5s 121ms/step - loss: 170720.0469\n",
            "Epoch 83/100\n",
            "38/38 [==============================] - 5s 122ms/step - loss: 169685.0938\n",
            "Epoch 84/100\n",
            "38/38 [==============================] - 5s 121ms/step - loss: 167945.6875\n",
            "Epoch 85/100\n",
            "38/38 [==============================] - 5s 122ms/step - loss: 166830.4375\n",
            "Epoch 86/100\n",
            "38/38 [==============================] - 5s 120ms/step - loss: 165534.3594\n",
            "Epoch 87/100\n",
            "38/38 [==============================] - 5s 123ms/step - loss: 164251.4531\n",
            "Epoch 88/100\n",
            "38/38 [==============================] - 5s 125ms/step - loss: 162911.7656\n",
            "Epoch 89/100\n",
            "38/38 [==============================] - 5s 122ms/step - loss: 161826.0625\n",
            "Epoch 90/100\n",
            "38/38 [==============================] - 5s 123ms/step - loss: 160788.7656\n",
            "Epoch 91/100\n",
            "38/38 [==============================] - 5s 121ms/step - loss: 159548.8906\n",
            "Epoch 92/100\n",
            "38/38 [==============================] - 5s 121ms/step - loss: 158044.6719\n",
            "Epoch 93/100\n",
            "38/38 [==============================] - 5s 121ms/step - loss: 157073.8281\n",
            "Epoch 94/100\n",
            "38/38 [==============================] - 5s 123ms/step - loss: 155497.8750\n",
            "Epoch 95/100\n",
            "38/38 [==============================] - 5s 121ms/step - loss: 154037.3281\n",
            "Epoch 96/100\n",
            "38/38 [==============================] - 5s 123ms/step - loss: 152720.7500\n",
            "Epoch 97/100\n",
            "38/38 [==============================] - 5s 120ms/step - loss: 151311.4531\n",
            "Epoch 98/100\n",
            "38/38 [==============================] - 5s 119ms/step - loss: 150300.7812\n",
            "Epoch 99/100\n",
            "38/38 [==============================] - 5s 120ms/step - loss: 149464.4375\n",
            "Epoch 100/100\n",
            "38/38 [==============================] - 5s 119ms/step - loss: 147983.2812\n"
          ]
        }
      ]
    },
    {
      "cell_type": "markdown",
      "metadata": {
        "id": "GCrGyYPXNCm3"
      },
      "source": [
        "## Part-3 Making the predictions and visualizing the results"
      ]
    },
    {
      "cell_type": "markdown",
      "metadata": {
        "id": "pqo9x7J8NL_1"
      },
      "source": [
        "### Getting the real stock price of 2017"
      ]
    },
    {
      "cell_type": "code",
      "metadata": {
        "id": "cSdrlZgsCBS4"
      },
      "source": [
        "dataset_test = pd.read_csv(\"/content/drive/MyDrive/rnn_data/Google_Stock_Price_Test.csv\")\n",
        "real_stock_price =dataset_test.iloc[:, 1:2].values"
      ],
      "execution_count": null,
      "outputs": []
    },
    {
      "cell_type": "markdown",
      "metadata": {
        "id": "Ea5EcFMnNsl_"
      },
      "source": [
        "### Getting the predicted stock price of 2017"
      ]
    },
    {
      "cell_type": "code",
      "metadata": {
        "id": "rpT2PRdONrnI"
      },
      "source": [
        "dataset_total = pd.concat((dataset_train['Open'], dataset_test['Open']), axis=0)\n",
        "inputs = dataset_total[len(dataset_total) - len(dataset_test) - 60:].values\n",
        "inputs = inputs.reshape(-1,1)\n",
        "inputs = sc.transform(inputs)\n",
        "x_test = []\n",
        "for i in range(60,80):\n",
        "  x_test.append(inputs[i-60:i, 0])\n",
        "x_test = np.array(x_test)\n",
        "x_test = np.reshape(x_test, (x_test.shape[0], x_test.shape[1], 1))\n",
        "predicted_stock_price = regressor.predict(x_test)\n",
        "predicted_stock_price = sc.inverse_transform(predicted_stock_price) "
      ],
      "execution_count": null,
      "outputs": []
    },
    {
      "cell_type": "markdown",
      "metadata": {
        "id": "_xC8jY5ZQUUl"
      },
      "source": [
        "### Visualizing the Results"
      ]
    },
    {
      "cell_type": "code",
      "metadata": {
        "id": "MgeupX7tQH-y"
      },
      "source": [
        "plt.plot(real_stock_price, color='red', label='Real Google Stock Price')\n",
        "plt.plot(predicted_stock_price, color='blue', label='Predicted Google Stock Price')\n",
        "plt.title(\"Google Stock Price Prediction\")\n",
        "plt.xlabel('Time')\n",
        "plt.ylabel('Google Stock Price')\n",
        "plt.legend()\n",
        "plt.show()"
      ],
      "execution_count": null,
      "outputs": []
    },
    {
      "cell_type": "code",
      "metadata": {
        "id": "DW_KNJGtRCZc"
      },
      "source": [
        ""
      ],
      "execution_count": null,
      "outputs": []
    }
  ]
}