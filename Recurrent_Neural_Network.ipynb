    "language_info": {
      "name": "python"
    }
  },
  "cells": [
    {
      "cell_type": "markdown",
      "metadata": {
        "id": "view-in-github",
        "colab_type": "text"
      },
      "source": [
        "<a href=\"https://colab.research.google.com/github/yukti845/Neural-Networks/blob/main/Recurrent_Neural_Network.ipynb\" target=\"_parent\"><img src=\"https://colab.research.google.com/assets/colab-badge.svg\" alt=\"Open In Colab\"/></a>"
      ]
    },
    {
      "cell_type": "markdown",
      "metadata": {
        "id": "-_KwoV1wIXnp"
      },
      "source": [
        "# Recurrent Neural Network"
      ]
    },
    {
      "cell_type": "markdown",
      "metadata": {
        "id": "r_ur9aDMIb7w"
      },
      "source": [
        "## Part-1 Data Preprocessing"
      ]
    },
    {
      "cell_type": "markdown",
      "metadata": {
        "id": "r0z4XA83IjlZ"
      },
      "source": [
        "### Importing the Libraries"
      ]
    },
    {
      "cell_type": "code",
      "metadata": {
        "id": "44hIRt2TIRLr"
      },
      "source": [
        "import numpy as np\n",
        "import pandas as pd\n",
        "import matplotlib.pyplot as plt"
      ],
      "execution_count": null,
      "outputs": []
    },
    {
      "cell_type": "markdown",
      "metadata": {
        "id": "fZkkR-HNI7Nr"
      },
      "source": [
        "### Importing the Training set"
      ]
    },
    {
      "cell_type": "code",
      "metadata": {
        "colab": {
          "base_uri": "https://localhost:8080/"
        },
        "id": "XymQ5z8dOQZW",
        "outputId": "d5614470-fafc-49f6-c194-651260d58096"
      },
      "source": [
        "from google.colab import drive\n",
        "drive.mount('/content/drive')"
      ],
      "execution_count": null,
      "outputs": [
        {
          "output_type": "stream",
          "name": "stdout",
          "text": [
            "Drive already mounted at /content/drive; to attempt to forcibly remount, call drive.mount(\"/content/drive\", force_remount=True).\n"
          ]
        }
      ]
    },
    {
      "cell_type": "code",
      "metadata": {
        "id": "QrFQl1s9OR03"
      },
      "source": [
        "dataset_train = pd.read_csv(\"/content/drive/MyDrive/rnn_data/Google_Stock_Price_Train.csv\")\n",
        "training_set = dataset_train.iloc[:, 1:2].values"
      ],
      "execution_count": null,
      "outputs": []
    },
    {
      "cell_type": "markdown",
      "metadata": {
        "id": "hpXGWm4EO6iN"
      },
      "source": [
        "### Feature Scaling"
      ]
    },
    {
      "cell_type": "code",
      "metadata": {
        "id": "wnnU-JoAOwoV"
      },
      "source": [
        "from sklearn.preprocessing import MinMaxScaler"
      ],
      "execution_count": null,
      "outputs": []
    },
    {
      "cell_type": "code",
      "metadata": {
        "id": "4jwGiuM2PESL"
      },
      "source": [
        "sc = MinMaxScaler(feature_range=(0,1))\n",
        "training_set_scaled = sc.fit_transform(training_set)"
      ],
      "execution_count": null,
      "outputs": []
    },
    {
      "cell_type": "markdown",
      "metadata": {
        "id": "scTI0Dk9r1To"
      },
      "source": [
        "### Creating a data structure with 60 timestamps and 1 output"
      ]
    },
    {
      "cell_type": "code",
      "metadata": {
        "id": "Gt0iI0Q9PZDF"
      },
      "source": [
        "x_train = []\n",
        "y_train = []\n",
        "for i in range(60, 1258):\n",
        "  x_train.append(training_set[i-60:i, 0])\n",
        "  y_train.append(training_set[i, 0])\n",
        "x_train, y_train = np.array(x_train), np.array(y_train)"
      ],
      "execution_count": null,
      "outputs": []
    },
    {
      "cell_type": "markdown",
      "metadata": {
        "id": "cNUdhPjImC1p"
      },
      "source": [
        "### Reshaping"
      ]
    },
    {
      "cell_type": "code",
      "metadata": {
        "id": "7VZZUlMCmByX"
      },
      "source": [
        "x_train = np.reshape(x_train, (x_train.shape[0], x_train.shape[1], 1))"
      ],
      "execution_count": null,
      "outputs": []
    },
    {
      "cell_type": "markdown",
      "metadata": {
        "id": "Kipy3wIxmhmp"
      },
      "source": [
        "## Part-2 Building and Training the RNN"
      ]
    },
    {
      "cell_type": "code",
      "metadata": {
        "id": "QCJ6YKuTtJf7"
      },
      "source": [
        "from keras.models import Sequential\n",
        "from keras.layers import Dense\n",
        "from keras.layers import LSTM\n",
        "from keras.layers import Dropout"
      ],
      "execution_count": null,
      "outputs": []
    },
    {
      "cell_type": "markdown",
      "metadata": {
        "id": "AmOeBYfmnLI4"
      },
      "source": [
        "### Initialising the RNN"
      ]
    },
    {
      "cell_type": "code",
      "metadata": {
        "id": "n7PStJyNm83n"
      },
      "source": [
        "regressor = Sequential()"
      ],
      "execution_count": null,
      "outputs": []
    },
    {
      "cell_type": "markdown",
      "metadata": {
        "id": "4CNnroWBO459"
      },
      "source": [
        "### Adding the first LSTM layer and some Dropout regularisations"
      ]
    },
    {
      "cell_type": "code",
      "metadata": {
        "id": "nuU42wopnQQv"
      },
      "source": [
        "regressor.add(LSTM(units=50, return_sequences=True, input_shape=(x_train.shape[1], 1)))\n",
        "regressor.add(Dropout(0.2))"
      ],
      "execution_count": null,
      "outputs": []
    },
    {
      "cell_type": "markdown",
      "metadata": {
        "id": "CKxs3-Jy1w0r"
      },
      "source": [
        "### Adding second LSTM layer and some Dropout regularisation"
      ]
    },
    {
      "cell_type": "code",
      "metadata": {
        "id": "uz21wD9-Pap7"
      },
      "source": [
        "regressor.add(LSTM(units=50, return_sequences=True))\n",
        "regressor.add(Dropout(0.2))"
      ],
      "execution_count": null,
      "outputs": []
    },
    {
      "cell_type": "markdown",
      "metadata": {
        "id": "9t7u9I7T2P22"
      },
      "source": [
        "### Adding third LSTM layer and some Dropout regularisation "
      ]
    },
    {
      "cell_type": "code",
      "metadata": {
        "id": "Jh__lbvf2HJE"
      },
      "source": [
        "regressor.add(LSTM(units=50, return_sequences=True))\n",
        "regressor.add(Dropout(0.2))"
      ],
      "execution_count": null,
      "outputs": []
    },
    {
      "cell_type": "markdown",
      "metadata": {
        "id": "IL6iF7B42k2a"
      },
      "source": [
        "### Adding fourth LSTM layer and some Dropout regularisation"
      ]
    },
    {
      "cell_type": "code",
      "metadata": {
        "id": "RIHTTRLX2e0U"
      },
      "source": [
        "regressor.add(LSTM(units=50))\n",
        "regressor.add(Dropout(0.2))"
      ],
      "execution_count": null,
      "outputs": []
    },
    {
      "cell_type": "markdown",
      "metadata": {
        "id": "5xRug-2s26ux"
      },
      "source": [
        "### Adding the output layer"
      ]
    },
    {
      "cell_type": "code",
      "metadata": {
        "id": "lVihl4Bd21UP"
      },
      "source": [
        "regressor.add(Dense(units=1))"
      ],
      "execution_count": null,
      "outputs": []
    },
    {
      "cell_type": "markdown",
      "metadata": {
        "id": "4NOhx8x5BP7p"
      },
      "source": [
        "### Compiling the RNN"
      ]
    },
    {
      "cell_type": "code",
      "metadata": {
        "id": "J23QsO8y3BmJ"
      },
      "source": [
        "regressor.compile(optimizer='adam', loss='mean_squared_error')"
      ],
      "execution_count": null,
      "outputs": []
    },
    {
      "cell_type": "markdown",
      "metadata": {
        "id": "TpL6R8RVB15s"
      },
      "source": [
        "### Fitting the RNN to the Training set"
      ]
    },
    {
      "cell_type": "code",
      "metadata": {
        "colab": {
          "base_uri": "https://localhost:8080/"
        },
        "id": "oz9Kt0uOBlIN",
        "outputId": "0c522c63-43e4-428a-8832-5900054220dc"
      },
      "source": [
        "regressor.fit(x_train, y_train, epochs=100, batch_size=32)"
      ],
      "execution_count": null,
      "outputs": [
        {
          "output_type": "stream",
          "name": "stdout",
          "text": [
            "Epoch 1/100\n",
            "38/38 [==============================] - 11s 120ms/step - loss: 312929.3438\n",
            "Epoch 2/100\n",
            "38/38 [==============================] - 5s 119ms/step - loss: 306757.1562\n",
            "Epoch 3/100\n",
            "38/38 [==============================] - 5s 123ms/step - loss: 304057.5312\n",
            "Epoch 4/100\n",
            "38/38 [==============================] - 5s 121ms/step - loss: 301789.3125\n",
            "Epoch 5/100\n",
            "38/38 [==============================] - 5s 122ms/step - loss: 299578.7188\n",
            "Epoch 6/100\n",
            "38/38 [==============================] - 5s 122ms/step - loss: 297384.1875\n",
            "Epoch 7/100\n",
            "38/38 [==============================] - 5s 122ms/step - loss: 295320.3750\n",
            "Epoch 8/100\n",
            "38/38 [==============================] - 5s 122ms/step - loss: 293227.9688\n",
            "Epoch 9/100\n",
            "38/38 [==============================] - 5s 126ms/step - loss: 291095.2500\n",
            "Epoch 10/100\n",
            "38/38 [==============================] - 5s 123ms/step - loss: 289179.4375\n",
            "Epoch 11/100\n",
            "38/38 [==============================] - 5s 120ms/step - loss: 287003.1250\n",
            "Epoch 12/100\n",
            "38/38 [==============================] - 5s 118ms/step - loss: 284999.5938\n",
            "Epoch 13/100\n",
            "38/38 [==============================] - 5s 119ms/step - loss: 283247.6562\n",
            "Epoch 14/100\n",
            "38/38 [==============================] - 5s 121ms/step - loss: 281149.0312\n",
            "Epoch 15/100\n",
            "38/38 [==============================] - 5s 119ms/step - loss: 279181.3438\n",
            "Epoch 16/100\n",
            "38/38 [==============================] - 5s 119ms/step - loss: 277150.6250\n",
            "Epoch 17/100\n",
            "38/38 [==============================] - 5s 120ms/step - loss: 275245.5000\n",
            "Epoch 18/100\n",
            "38/38 [==============================] - 5s 121ms/step - loss: 273435.3125\n",
            "Epoch 19/100\n",
            "38/38 [==============================] - 5s 120ms/step - loss: 271435.0938\n",
            "Epoch 20/100\n",
            "38/38 [==============================] - 5s 119ms/step - loss: 269582.5625\n",
            "Epoch 21/100\n",
            "38/38 [==============================] - 5s 119ms/step - loss: 267881.8438\n",
            "Epoch 22/100\n",
            "38/38 [==============================] - 5s 120ms/step - loss: 265967.0938\n",
            "Epoch 23/100\n",
            "38/38 [==============================] - 5s 123ms/step - loss: 264118.5312\n",
            "Epoch 24/100\n",
            "38/38 [==============================] - 5s 122ms/step - loss: 262337.2188\n",
            "Epoch 25/100\n",
            "38/38 [==============================] - 5s 122ms/step - loss: 260625.1250\n",
            "Epoch 26/100\n",
            "38/38 [==============================] - 5s 120ms/step - loss: 258594.6406\n",
            "Epoch 27/100\n",
            "38/38 [==============================] - 5s 121ms/step - loss: 256463.9531\n",
            "Epoch 28/100\n",
            "38/38 [==============================] - 5s 121ms/step - loss: 254899.9531\n",
            "Epoch 29/100\n",
            "38/38 [==============================] - 5s 118ms/step - loss: 253478.0156\n",
            "Epoch 30/100\n",
            "38/38 [==============================] - 5s 122ms/step - loss: 251430.0625\n",
            "Epoch 31/100\n",
            "38/38 [==============================] - 5s 121ms/step - loss: 249729.3281\n",
            "Epoch 32/100\n",
            "38/38 [==============================] - 5s 119ms/step - loss: 247833.9844\n",
            "Epoch 33/100\n",
            "38/38 [==============================] - 5s 121ms/step - loss: 246500.4375\n",
            "Epoch 34/100\n",
            "38/38 [==============================] - 5s 119ms/step - loss: 244560.4531\n",
            "Epoch 35/100\n",
            "38/38 [==============================] - 5s 121ms/step - loss: 242462.8438\n",
            "Epoch 36/100\n",
            "38/38 [==============================] - 5s 125ms/step - loss: 240901.9375\n",
            "Epoch 37/100\n",
            "38/38 [==============================] - 5s 118ms/step - loss: 239115.9688\n",
            "Epoch 38/100\n",
            "38/38 [==============================] - 5s 121ms/step - loss: 237667.0781\n",
            "Epoch 39/100\n",
            "38/38 [==============================] - 5s 120ms/step - loss: 235633.7344\n",
            "Epoch 40/100\n",
            "38/38 [==============================] - 5s 120ms/step - loss: 233810.3281\n",
            "Epoch 41/100\n",
            "38/38 [==============================] - 5s 119ms/step - loss: 232423.4062\n",
            "Epoch 42/100\n",
            "38/38 [==============================] - 5s 120ms/step - loss: 230442.2812\n",
            "Epoch 43/100\n",
            "38/38 [==============================] - 5s 122ms/step - loss: 228838.5781\n",
            "Epoch 44/100\n",
            "38/38 [==============================] - 5s 122ms/step - loss: 227466.2031\n",
            "Epoch 45/100\n",
            "38/38 [==============================] - 5s 121ms/step - loss: 225719.4531\n",
            "Epoch 46/100\n",
            "38/38 [==============================] - 5s 120ms/step - loss: 224232.7812\n",
            "Epoch 47/100\n",
            "38/38 [==============================] - 5s 120ms/step - loss: 222678.1250\n",
            "Epoch 48/100\n",
            "38/38 [==============================] - 5s 122ms/step - loss: 221048.5938\n",
            "Epoch 49/100\n",
            "38/38 [==============================] - 5s 128ms/step - loss: 219280.2812\n",
            "Epoch 50/100\n",
            "38/38 [==============================] - 5s 121ms/step - loss: 217948.8281\n",
            "Epoch 51/100\n",
            "38/38 [==============================] - 5s 125ms/step - loss: 216092.1719\n",
            "Epoch 52/100\n",
            "38/38 [==============================] - 5s 122ms/step - loss: 214808.5000\n",
            "Epoch 53/100\n",
            "38/38 [==============================] - 5s 122ms/step - loss: 213202.7031\n",
            "Epoch 54/100\n",
            "38/38 [==============================] - 5s 121ms/step - loss: 210957.5625\n",
            "Epoch 55/100\n",
            "38/38 [==============================] - 5s 123ms/step - loss: 209911.9531\n",
            "Epoch 56/100\n",
            "38/38 [==============================] - 5s 121ms/step - loss: 208097.8750\n",
            "Epoch 57/100\n",
            "38/38 [==============================] - 5s 124ms/step - loss: 207091.2656\n",
            "Epoch 58/100\n",
            "38/38 [==============================] - 5s 122ms/step - loss: 205220.8438\n",
            "Epoch 59/100\n",
            "38/38 [==============================] - 5s 123ms/step - loss: 203949.3125\n",
            "Epoch 60/100\n",
            "38/38 [==============================] - 5s 125ms/step - loss: 202291.1719\n",
            "Epoch 61/100\n",
            "38/38 [==============================] - 5s 122ms/step - loss: 200659.0781\n",
            "Epoch 62/100\n",
            "38/38 [==============================] - 5s 128ms/step - loss: 198878.2812\n",
            "Epoch 63/100\n",
            "38/38 [==============================] - 5s 121ms/step - loss: 197814.4375\n",
            "Epoch 64/100\n",
            "38/38 [==============================] - 5s 120ms/step - loss: 196316.0000\n",
            "Epoch 65/100\n",
            "38/38 [==============================] - 5s 119ms/step - loss: 194921.9062\n",
            "Epoch 66/100\n",
            "38/38 [==============================] - 5s 120ms/step - loss: 193414.6719\n",
            "Epoch 67/100\n",
            "38/38 [==============================] - 5s 120ms/step - loss: 191859.4531\n",
            "Epoch 68/100\n",
            "38/38 [==============================] - 5s 119ms/step - loss: 190774.5625\n",
            "Epoch 69/100\n",
            "38/38 [==============================] - 5s 122ms/step - loss: 189103.6562\n",
            "Epoch 70/100\n",
            "38/38 [==============================] - 5s 120ms/step - loss: 187264.6406\n",
            "Epoch 71/100\n",
            "38/38 [==============================] - 5s 122ms/step - loss: 185958.5000\n",
            "Epoch 72/100\n",
            "38/38 [==============================] - 5s 121ms/step - loss: 184264.3906\n",
            "Epoch 73/100\n",
            "38/38 [==============================] - 5s 120ms/step - loss: 183076.4531\n",
            "Epoch 74/100\n",
            "38/38 [==============================] - 5s 120ms/step - loss: 182031.7969\n",
            "Epoch 75/100\n",
            "38/38 [==============================] - 5s 125ms/step - loss: 180327.6875\n",
            "Epoch 76/100\n",
            "38/38 [==============================] - 5s 122ms/step - loss: 179018.1094\n",
            "Epoch 77/100\n",
            "38/38 [==============================] - 5s 120ms/step - loss: 178109.0000\n",
            "Epoch 78/100\n",
            "38/38 [==============================] - 5s 121ms/step - loss: 176134.5781\n",
            "Epoch 79/100\n",
            "38/38 [==============================] - 5s 123ms/step - loss: 175066.5312\n",
            "Epoch 80/100\n",
            "38/38 [==============================] - 5s 121ms/step - loss: 173595.3594\n",
            "Epoch 81/100\n",
            "38/38 [==============================] - 5s 121ms/step - loss: 172196.7344\n",
            "Epoch 82/100\n",
            "38/38 [==============================] - 5s 121ms/step - loss: 170720.0469\n",
            "Epoch 83/100\n",
            "38/38 [==============================] - 5s 122ms/step - loss: 169685.0938\n",
            "Epoch 84/100\n",
            "38/38 [==============================] - 5s 121ms/step - loss: 167945.6875\n",
            "Epoch 85/100\n",
            "38/38 [==============================] - 5s 122ms/step - loss: 166830.4375\n",
            "Epoch 86/100\n",
            "38/38 [==============================] - 5s 120ms/step - loss: 165534.3594\n",
            "Epoch 87/100\n",
            "38/38 [==============================] - 5s 123ms/step - loss: 164251.4531\n",
            "Epoch 88/100\n",
            "38/38 [==============================] - 5s 125ms/step - loss: 162911.7656\n",
            "Epoch 89/100\n",
            "38/38 [==============================] - 5s 122ms/step - loss: 161826.0625\n",
            "Epoch 90/100\n",
            "38/38 [==============================] - 5s 123ms/step - loss: 160788.7656\n",
            "Epoch 91/100\n",
            "38/38 [==============================] - 5s 121ms/step - loss: 159548.8906\n",
            "Epoch 92/100\n",
            "38/38 [==============================] - 5s 121ms/step - loss: 158044.6719\n",
            "Epoch 93/100\n",
            "38/38 [==============================] - 5s 121ms/step - loss: 157073.8281\n",
            "Epoch 94/100\n",
            "38/38 [==============================] - 5s 123ms/step - loss: 155497.8750\n",
            "Epoch 95/100\n",
            "38/38 [==============================] - 5s 121ms/step - loss: 154037.3281\n",
            "Epoch 96/100\n",
            "38/38 [==============================] - 5s 123ms/step - loss: 152720.7500\n",
            "Epoch 97/100\n",
            "38/38 [==============================] - 5s 120ms/step - loss: 151311.4531\n",
            "Epoch 98/100\n",
            "38/38 [==============================] - 5s 119ms/step - loss: 150300.7812\n",
            "Epoch 99/100\n",
            "38/38 [==============================] - 5s 120ms/step - loss: 149464.4375\n",
            "Epoch 100/100\n",
            "38/38 [==============================] - 5s 119ms/step - loss: 147983.2812\n"
          ]
        },
        {
          "output_type": "execute_result",
          "data": {
            "text/plain": [
              "<keras.callbacks.History at 0x7fe669203410>"
            ]
          },
          "metadata": {},
          "execution_count": 38
        }
      ]
    },
    {
      "cell_type": "markdown",
      "metadata": {
        "id": "GCrGyYPXNCm3"
      },
      "source": [
        "## Part-3 Making the predictions and visualizing the results"
      ]
    },
    {
      "cell_type": "markdown",
      "metadata": {
        "id": "pqo9x7J8NL_1"
      },
      "source": [
        "### Getting the real stock price of 2017"
      ]
    },
    {
      "cell_type": "code",
      "metadata": {
        "id": "cSdrlZgsCBS4"
      },
      "source": [
        "dataset_test = pd.read_csv(\"/content/drive/MyDrive/rnn_data/Google_Stock_Price_Test.csv\")\n",
        "real_stock_price =dataset_test.iloc[:, 1:2].values"
      ],
      "execution_count": null,
      "outputs": []
    },
    {
      "cell_type": "markdown",
      "metadata": {
        "id": "Ea5EcFMnNsl_"
      },
      "source": [
        "### Getting the predicted stock price of 2017"
      ]
    },
    {
      "cell_type": "code",
      "metadata": {
        "id": "rpT2PRdONrnI"
      },
      "source": [
        "dataset_total = pd.concat((dataset_train['Open'], dataset_test['Open']), axis=0)\n",
        "inputs = dataset_total[len(dataset_total) - len(dataset_test) - 60:].values\n",
        "inputs = inputs.reshape(-1,1)\n",
        "inputs = sc.transform(inputs)\n",
        "x_test = []\n",
        "for i in range(60,80):\n",
        "  x_test.append(inputs[i-60:i, 0])\n",
        "x_test = np.array(x_test)\n",
        "x_test = np.reshape(x_test, (x_test.shape[0], x_test.shape[1], 1))\n",
        "predicted_stock_price = regressor.predict(x_test)\n",
        "predicted_stock_price = sc.inverse_transform(predicted_stock_price) "
      ],
      "execution_count": null,
      "outputs": []
    },
    {
      "cell_type": "markdown",
      "metadata": {
        "id": "_xC8jY5ZQUUl"
      },
      "source": [
        "### Visualizing the Results"
      ]
    },
    {
      "cell_type": "code",
      "metadata": {
        "colab": {
          "base_uri": "https://localhost:8080/",
          "height": 295
        },
        "id": "MgeupX7tQH-y",
        "outputId": "e53216e1-ba37-4eb3-d14c-1d2309741d27"
      },
      "source": [
        "plt.plot(real_stock_price, color='red', label='Real Google Stock Price')\n",
        "plt.plot(predicted_stock_price, color='blue', label='Predicted Google Stock Price')\n",
        "plt.title(\"Google Stock Price Prediction\")\n",
        "plt.xlabel('Time')\n",
        "plt.ylabel('Google Stock Price')\n",
        "plt.legend()\n",
        "plt.show()"
      ],
      "execution_count": null,
      "outputs": [
        {
          "output_type": "display_data",
          "data": {
            "image/png": "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\n",
            "text/plain": [
              "<Figure size 432x288 with 1 Axes>"
            ]
          },
          "metadata": {
            "needs_background": "light"
          }
        }
      ]
    },
    {
      "cell_type": "code",
      "metadata": {
        "id": "DW_KNJGtRCZc"
      },
      "source": [
        ""
      ],
      "execution_count": null,
      "outputs": []
    }
  ]
}
