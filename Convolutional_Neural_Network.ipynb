{
  "nbformat": 4,
  "nbformat_minor": 0,
  "metadata": {
    "colab": {
      "name": "Convolutional Neural Network.ipynb",
      "provenance": [],
      "mount_file_id": "1TWiCB3QJqsfe4NDR3qrryju4NxS_VQJr",
      "authorship_tag": "ABX9TyP0yv9mDAnTbOiHexv7BCbS",
      "include_colab_link": true
    },
    "kernelspec": {
      "name": "python3",
      "display_name": "Python 3"
    },
    "language_info": {
      "name": "python"
    }
  },
  "cells": [
    {
      "cell_type": "markdown",
      "metadata": {
        "id": "view-in-github",
        "colab_type": "text"
      },
      "source": [
        "<a href=\"https://colab.research.google.com/github/yukti845/Neural-Networks/blob/main/Convolutional_Neural_Network.ipynb\" target=\"_parent\"><img src=\"https://colab.research.google.com/assets/colab-badge.svg\" alt=\"Open In Colab\"/></a>"
      ]
    },
    {
      "cell_type": "markdown",
      "metadata": {
        "id": "LlfgxHFQPWNq"
      },
      "source": [
        "# Convolutional Neural Network"
      ]
    },
    {
      "cell_type": "markdown",
      "metadata": {
        "id": "G36ARdZAPdIx"
      },
      "source": [
        "## Importing the libraries"
      ]
    },
    {
      "cell_type": "code",
      "metadata": {
        "id": "XTwroI2JPcP5"
      },
      "source": [
        "import tensorflow as tf\n",
        "from keras.preprocessing.image import ImageDataGenerator"
      ],
      "execution_count": 1,
      "outputs": []
    },
    {
      "cell_type": "code",
      "metadata": {
        "colab": {
          "base_uri": "https://localhost:8080/",
          "height": 35
        },
        "id": "3UFfLzW8Pt_p",
        "outputId": "9d4df0bc-cb50-4c7f-8305-0e85f4a05568"
      },
      "source": [
        "tf.__version__"
      ],
      "execution_count": 2,
      "outputs": [
        {
          "output_type": "execute_result",
          "data": {
            "application/vnd.google.colaboratory.intrinsic+json": {
              "type": "string"
            },
            "text/plain": [
              "'2.6.0'"
            ]
          },
          "metadata": {
            "tags": []
          },
          "execution_count": 2
        }
      ]
    },
    {
      "cell_type": "markdown",
      "metadata": {
        "id": "LFc18_WKP8Zr"
      },
      "source": [
        "## Part-1 Data Preprocessing"
      ]
    },
    {
      "cell_type": "markdown",
      "metadata": {
        "id": "5loCN17suGkO"
      },
      "source": [
        "### Preprocessing the Training set"
      ]
    },
    {
      "cell_type": "code",
      "metadata": {
        "id": "zHgr4y_6P3Fo"
      },
      "source": [
        "train_datagen = ImageDataGenerator(rescale=1./255,\n",
        "                                   shear_range=0.2,\n",
        "                                   zoom_range=0.2,\n",
        "                                   horizontal_flip=True)"
      ],
      "execution_count": 3,
      "outputs": []
    },
    {
      "cell_type": "code",
      "metadata": {
        "colab": {
          "base_uri": "https://localhost:8080/"
        },
        "id": "g_x-KlidunHa",
        "outputId": "49ab03f0-d9a6-47b8-af14-3aeb8efbf9bb"
      },
      "source": [
        "training_set = train_datagen.flow_from_directory(\"/content/drive/MyDrive/cnn dataset/dataset/training_set\",\n",
        "                                                 target_size = (64, 64),\n",
        "                                                 batch_size = 32,\n",
        "                                                 class_mode = 'binary')"
      ],
      "execution_count": 4,
      "outputs": [
        {
          "output_type": "stream",
          "text": [
            "Found 8000 images belonging to 2 classes.\n"
          ],
          "name": "stdout"
        }
      ]
    },
    {
      "cell_type": "markdown",
      "metadata": {
        "id": "J6W2O6kHxhb8"
      },
      "source": [
        "### Preprocessing the Test set"
      ]
    },
    {
      "cell_type": "code",
      "metadata": {
        "colab": {
          "base_uri": "https://localhost:8080/"
        },
        "id": "RHhfmAYYxTUa",
        "outputId": "8fc1b1cb-bef3-4e7f-eb28-f28059da458c"
      },
      "source": [
        "test_datagen = ImageDataGenerator(rescale=1./255)\n",
        "\n",
        "test_set = test_datagen.flow_from_directory(\"/content/drive/MyDrive/cnn dataset/dataset/test_set\",\n",
        "                        target_size = (64, 64),\n",
        "                        batch_size = 32,\n",
        "                        class_mode = 'binary')"
      ],
      "execution_count": 5,
      "outputs": [
        {
          "output_type": "stream",
          "text": [
            "Found 2000 images belonging to 2 classes.\n"
          ],
          "name": "stdout"
        }
      ]
    },
    {
      "cell_type": "markdown",
      "metadata": {
        "id": "zVmVlXoPRn1v"
      },
      "source": [
        "## Part-2 Building the CNN"
      ]
    },
    {
      "cell_type": "markdown",
      "metadata": {
        "id": "fDNWko4nRtt0"
      },
      "source": [
        "### Initializing the CNN"
      ]
    },
    {
      "cell_type": "code",
      "metadata": {
        "id": "TXTeOAh-yHf-"
      },
      "source": [
        "cnn = tf.keras.models.Sequential()"
      ],
      "execution_count": 6,
      "outputs": []
    },
    {
      "cell_type": "markdown",
      "metadata": {
        "id": "bRVpvhXMSUuw"
      },
      "source": [
        "### Step-1 Convolution"
      ]
    },
    {
      "cell_type": "code",
      "metadata": {
        "id": "-bbJVkX8SPl6"
      },
      "source": [
        "cnn.add(tf.keras.layers.Conv2D(filters=32, kernel_size=3, activation='relu', input_shape=[64, 64, 3]))"
      ],
      "execution_count": 7,
      "outputs": []
    },
    {
      "cell_type": "markdown",
      "metadata": {
        "id": "CCWPAFTNWNt7"
      },
      "source": [
        "### Step-2 Pooling"
      ]
    },
    {
      "cell_type": "code",
      "metadata": {
        "id": "ZPwOiZZmTGGi"
      },
      "source": [
        "cnn.add(tf.keras.layers.MaxPool2D(pool_size=2, strides=2))"
      ],
      "execution_count": 8,
      "outputs": []
    },
    {
      "cell_type": "markdown",
      "metadata": {
        "id": "_50cQmGzU_uO"
      },
      "source": [
        "#### Adding a second convolution layer"
      ]
    },
    {
      "cell_type": "code",
      "metadata": {
        "id": "JiKSXPS1Tred"
      },
      "source": [
        "cnn.add(tf.keras.layers.Conv2D(filters=32, kernel_size=3, activation='relu'))\n",
        "cnn.add(tf.keras.layers.MaxPool2D(pool_size=2, strides=2))"
      ],
      "execution_count": 9,
      "outputs": []
    },
    {
      "cell_type": "markdown",
      "metadata": {
        "id": "Tb2oUbxtWFEw"
      },
      "source": [
        "### Step-3 Flattening"
      ]
    },
    {
      "cell_type": "code",
      "metadata": {
        "id": "NzP5tdkDWC6g"
      },
      "source": [
        "cnn.add(tf.keras.layers.Flatten())"
      ],
      "execution_count": 10,
      "outputs": []
    },
    {
      "cell_type": "markdown",
      "metadata": {
        "id": "ZoFyMjL2EUqY"
      },
      "source": [
        "### Step-4 Full Connection"
      ]
    },
    {
      "cell_type": "code",
      "metadata": {
        "id": "DJf3G1nWWlHH"
      },
      "source": [
        "cnn.add(tf.keras.layers.Dense(units=120, activation='relu'))"
      ],
      "execution_count": 11,
      "outputs": []
    },
    {
      "cell_type": "markdown",
      "metadata": {
        "id": "m-9zOwWeFSSD"
      },
      "source": [
        "### Step-5 Output Layer"
      ]
    },
    {
      "cell_type": "code",
      "metadata": {
        "id": "zTh3safEFQUg"
      },
      "source": [
        "cnn.add(tf.keras.layers.Dense(units=1, activation='sigmoid'))"
      ],
      "execution_count": 12,
      "outputs": []
    },
    {
      "cell_type": "markdown",
      "metadata": {
        "id": "Wu3rX8hKF0h1"
      },
      "source": [
        "## Part-3 Training the CNN"
      ]
    },
    {
      "cell_type": "markdown",
      "metadata": {
        "id": "7-SlwGa4F7AP"
      },
      "source": [
        "### Compiling the CNN"
      ]
    },
    {
      "cell_type": "code",
      "metadata": {
        "id": "s4JipjZiFcgb"
      },
      "source": [
        "cnn.compile(optimizer='adam', loss='binary_crossentropy', metrics=['accuracy'])"
      ],
      "execution_count": 13,
      "outputs": []
    },
    {
      "cell_type": "markdown",
      "metadata": {
        "id": "TmWEbhJuG_i8"
      },
      "source": [
        "### Training the CNN on the Training set and evaluating it on the Test set"
      ]
    },
    {
      "cell_type": "code",
      "metadata": {
        "id": "UWVcXEz4GKga"
      },
      "source": [
        "cnn.fit(x = training_set, validation_data=test_set, epochs=25)"
      ],
      "execution_count": null,
      "outputs": []
    }
  ]
}