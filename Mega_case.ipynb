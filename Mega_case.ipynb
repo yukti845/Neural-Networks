{
  "nbformat": 4,
  "nbformat_minor": 0,
  "metadata": {
    "colab": {
      "name": "Mega case.ipynb",
      "provenance": [],
      "mount_file_id": "18Eiqytr-3AXMd6ZEO-4lMuXOdw6jl3aX",
      "authorship_tag": "ABX9TyOHsbgNo5QwtNJWjExz0yXw",
      "include_colab_link": true
    },
    "kernelspec": {
      "name": "python3",
      "display_name": "Python 3"
    },
    "language_info": {
      "name": "python"
    }
  },
  "cells": [
    {
      "cell_type": "markdown",
      "metadata": {
        "id": "view-in-github",
        "colab_type": "text"
      },
      "source": [
        "<a href=\"https://colab.research.google.com/github/yukti845/Neural-Networks/blob/main/Mega_case.ipynb\" target=\"_parent\"><img src=\"https://colab.research.google.com/assets/colab-badge.svg\" alt=\"Open In Colab\"/></a>"
      ]
    },
    {
      "cell_type": "markdown",
      "metadata": {
        "id": "scNxt6tQIbfk"
      },
      "source": [
        "# Mega Case Study - Making a hybrid deep learning model"
      ]
    },
    {
      "cell_type": "markdown",
      "metadata": {
        "id": "Oh3HaROAIjeG"
      },
      "source": [
        "## Part-1 SOM"
      ]
    },
    {
      "cell_type": "markdown",
      "metadata": {
        "id": "Y1Za48KHIops"
      },
      "source": [
        "### Install MiniSom package"
      ]
    },
    {
      "cell_type": "code",
      "metadata": {
        "colab": {
          "base_uri": "https://localhost:8080/"
        },
        "id": "NVyfk4GQIVJu",
        "outputId": "cddab3f5-f7b9-464c-9d6a-1a846ce02742"
      },
      "source": [
        "!pip install MiniSom"
      ],
      "execution_count": 1,
      "outputs": [
        {
          "output_type": "stream",
          "name": "stdout",
          "text": [
            "Collecting MiniSom\n",
            "  Downloading MiniSom-2.2.9.tar.gz (8.1 kB)\n",
            "Building wheels for collected packages: MiniSom\n",
            "  Building wheel for MiniSom (setup.py) ... \u001b[?25l\u001b[?25hdone\n",
            "  Created wheel for MiniSom: filename=MiniSom-2.2.9-py3-none-any.whl size=8594 sha256=c408e4566b96e6679bc0b0ab911b544efaa5a830936cc1ab212d8b0b636f66a2\n",
            "  Stored in directory: /root/.cache/pip/wheels/3d/a1/10/f50b6f4865652eac239a2700de411c3078c27e1318320e494c\n",
            "Successfully built MiniSom\n",
            "Installing collected packages: MiniSom\n",
            "Successfully installed MiniSom-2.2.9\n"
          ]
        }
      ]
    },
    {
      "cell_type": "markdown",
      "metadata": {
        "id": "ak428dLZJBKX"
      },
      "source": [
        "### Importing the Libraries"
      ]
    },
    {
      "cell_type": "code",
      "metadata": {
        "id": "7anvoOqhI6FC"
      },
      "source": [
        "import numpy as np\n",
        "import pandas as pd\n",
        "import matplotlib.pyplot as plt\n"
      ],
      "execution_count": 2,
      "outputs": []
    },
    {
      "cell_type": "markdown",
      "metadata": {
        "id": "mPZGHPVe_VfZ"
      },
      "source": [
        "### Importing the Dataset"
      ]
    },
    {
      "cell_type": "code",
      "metadata": {
        "id": "HFa08VvEJPaK"
      },
      "source": [
        "data = pd.read_csv(\"/content/drive/MyDrive/som_dataset/Credit_Card_Applications.csv\")\n",
        "x = data.iloc[:, :-1].values \n",
        "y = data.iloc[:, -1].values"
      ],
      "execution_count": 4,
      "outputs": []
    },
    {
      "cell_type": "code",
      "metadata": {
        "id": "nX09PP8__poL"
      },
      "source": [
        ""
      ],
      "execution_count": null,
      "outputs": []
    }
  ]
}