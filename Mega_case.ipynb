{
  "nbformat": 4,
  "nbformat_minor": 0,
  "metadata": {
    "colab": {
      "name": "Mega case.ipynb",
      "provenance": [],
      "mount_file_id": "18Eiqytr-3AXMd6ZEO-4lMuXOdw6jl3aX",
      "authorship_tag": "ABX9TyNLVWT3ITAf9vJPogF4ShAl",
      "include_colab_link": true
    },
    "kernelspec": {
      "name": "python3",
      "display_name": "Python 3"
    },
    "language_info": {
      "name": "python"
    }
  },
  "cells": [
    {
      "cell_type": "markdown",
      "metadata": {
        "id": "view-in-github",
        "colab_type": "text"
      },
      "source": [
        "<a href=\"https://colab.research.google.com/github/yukti845/Neural-Networks/blob/main/Mega_case.ipynb\" target=\"_parent\"><img src=\"https://colab.research.google.com/assets/colab-badge.svg\" alt=\"Open In Colab\"/></a>"
      ]
    },
    {
      "cell_type": "markdown",
      "metadata": {
        "id": "scNxt6tQIbfk"
      },
      "source": [
        "# Mega Case Study - Making a hybrid deep learning model"
      ]
    },
    {
      "cell_type": "markdown",
      "metadata": {
        "id": "Oh3HaROAIjeG"
      },
      "source": [
        "## Part-1 SOM"
      ]
    },
    {
      "cell_type": "markdown",
      "metadata": {
        "id": "Y1Za48KHIops"
      },
      "source": [
        "### Install MiniSom package"
      ]
    },
    {
      "cell_type": "code",
      "metadata": {
        "colab": {
          "base_uri": "https://localhost:8080/"
        },
        "id": "NVyfk4GQIVJu",
        "outputId": "8b39ab3a-1ca9-48c9-9d7d-0148067ce850"
      },
      "source": [
        "!pip install MiniSom"
      ],
      "execution_count": 8,
      "outputs": [
        {
          "output_type": "stream",
          "name": "stdout",
          "text": [
            "Requirement already satisfied: MiniSom in /usr/local/lib/python3.7/dist-packages (2.2.9)\n"
          ]
        }
      ]
    },
    {
      "cell_type": "markdown",
      "metadata": {
        "id": "ak428dLZJBKX"
      },
      "source": [
        "### Importing the Libraries"
      ]
    },
    {
      "cell_type": "code",
      "metadata": {
        "id": "7anvoOqhI6FC"
      },
      "source": [
        "import numpy as np\n",
        "import pandas as pd\n",
        "import matplotlib.pyplot as plt\n"
      ],
      "execution_count": 9,
      "outputs": []
    },
    {
      "cell_type": "markdown",
      "metadata": {
        "id": "mPZGHPVe_VfZ"
      },
      "source": [
        "### Importing the Dataset"
      ]
    },
    {
      "cell_type": "code",
      "metadata": {
        "id": "HFa08VvEJPaK"
      },
      "source": [
        "data = pd.read_csv(\"/content/drive/MyDrive/som_dataset/Credit_Card_Applications.csv\")\n",
        "x = data.iloc[:, :-1].values \n",
        "y = data.iloc[:, -1].values"
      ],
      "execution_count": 10,
      "outputs": []
    },
    {
      "cell_type": "markdown",
      "metadata": {
        "id": "Xo4Pvlt9AHQB"
      },
      "source": [
        "### Feature Scaling"
      ]
    },
    {
      "cell_type": "code",
      "metadata": {
        "id": "nX09PP8__poL"
      },
      "source": [
        "from sklearn.preprocessing import MinMaxScaler\n",
        "sc = MinMaxScaler(feature_range = (0,1))\n",
        "x = sc.fit_transform(x)"
      ],
      "execution_count": 11,
      "outputs": []
    },
    {
      "cell_type": "markdown",
      "metadata": {
        "id": "mf6ghVjtD7mK"
      },
      "source": [
        "### Training the SOM"
      ]
    },
    {
      "cell_type": "code",
      "metadata": {
        "id": "C2rzJMpaAh6R"
      },
      "source": [
        "from minisom import MiniSom\n",
        "som = MiniSom(x=10, y=10, input_len= 15, sigma= 1.0, learning_rate = 0.5)\n",
        "som.random_weights_init(x)\n",
        "som.train_random(data = x, num_iteration = 100)"
      ],
      "execution_count": 12,
      "outputs": []
    },
    {
      "cell_type": "markdown",
      "metadata": {
        "id": "Dn1nnWujEU1P"
      },
      "source": [
        "## Visualizing the result"
      ]
    },
    {
      "cell_type": "code",
      "metadata": {
        "colab": {
          "base_uri": "https://localhost:8080/",
          "height": 269
        },
        "id": "CzoZpBrZEFp3",
        "outputId": "e306c407-212a-4051-ecdc-a5c7d271a826"
      },
      "source": [
        "from pylab import bone, pcolor, colorbar, plot, show\n",
        "bone()\n",
        "pcolor(som.distance_map().T)\n",
        "colorbar()\n",
        "markers = ['o', 's']\n",
        "colors = ['r', 'g']\n",
        "for i, j in enumerate(x):\n",
        "    w = som.winner(j)\n",
        "    plot(w[0] + 0.5,\n",
        "         w[1] + 0.5,\n",
        "         markers[y[i]],\n",
        "         markeredgecolor = colors[y[i]],\n",
        "         markerfacecolor = 'None',\n",
        "         markersize = 10,\n",
        "         markeredgewidth = 2)\n",
        "show()"
      ],
      "execution_count": 13,
      "outputs": [
        {
          "output_type": "display_data",
          "data": {
            "image/png": "[encoded data removed]",
            "text/plain": [
              "<Figure size 432x288 with 2 Axes>"
            ]
          },
          "metadata": {
            "needs_background": "light"
          }
        }
      ]
    },
    {
      "cell_type": "markdown",
      "metadata": {
        "id": "Lru-v4GFEooo"
      },
      "source": [
        "### Finding the Frauds"
      ]
    },
    {
      "cell_type": "code",
      "metadata": {
        "id": "P1Tiwr1ZEcvD"
      },
      "source": [
        "mappings = som.win_map(x)\n",
        "frauds = np.concatenate((mappings[(6,8)], mappings[(5,1)]), axis = 0)\n",
        "frauds = sc.inverse_transform(frauds)"
      ],
      "execution_count": 14,
      "outputs": []
    },
    {
      "cell_type": "code",
      "metadata": {
        "colab": {
          "base_uri": "https://localhost:8080/"
        },
        "id": "rO1kdNOoEw2O",
        "outputId": "bd8078a5-a8b3-4b58-acf2-ee2f256bfea1"
      },
      "source": [
        "print('Fraud Customer IDs')\n",
        "for i in frauds[:, 0]:\n",
        "  print(int(i))"
      ],
      "execution_count": 15,
      "outputs": [
        {
          "output_type": "stream",
          "name": "stdout",
          "text": [
            "Fraud Customer IDs\n",
            "15594305\n",
            "15568162\n",
            "15664793\n",
            "15670029\n",
            "15662189\n",
            "15696361\n",
            "15568469\n",
            "15586479\n",
            "15717700\n",
            "15603565\n",
            "15705379\n",
            "15646535\n",
            "15567919\n",
            "15683168\n",
            "15682860\n",
            "15765257\n",
            "15764226\n",
            "15767231\n",
            "15690492\n",
            "15762716\n",
            "15706464\n",
            "15761047\n",
            "15687527\n",
            "15717065\n",
            "15721569\n",
            "15771409\n",
            "15814116\n",
            "15785705\n",
            "15674750\n"
          ]
        }
      ]
    },
    {
      "cell_type": "markdown",
      "metadata": {
        "id": "4M-oFCZBCc46"
      },
      "source": [
        "## Part-2 Going from Unsupervised to Supervised Learning"
      ]
    },
    {
      "cell_type": "markdown",
      "metadata": {
        "id": "Ck1HeVz9CoQ6"
      },
      "source": [
        "### Create Matrix of Features"
      ]
    },
    {
      "cell_type": "code",
      "metadata": {
        "id": "kFZZ69PSE5To"
      },
      "source": [
        "customers = data.iloc[:, 1:].values"
      ],
      "execution_count": 16,
      "outputs": []
    },
    {
      "cell_type": "markdown",
      "metadata": {
        "id": "H7T-REE4DIV0"
      },
      "source": [
        "### Create Dependent Variable"
      ]
    },
    {
      "cell_type": "code",
      "metadata": {
        "id": "WhTTfswtC9TL"
      },
      "source": [
        "is_fraud = np.zeros(len(data))\n",
        "for i in range(len(data)):\n",
        "  if data.iloc[i,0] in frauds:\n",
        "    is_fraud[i] = 1"
      ],
      "execution_count": 17,
      "outputs": []
    },
    {
      "cell_type": "markdown",
      "metadata": {
        "id": "Fl4V9u7HDtXF"
      },
      "source": [
        "## Part-3 ANN"
      ]
    },
    {
      "cell_type": "markdown",
      "metadata": {
        "id": "Pb8Y5ATiD0pd"
      },
      "source": [
        "### Feature Scaling"
      ]
    },
    {
      "cell_type": "code",
      "metadata": {
        "id": "AjY-IaOYDUuX"
      },
      "source": [
        "from sklearn.preprocessing import StandardScaler\n",
        "sc = StandardScaler()\n",
        "customers = sc.fit_transform(customers)"
      ],
      "execution_count": 18,
      "outputs": []
    },
    {
      "cell_type": "markdown",
      "metadata": {
        "id": "Kwb3hN6nENzA"
      },
      "source": [
        "## Building the ANN"
      ]
    },
    {
      "cell_type": "markdown",
      "metadata": {
        "id": "EMjyud31EQcH"
      },
      "source": [
        "### Import Tensorflow"
      ]
    },
    {
      "cell_type": "code",
      "metadata": {
        "colab": {
          "base_uri": "https://localhost:8080/",
          "height": 35
        },
        "id": "-l8N8gXDELhQ",
        "outputId": "744294ff-0ac2-4697-c34c-397d299e44f6"
      },
      "source": [
        "import tensorflow as tf\n",
        "tf.__version__"
      ],
      "execution_count": 19,
      "outputs": [
        {
          "output_type": "execute_result",
          "data": {
            "application/vnd.google.colaboratory.intrinsic+json": {
              "type": "string"
            },
            "text/plain": [
              "'2.6.0'"
            ]
          },
          "metadata": {},
          "execution_count": 19
        }
      ]
    },
    {
      "cell_type": "markdown",
      "metadata": {
        "id": "ToRedj9AFFNz"
      },
      "source": [
        "## Initialising the ANN"
      ]
    },
    {
      "cell_type": "code",
      "metadata": {
        "id": "rTcSFhokEap5"
      },
      "source": [
        "ann = tf.keras.models.Sequential()"
      ],
      "execution_count": 20,
      "outputs": []
    },
    {
      "cell_type": "markdown",
      "metadata": {
        "id": "BCi_o2kzFVzR"
      },
      "source": [
        "### Adding the Input layer and first hidden layer"
      ]
    },
    {
      "cell_type": "code",
      "metadata": {
        "id": "YUlVvPmJFPzL"
      },
      "source": [
        "ann.add(tf.keras.layers.Dense(units=2, activation='relu'))"
      ],
      "execution_count": 21,
      "outputs": []
    },
    {
      "cell_type": "markdown",
      "metadata": {
        "id": "GtGtKIO4cQ3c"
      },
      "source": [
        "### Adding the Ouput Layer"
      ]
    },
    {
      "cell_type": "code",
      "metadata": {
        "id": "YfXAewPsFm_b"
      },
      "source": [
        "ann.add(tf.keras.layers.Dense(units=1, activation='sigmoid'))"
      ],
      "execution_count": 22,
      "outputs": []
    },
    {
      "cell_type": "markdown",
      "metadata": {
        "id": "2VQ_q6zick--"
      },
      "source": [
        "## Training the ANN"
      ]
    },
    {
      "cell_type": "markdown",
      "metadata": {
        "id": "vvHrgHWccpQq"
      },
      "source": [
        "### Compiling the ANN"
      ]
    },
    {
      "cell_type": "code",
      "metadata": {
        "id": "NyvE0KlNccqe"
      },
      "source": [
        "ann.compile(optimizer='adam', loss='binary_crossentropy', metrics=['accuracy'])"
      ],
      "execution_count": 23,
      "outputs": []
    },
    {
      "cell_type": "code",
      "metadata": {
        "id": "_y4MCxjidBJx"
      },
      "source": [
        ""
      ],
      "execution_count": null,
      "outputs": []
    }
  ]
}