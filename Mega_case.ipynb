{
  "nbformat": 4,
  "nbformat_minor": 0,
  "metadata": {
    "colab": {
      "name": "Mega case.ipynb",
      "provenance": [],
      "mount_file_id": "18Eiqytr-3AXMd6ZEO-4lMuXOdw6jl3aX",
      "authorship_tag": "ABX9TyMYIE1jqhi6o4wa9OJkSmKt",
      "include_colab_link": true
    },
    "kernelspec": {
      "name": "python3",
      "display_name": "Python 3"
    },
    "language_info": {
      "name": "python"
    }
  },
  "cells": [
    {
      "cell_type": "markdown",
      "metadata": {
        "id": "view-in-github",
        "colab_type": "text"
      },
      "source": [
        "<a href=\"https://colab.research.google.com/github/yukti845/Neural-Networks/blob/main/Mega_case.ipynb\" target=\"_parent\"><img src=\"https://colab.research.google.com/assets/colab-badge.svg\" alt=\"Open In Colab\"/></a>"
      ]
    },
    {
      "cell_type": "markdown",
      "metadata": {
        "id": "scNxt6tQIbfk"
      },
      "source": [
        "# Mega Case Study - Making a hybrid deep learning model"
      ]
    },
    {
      "cell_type": "markdown",
      "metadata": {
        "id": "Oh3HaROAIjeG"
      },
      "source": [
        "## Part-1 SOM"
      ]
    },
    {
      "cell_type": "markdown",
      "metadata": {
        "id": "Y1Za48KHIops"
      },
      "source": [
        "### Install MiniSom package"
      ]
    },
    {
      "cell_type": "code",
      "metadata": {
        "colab": {
          "base_uri": "https://localhost:8080/"
        },
        "id": "NVyfk4GQIVJu",
        "outputId": "b65c86a1-a06c-49b8-b38d-9267daad7dc5"
      },
      "source": [
        "!pip install MiniSom"
      ],
      "execution_count": 10,
      "outputs": [
        {
          "output_type": "stream",
          "name": "stdout",
          "text": [
            "Requirement already satisfied: MiniSom in /usr/local/lib/python3.7/dist-packages (2.2.9)\n"
          ]
        }
      ]
    },
    {
      "cell_type": "markdown",
      "metadata": {
        "id": "ak428dLZJBKX"
      },
      "source": [
        "### Importing the Libraries"
      ]
    },
    {
      "cell_type": "code",
      "metadata": {
        "id": "7anvoOqhI6FC"
      },
      "source": [
        "import numpy as np\n",
        "import pandas as pd\n",
        "import matplotlib.pyplot as plt\n"
      ],
      "execution_count": 11,
      "outputs": []
    },
    {
      "cell_type": "markdown",
      "metadata": {
        "id": "mPZGHPVe_VfZ"
      },
      "source": [
        "### Importing the Dataset"
      ]
    },
    {
      "cell_type": "code",
      "metadata": {
        "id": "HFa08VvEJPaK"
      },
      "source": [
        "data = pd.read_csv(\"/content/drive/MyDrive/som_dataset/Credit_Card_Applications.csv\")\n",
        "x = data.iloc[:, :-1].values \n",
        "y = data.iloc[:, -1].values"
      ],
      "execution_count": 12,
      "outputs": []
    },
    {
      "cell_type": "markdown",
      "metadata": {
        "id": "Xo4Pvlt9AHQB"
      },
      "source": [
        "### Feature Scaling"
      ]
    },
    {
      "cell_type": "code",
      "metadata": {
        "id": "nX09PP8__poL"
      },
      "source": [
        "from sklearn.preprocessing import MinMaxScaler\n",
        "sc = MinMaxScaler(feature_range = (0,1))\n",
        "x = sc.fit_transform(x)"
      ],
      "execution_count": 13,
      "outputs": []
    },
    {
      "cell_type": "markdown",
      "metadata": {
        "id": "mf6ghVjtD7mK"
      },
      "source": [
        "### Training the SOM"
      ]
    },
    {
      "cell_type": "code",
      "metadata": {
        "id": "C2rzJMpaAh6R"
      },
      "source": [
        "from minisom import MiniSom\n",
        "som = MiniSom(x=10, y=10, input_len= 15, sigma= 1.0, learning_rate = 0.5)\n",
        "som.random_weights_init(x)\n",
        "som.train_random(data = x, num_iteration = 100)"
      ],
      "execution_count": 14,
      "outputs": []
    },
    {
      "cell_type": "markdown",
      "metadata": {
        "id": "Dn1nnWujEU1P"
      },
      "source": [
        "## Visualizing the result"
      ]
    },
    {
      "cell_type": "code",
      "metadata": {
        "colab": {
          "base_uri": "https://localhost:8080/",
          "height": 269
        },
        "id": "CzoZpBrZEFp3",
        "outputId": "df804f57-6a63-4227-a8a4-8922415e37ef"
      },
      "source": [
        "from pylab import bone, pcolor, colorbar, plot, show\n",
        "bone()\n",
        "pcolor(som.distance_map().T)\n",
        "colorbar()\n",
        "markers = ['o', 's']\n",
        "colors = ['r', 'g']\n",
        "for i, j in enumerate(x):\n",
        "    w = som.winner(j)\n",
        "    plot(w[0] + 0.5,\n",
        "         w[1] + 0.5,\n",
        "         markers[y[i]],\n",
        "         markeredgecolor = colors[y[i]],\n",
        "         markerfacecolor = 'None',\n",
        "         markersize = 10,\n",
        "         markeredgewidth = 2)\n",
        "show()"
      ],
      "execution_count": 15,
      "outputs": [
        {
          "output_type": "display_data",
          "data": {
            "image/png": "[encoded data removed]",
            "text/plain": [
              "<Figure size 432x288 with 2 Axes>"
            ]
          },
          "metadata": {
            "needs_background": "light"
          }
        }
      ]
    },
    {
      "cell_type": "markdown",
      "metadata": {
        "id": "Lru-v4GFEooo"
      },
      "source": [
        "### Finding the Frauds"
      ]
    },
    {
      "cell_type": "code",
      "metadata": {
        "id": "P1Tiwr1ZEcvD"
      },
      "source": [
        "mappings = som.win_map(x)\n",
        "frauds = np.concatenate((mappings[(6,8)], mappings[(5,1)]), axis = 0)\n",
        "frauds = sc.inverse_transform(frauds)"
      ],
      "execution_count": 16,
      "outputs": []
    },
    {
      "cell_type": "code",
      "metadata": {
        "colab": {
          "base_uri": "https://localhost:8080/"
        },
        "id": "rO1kdNOoEw2O",
        "outputId": "cb5a4a74-4d9a-480f-9f68-055e3b2ee682"
      },
      "source": [
        "print('Fraud Customer IDs')\n",
        "for i in frauds[:, 0]:\n",
        "  print(int(i))"
      ],
      "execution_count": 17,
      "outputs": [
        {
          "output_type": "stream",
          "name": "stdout",
          "text": [
            "Fraud Customer IDs\n",
            "15777994\n",
            "15697310\n",
            "15810723\n",
            "15728082\n",
            "15752601\n",
            "15740356\n",
            "15617348\n",
            "15671769\n",
            "15638989\n",
            "15607746\n",
            "15605341\n",
            "15649430\n",
            "15595010\n"
          ]
        }
      ]
    },
    {
      "cell_type": "markdown",
      "metadata": {
        "id": "4M-oFCZBCc46"
      },
      "source": [
        "## Part-2 Going from Unsupervised to Supervised Learning"
      ]
    },
    {
      "cell_type": "markdown",
      "metadata": {
        "id": "Ck1HeVz9CoQ6"
      },
      "source": [
        "### Create Matrix of Features"
      ]
    },
    {
      "cell_type": "code",
      "metadata": {
        "id": "kFZZ69PSE5To"
      },
      "source": [
        "customers = data.iloc[:, 1:].values"
      ],
      "execution_count": 19,
      "outputs": []
    },
    {
      "cell_type": "markdown",
      "metadata": {
        "id": "H7T-REE4DIV0"
      },
      "source": [
        "### Create Dependent Variable"
      ]
    },
    {
      "cell_type": "code",
      "metadata": {
        "id": "WhTTfswtC9TL"
      },
      "source": [
        "is_fraud = np.zeros(len(data))\n",
        "for i in range(len(data)):\n",
        "  if data.iloc[i,0] in frauds:\n",
        "    is_fraud[i] = 1"
      ],
      "execution_count": 21,
      "outputs": []
    },
    {
      "cell_type": "code",
      "metadata": {
        "id": "AjY-IaOYDUuX"
      },
      "source": [
        ""
      ],
      "execution_count": null,
      "outputs": []
    }
  ]
}