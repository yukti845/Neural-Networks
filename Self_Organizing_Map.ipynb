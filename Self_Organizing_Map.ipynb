    "language_info": {
      "name": "python"
    }
  },
  "cells": [
    {
      "cell_type": "markdown",
      "metadata": {
        "id": "view-in-github",
        "colab_type": "text"
      },
      "source": [
        "<a href=\"https://colab.research.google.com/github/yukti845/Neural-Networks/blob/main/Self_Organizing_Map.ipynb\" target=\"_parent\"><img src=\"https://colab.research.google.com/assets/colab-badge.svg\" alt=\"Open In Colab\"/></a>"
      ]
    },
    {
      "cell_type": "markdown",
      "metadata": {
        "id": "eQ8IIcvWhomH"
      },
      "source": [
        "# Self Organizing Map"
      ]
    },
    {
      "cell_type": "markdown",
      "metadata": {
        "id": "r0aafSxChx9V"
      },
      "source": [
        "## Install MiniSom Package"
      ]
    },
    {
      "cell_type": "code",
      "metadata": {
        "colab": {
          "base_uri": "https://localhost:8080/"
        },
        "id": "FEGNZ4Evhcag",
        "outputId": "6a75dbe9-9ef1-423a-801c-a9e8f68e92d5"
      },
      "source": [
        "!pip install MiniSom"
      ],
      "execution_count": 2,
      "outputs": [
        {
          "output_type": "stream",
          "name": "stdout",
          "text": [
            "Collecting MiniSom\n",
            "  Downloading MiniSom-2.2.9.tar.gz (8.1 kB)\n",
            "Building wheels for collected packages: MiniSom\n",
            "  Building wheel for MiniSom (setup.py) ... \u001b[?25l\u001b[?25hdone\n",
            "  Created wheel for MiniSom: filename=MiniSom-2.2.9-py3-none-any.whl size=8594 sha256=252180035c3c529170f4e4336bb84fb85afcfbee76168394edb40d9b0845eb49\n",
            "  Stored in directory: /root/.cache/pip/wheels/3d/a1/10/f50b6f4865652eac239a2700de411c3078c27e1318320e494c\n",
            "Successfully built MiniSom\n",
            "Installing collected packages: MiniSom\n",
            "Successfully installed MiniSom-2.2.9\n"
          ]
        }
      ]
    },
    {
      "cell_type": "markdown",
      "metadata": {
        "id": "QEy0TlhvimSn"
      },
      "source": [
        "## Importing the Libraries"
      ]
    },
    {
      "cell_type": "code",
      "metadata": {
        "id": "8jknNO1uh770"
      },
      "source": [
        "import numpy as np\n",
        "import pandas as pd\n",
        "import matplotlib.pyplot as plt"
      ],
      "execution_count": 3,
      "outputs": []
    },
    {
      "cell_type": "markdown",
      "metadata": {
        "id": "LDhGS-yv8nQF"
      },
      "source": [
        "## Importing the Dataset"
      ]
    },
    {
      "cell_type": "code",
      "metadata": {
        "id": "yQz_A8AOiwSB"
      },
      "source": [
        "dataset = pd.read_csv(\"/content/drive/MyDrive/som_dataset/Credit_Card_Applications.csv\")\n",
        "x = dataset.iloc[:, :-1].values\n",
        "y = dataset.iloc[:, -1].values"
      ],
      "execution_count": 4,
      "outputs": []
    },
    {
      "cell_type": "markdown",
      "metadata": {
        "id": "e_hfhQPb9iAe"
      },
      "source": [
        "## Feature Scaling"
      ]
    },
    {
      "cell_type": "code",
      "metadata": {
        "id": "t5iMEGc29WDw"
      },
      "source": [
        "from sklearn.preprocessing import MinMaxScaler\n",
        "sc = MinMaxScaler(feature_range = (0, 1))\n",
        "x = sc.fit_transform(x)"
      ],
      "execution_count": 5,
      "outputs": []
    },
    {
      "cell_type": "markdown",
      "metadata": {
        "id": "DX8CiuyX-MMO"
      },
      "source": [
        "## Training the SOM"
      ]
    },
    {
      "cell_type": "code",
      "metadata": {
        "id": "NrWefb_h-GNW"
      },
      "source": [
        "from minisom import MiniSom\n",
        "som = MiniSom(x=10, y=10, input_len = 15, sigma=1.0, learning_rate = 0.5)"
      ],
      "execution_count": 6,
      "outputs": []
    },
    {
      "cell_type": "code",
      "metadata": {
        "id": "vKKZrfEN-sbF"
      },
      "source": [
        "som.random_weights_init(x)\n",
        "som.train_random(data=x, num_iteration=100)"
      ],
      "execution_count": 7,
      "outputs": []
    },
    {
      "cell_type": "markdown",
      "metadata": {
        "id": "V-z4uwoGkTaU"
      },
      "source": [
        "## Visualizing the Result"
      ]
    },
    {
      "cell_type": "code",
      "metadata": {
        "id": "_hoH-z1X_DJ-"
      },
      "source": [
        "from pylab import pcolor, bone, plot, show, colorbar"
      ],
      "execution_count": 8,
      "outputs": []
    },
    {
      "cell_type": "code",
      "metadata": {
        "colab": {
          "base_uri": "https://localhost:8080/",
          "height": 269
        },
        "id": "fl1rgsOKkgVE",
        "outputId": "bb409950-aefc-4d44-9d55-ddf686f86d63"
      },
      "source": [
        "bone()\n",
        "pcolor(som.distance_map().T)\n",
        "colorbar()\n",
        "markers = ['o', 's']\n",
        "colors = ['r', 'g']\n",
        "for i, j in enumerate(x):\n",
        "  w = som.winner(j)\n",
        "  plot(w[0] + 0.5,\n",
        "       w[1] + 0.5,\n",
        "       markers[y[i]],\n",
        "       markeredgecolor = colors[y[i]],\n",
        "       markerfacecolor = 'None',\n",
        "       markersize = 10,\n",
        "       markeredgewidth = 2)\n",
        "  \n",
        "show()"
      ],
      "execution_count": 9,
      "outputs": [
        {
          "output_type": "display_data",
          "data": {
            "image/png": "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\n",
            "text/plain": [
              "<Figure size 432x288 with 2 Axes>"
            ]
          },
          "metadata": {
            "needs_background": "light"
          }
        }
      ]
    },
    {
      "cell_type": "code",
      "metadata": {
        "colab": {
          "base_uri": "https://localhost:8080/",
          "height": 265
        },
        "id": "sgNcdTjFkrW6",
        "outputId": "9f71db72-740c-4be4-d1b8-bc32ec910592"
      },
      "source": [
        "markers = ['o', 's']\n",
        "colors = ['r', 'g']\n",
        "for i, j in enumerate(x):\n",
        "  w = som.winner(j)\n",
        "  plot(w[0] + 0.5,\n",
        "       w[1] + 0.5,\n",
        "       markers[y[i]],\n",
        "       markeredgecolor = colors[y[i]],\n",
        "       markerfacecolor = 'None',\n",
        "       markersize = 10,\n",
        "       markeredgewidth = 2)\n",
        "  \n",
        "show()"
      ],
      "execution_count": 10,
      "outputs": [
        {
          "output_type": "display_data",
          "data": {
            "image/png": "iVBORw0KGgoAAAANSUhEUgAAAWoAAAD4CAYAAADFAawfAAAABHNCSVQICAgIfAhkiAAAAAlwSFlzAAALEgAACxIB0t1+/AAAADh0RVh0U29mdHdhcmUAbWF0cGxvdGxpYiB2ZXJzaW9uMy4yLjIsIGh0dHA6Ly9tYXRwbG90bGliLm9yZy+WH4yJAAAgAElEQVR4nO2dfZQU1bmvn90zEwcMCiLBe2ZAY84F8aAERmIUv0BybkQzBBliVk68IBq8N2oIqFkJBDOA6FkgoAlJjgiiJubEMKgDkXhjAn5GQBDiBwTXCeoMJCgHwYx86Ay97x+7q6t6prurYXpXbWbeZ61e1VX1Mv1jV9Xbu9/atX9Ka40gCILgLom4BQiCIAj5kUQtCILgOJKoBUEQHEcStSAIguNIohYEQXCcUht/9NRTT9VnnHGGjT8tCILQIdm0adN/a617ZdtnJVGfccYZbNy40cafFgRB6JAopd7NtU9KH4IgCI4jiVoQBMFxrJQ+CkHNVEcVr38U0ROUixfDrFlw8CB07QozZ8L110fz2R5nnw3btvnrAwfC669b/1hnj8m3vw0PPADJJCQS8H/+D/zkJ9Y/1pX2cFXHxFeg9nno2gwHy2DGZfBwlX0dGVx6KTz/vL8+fDisWWP9Y6M+JtKj9qirg5ISuPFG2LUL9u0zyxtuMNvr6uxruPhiUCozSQO88YbZfvHF9jW4xB13mP/3z38OLS0mUbe0wKJFZvsdd8StsFMy5k1onglLnoI+TdDzsFkuW2W2j3kzAhE1NeYcCCZpgLVrzfaamghEREdsPWqPsG+ao/3mOibq6mDcOH89kTC96YMHTXJIJs3+FSvg6qvtaLj4YnjxxfwxL75oegxr19rRkEI/cibs2AFlZVBdDf37w/btUF8PLS2oWqsfb7jjDpg9O3/M7NlQWmo9Yeva/PsjaQ/cOC5j3oTHl2ffp4BSDSuWwxibl21NjbkW87FiBXz96/DrX1sUEt0xkR41wDXX+O+XLYMjR6CpySyXLfP3BZN5sQkm6UGDQGv/NWiQv+/ZZ+1p8NixA4YMMcu6Opgzxyzffttsj4Jgkp48ObM9Jk/29/3oR9HoATjjjEwdUQ9BdeC4/Cb4w3Lo0Mz2GDoUMAm7LkcyLwrBJD1yZKaGkSP9fY89ZlFEioiOiSTqxYtNjxlMUp4wIXP/hAmwZIl5n0zC0qXF13D22f77QYNgy5bM/Vu2mDq1xznnFF9DkLIy0yOorMzcXlkJTz7przc22vn8b3/bfz95Mtx7b+b+e++Fm2/212+5xY6OIGecYS6+IG+/DX36+Ot9+9rVEPNxmfgKlHg/gIcOhQ0bMgM2bIAhQ9Ck4qqqKDqXXuq/HzkSnnkmc/8zz5hfnR4jRhRfQ5CIjomyMc3peeedp8PGUXsljUJLH9ZuTFRWmlp0ImF60LkoKTGJurKy+BeCCvxOzHc8Co07VhleW78+Nm9NPh136iK46aai66CszNSiobD2KCuDTz4puoz0/7M2v45C49qtI+bj0niSok9TaiXP/7MloSjV4XHHRAe+VpRSm7TW52XbJz3qgwfNsmvX/HHe/gMH7Opxgf79C4vbt8/O53u/cAol3xdsRyLm49K1ubC4g2VWPt5NIjomkqi9BOwl7Fx4+0880a4eF9i+vbC4Hj3sfH7iKE/LkhI7Olwj5uNSaAIuNKF3CCI6JpKovREDySQ89FD2mKVL/V5ebW3xNQwY4L///OezxwTr0sF6tQ1WroSdO7PvC5Z9qqvtfP63vuW//+53s8cE69I33mhHR5DPfjb79mBdOlivtkHMx6X2EkgXEb7whexBVVWU6FScjRucl1ziv//Sl7LHBOvSwXq1DSI6JpKoJ03ye3DXXdf2ZuHSpWYsNZg4Gw+/bN3qv//zn9veLDznHDOW2sP2wy/NzTB6dNtafGMjfPWr/rqtxPSzn/nv77uv7c3CW24xY6k9Inj4hXfeaXuzsG/fzDZqaLCrIebj8uBQOOKVfl95pe3NwqoqePVVFKm4TZuKL+K55/z3f/hD25uFI0ZkDl+1/fBLRMck9puJhWL1KaewcdQecY+jBrjsMmvjqJ06JoWMowbz5KilcdSutIdLOsa8acZJK0yv+YgyJZGuzWakh7d9zNfgyccsnR+FjKMGM+zW0jhqG8dEbiaGUVMDy5f7PetkEj76yE/SiYTdJA3wwgtw0UX5YywmaeeYNQtmzMgfYzFJC9l54l9g7DhoSeWpUg0nfUJ6lEeLMkm6/uzcf6Pd1NXB2LH5Yywm6TiIrUftLEuXmjr0gQPmxmFtbfRzfbQudUQ010cbGhtNDW7fPnMzpLrafh02G7fcAvffb0Z3eI/5R1HuaE3rUkefPvbLHdlw5bikSh1phgyxU+7IR+tSR0RzfbShCMckX49aErUgCIIDSOlDEAThOEYStSAIguNIohYEQXAcSdSCIAiOI4laEATBcSRRC4IgOI4kakEQBMeRRC0IguA4nd6F3BUdLtC6Lfrsh+rt0P0w7C+H+rNg58n+/o5+TFzR4Qqt2+PHq+DGzZDQkFTwsyqYcqW/30Z7OHtMXn4ZFizwn0y87TY4//yi/fnYzW0F9+jdBItWw5i/BKyXgPuehifOgptHwXvd4tMnxMsP18CslPl3Om1qmPyKed1xCdxp2QHLGV57DUaNMi5RQerqoKICVq+Gc89t98fEnqidcCHHDYdnF+jdBLvvK/WtsCoq4PTT4d13Kdm1i5ptMHg3XBjB9CcZ7t9ZZjSMzP3bkXPUBX64BmY/n32f1wqznk9Nc2rRd7iNM3wikTHTZSTnxmuvmflOslwr7NplXlVVsHlzu+eQlxq1hwMOzy6waDXmxOvSxZiV7twJL71klhs2QJcufG4f/PSpCEXlc4YXImVWMEmfckqmA/gppwAmYc95Lus/Lz4zZpjPPnLELMNmXCwmo0aFXiu0tMCXv9zuj5JE7RG387YD9Nlvyh2AmaB96NDMgKFDYe1amhOpuPXr7YsKc4YHO87wQht+vCqwcsopsHdvZsDevdC9u+8CY8uqzWPGDDMdbpBZs2DaNH99+nQ7n/3yy365I8+1Api4dl4rkqg9qqvbJmmP4HSFK1dGoycGqrenatIVFW1PPI/zz6e+fypu/ny7ghKJtknaIzj1rA17NKENN24O1KRbJ2mPlImrAti/366g1knaY84c//3ChXY+e8ECswy5VqioMO/bea1IovaI23nbAbofTr05/fS8cW/1TL354AOrekKd4T06gzO8AyQKHEARyTiLQg2Qmy057Xp5IORaSdu3tfNakUTtEbfztgPsL0+9effdvHH9vM5UqiZpjTBneI/O4AzvAMkC75lGcms1aJGXj7ICrdOPFi8PhFwraWOJdl4rkqg94nbedoCV/VN363ftMual2Vi/ntHbU3G33mpXUJgzvIeUPiLh/sGB3nLPntmDUglMA3TvbldQLhu2YF16yhQ7nz11qlmGXCvpOnY7rxVJ1B5xO287QGN3M04agEsvbXsDZP16GD6csmQqrogD+nMS5gwP0VuldVK+85XAygcftP112aMH7N/v96htlwlnz257s3D6dLjrLn89WK8uJhdc4Nef81wrgIlr57XS6V3IXdHhAmqmoncTvPQgfG4fNCegvr+pSffbC6O3Q1kS/trDjKN+b17HPiau6HAFNVOlH3bx3MZJLb2W8rZPvxTueraDP5mYbRx1376m3OH1pEtLCx5HLVZcQsG81w2GTYS6AebmUc02mPaiWSa02X7h9fD+p+NWKsTBnSPMk4de+lOYJOKlTy9J3z08FnnRcu65xszX61nv2pU5bK+ioigPu4CY27bFFYdnF1i/3gwr+uADczPk1lujKXe0xgVneKEtqVJHmu7dox8VNX26GYLX3GxuHE6ZYq/ckY8iXCviQi4IguA47S59KKWmKKXeVEq9oZT6T6VUefi/EgRBEIpBaKJWSlUA3wHO01oPBEqAr9sWJgiCIBgKvZlYCnRRSpUCXYG/2ZMkCIIgBAlN1FrrXcA9QAPwd+BDrfXvW8cppSYppTYqpTbu2bOn+EoFQRA6KYWUPnoAo4HPAv8EnKiU+mbrOK31Yq31eVrr83r16lV8pYIgCJ2UQkofI4G3tdZ7tNbNwOPAhXZlCYIgCB6FJOoG4ItKqa5KKQVcDmyzK0sQBEHwKKRGvR6oA14FXk/9m8WWdQmCIAgpCvJM1Fr/iCI7oLnyzL4rOlzAlbZwxQ3dFVq3x/qfwXnv++sbesMF/9dfj6w9/v3fzevjj+GEE8xTgrffHs1neyxebAwEDh4085fPnBnPU6uW20Lm+hCcpXcTLH8M3r4PFv0O7lxrlu/ca7b3bopbYbQ89RAka2Ho++bC9V7nv2e2P/VQREIeeACUgh/8AD78EA4fNsvvfc9sf+AB+xrq6qCkBG680cytsW+fWd5wg9leV2dfA0TWFvG7kN+Z3fHam9gkMqfp4OfE6HjtAi60Re8m2N3avSjlNF2SmiwqKjd0F3jqIRj1TvZ9Xn/7indg5cNYdf/mgQdg0qTMbWVlmU4qkyaZZDlxoh0NdXUwbpy/3vocTSbN/hUr4Oqr7WiASNsi/h51mItv1IjjtU+MbbFodWAlh9N05G7oMXLFO4GVXr0y3b9Tw2EVcNXbloUEE9P8+ebzP/nELIO+gDbLD9dc47/Pd44Gk7kNomwLrXXRX1VVVToMatHUpk61DRuyB61b58etWxf6N4+FDB3LlmUPWrLEj1uyxIoOF3ClLfp8F92iUjpmzMgeNG2a/iSRips2zYoOV1j/GXTSS8u9emUP6tlTJ0nF9expR8jdd/tfD/PnZ4+ZO9ePmTu3+Bruv9//+3nO0XSMrevVQlsAG3WOnBq7cYB+oCK3BVYw7s1x8JvfFE9k678/K2G+kcPillS2dYHpILjSFjePUiz6XWolz/lZd7aiZhvml1eh/orHIUml/J++edpDK+W7q1i4rune3dRfw/6+Un58sac9raw0ZdFE/nOUkhJTAqm0dL1aaAu3jQPCXHw9xPE6OmJui7QbeojTdNoN3ZbTtJDJxx+bZZhhrLf/8OH8cceC94Ucdo56+21drxG3RfyJOszF10Mcr6Mj5rZIu6GHOE2n3dBtOU0LmZxwglmGfTF6+8stzIbsJeCwc9Tbb+t6jbgt4k/UYS6+HuJ4HR0xt0XaDR3yOk2n3dBtOU07wsbPBNy/P/OZ7EGnngqk4nI5hLeX73/ff79gQfaYefP899OmFV+Ddz6EnaPel7yt6zXqtshVvG7P66hvJnbp0vZm4bp1Wnfp4sdZIkNHtpsPqRsTtnW4gCttQS16+YCAjtY3C6dNS+9bPqBjHxOtTXukbyZmu1nYs2d6XxLL7RHU0foGWfDmmU0diUToOarBxNmkyG2ByzcTC0WeTLSPK23hihu6K6iZiqceMkP0gu7fGTGp7b/9LHxlh8X2KGTsMJhebVzjqD1cGEcNBbeF2zcTBSEL4oaeyZUT4HdnZLp/ey/wk3T1eMtCvvUt89h2kCiTNEBNDSxf7t9sTibho4/8JJ1I2E/SEG1b5Opqt+dVSOmjDevWaT1unNaXX26WlsZNh7JkidaVlVr36GGWHXjcdCiutMW0aaY8Vlpqlh183HQogVJH1lJIVMydq3X37lqXl5uljXHTYbhyjhahLXCx9CEIgiD4SOlDEAThOEYStSAIguNIohYEQXAcSdSCIAiOI4laEATBcSRRC4IgOI4kakEQBMeRRC0IguA4sXsmpvn+9+G++4w1V2kpTJ0Kc+ZY/1hX5rcQfOSYZNK6Pc5vgKnr4JRD8EEXuOdCeKXS3x/VvDjVW+FHz8PJh+HDcrjjMnjqLLs6XNCQlWuvhV/9yjwrqpRZzzW73zEQf6K+5562tuotLXDXXeY1bx7cdls82gTBIQbuht89ChVN/hwfAOO2wq5ucMW/wRun2ddx6Q5Y/Svo0pKpY9Wv4VApjPoGPHdmx9cAmA7lwoWZ27SGhx82rylTck+DehTEm6izJemU03Sa2283tjqW5xwO++Y92l6e0H70I2fCjh1mRrLqaujfH7Zvh/p6aGnpVM7wA3fD6/8R2BCYMU4lk1Q2wauLYfCNdnVcugOefST7PgV0bYG1j8BlFieHaqOhvNzMwb13L+rw4Ug0ANmTdGsWLjQVgrlz2/VR8daog0k6h9M0YBpE6Hzs2AFDhphlXZ0phdXVwdtvm+2diN89GljJ4bxdloSnf2lXx+pfBVYuuijTDf2iiwCTsDP02tKgFKxaBYcOGd/VQ4fMeso70qYGIDNJT5yY2RbBGfOCBgLHSHyJOuiQMGMGzJqVuX/WrExXhOnTo9EluENZmek9V1Zmbq+shCef9Nc7qNmwx/kNptwBmKQ8YUJmwIQJsGQJmlRc0IWniFRvNaUGwCTlF17IDHjhBbjgAjSpuAsvtKth5Uq46qrMgKuugief9DWsXFl0DYCpQXtMnNi2zZcuhfGBLn3rY3aUxDd7XpcuvuFjIS6+lpym047aBZY+OvqNKxdIt/XrY00POizu1EVw002RaIuD3/yL4mtbCXXe3nmSorIJa87br/4PxZDdqZU81+zBMkXXlvC4dmkoLzc96DANgwfDq68WVQPgu5xDYfkrzDUdV2fPa0kdyRCn6fR+cZrufPTvX1jcvn12dcTMKV4+CnHefvfk1BtLztsnF2ikvbeLlY/P1BDiC5nW8OGHdoQc7RdQO7+w4kvUpan7mCFO0+n94jTd+di+vbC4Hj3s6oiZD7ykE/KL8nQvJ1ly3v6wQCPtnrk7usXTsHdv3ri0hpNPzht3zKijHFxwtPGtiC9RT57sv8/jNJ2mgztNC1lYudLcJMpG8Kd9dXU0emJiwRdTFlwhztsVTak4S87bMy8J+DVefHH2oAsvpEtLKu6CC+xpOHwYfvvb7EErV/oabLmQf+Mb/vvrr88eE6xLB2vax0Iu65f2vAq24greJ83jNG3T0bhQR+3O4ELuChlu6EOGaN3QkBnQ0KD1kCGd5phQi27sFu4Or0nFWdRxoDSg44ILMgMuuCC970CpHR0ZGpTSur4+M6C+3my3qMEXE2iL8eMz940f3zFcyIHCxlGDGTBuqUctT8G5hxyTTNRMxcDdZpx0WdL0FHd1MzXp0z/0H4BpTphx1G/8zN6TiZfuMGOUPdfzQ6WmHtzzkP/wicaMYX7uITtPJsatIU0h46jB5LgCxlG7eTMRzBOHrccYRpikBeF44Y3TYMgk2NnNrFc2wbCdZglm++Ab4c3ednU8dyYM/99wMHWLqWsL9GkiPcrjYKlJkM9/tmNrAArLTQUm6VBydbXb8zomF3JxmhZy0dCg9aJFWs+ebZatSyGdDVectwOljqylkCior9d68GCtzzzTLFuXQqJi/HitEwlTdkkk2pZCCgBnSx+CIAgCUITSh1Kqu1KqTin1F6XUNqVU8W/nCoIgCFkpdFKm+4CntdY1SqlPAflH3guCIAhFIzRRK6VOBi4BJgBorT8BPrErSxAEQfAopPTxWWAPsEwptVkptUQp1ebRJ6XUJKXURqXUxj179hRdqCAIQmelkERdCgwBfq61HgwcAL7fOkhrvVhrfZ7W+rxevXoVWaYgCELnpZBEvRPYqbVen1qvwyRuQRAEIQJCE7XWejfQqJTypjK7HNhqVZUgCIKQptBRH7cAj6ZGfOwArrMnSRAEQQhSUKLWWm8Bsg7ELhqLFxtXl4MHzby7M2fmnpWqg9F6bos++6F6O3Q/DPvLof4s2BmYrbEzzG0RxJn2ePll89jwvn1matXbboPzz4/msx3AyTlYGhrMLIv790P37jB6NPTpY/1jW7fF5p/AuYGZV7ecClU3++vtbYv4Xcjr6uCaazLn+Ni3D264ASZNgsceg5qa+PRFSO8mWLQaxvwFSgLH9b6n4Ymz4OZR8F63+PRFjTPt8dprMGoU7NqVub2uDioqYPVqOPfcCIQIaXbvhptvhieeyMwdkyfDmDGwaBGcZt+S/ZklcHlqJt5g6h7835CshT9WwpduaP/nxJuo6+pg3Dh/PeCsTDJpXuPGwYoVcPXV8emMgN5NsHt+YEOgLUqSSWq2weDdcGHn+JFh2uO+Ut8JqKICTj8d3n2Xkl27omuP116DqqqsOti1y7yqqmDzZhg40LIYNyjUts4au3fDsGG+Q/2YMZkO9StWmOPxpz9Bb3uzVD2zBEbmmC7da4HLd8LTDwI/aueH5ZoEpD2vgidlSiT8CV2WLcvct2yZvy+RKHxmk+MQatHLB1BQWywf0DnmX063R5cuWm/YkBmwYYPZHkV7VFQUpENXVNjV4QDOzN0+dqw/V3ljY+a+xkazHUycJahFJ4MTUg0alBkwaFB6X7II81HHl6jvvz93YvIITIge2wxhEdDnu+gWFd4WnyRScR24LbRu1R6tk6PHunV+e6xbZ0fIn/7kn395dKRjbOlwBCcS9bvvmo5bWVnbJO3R0GBm4UwkrM20uLlnIFG3TtIeAwfqpJeoBw4M/ZtuJmqvpxLWW/Z63ZWV4X/zOOWmKwr75ZDuZXbgttA60B4hvdR0e4wbZ0dITU1hvWXvXLalwxGcSNQ/+UlhvWWv171okRUZRwp0b0kWGKd1/kQdn3GAZ9QZ4qyc3m/JWdkFunvOyiFt8ZZnvNyB2wIC7XH66Xnj0u3xwQd2hHju5iE66NvXrg7BZ/9+swxzqO/Xzyw7iEN9fInaS0ohzsrp/ZaclV1gv+esHNIW/bzhPx24LSDQHu++mzcu3R6nnGJHiOduHqKDhga7OgSf7t3NMsyh/q23zLKDONTHl6g95/EQZ+X00BtbbsIOsLI/HFGEtsXo7am4DtwWEGiPXbvglVeyB61f77fHrbfaETJ1qlmG6EgP27OlQ/CprjYjosIc6uvrTZwlh/rXegYc2T//+exB55wDpOLaOyIoV02kPa9jGvWRx1m50436yNMWnXLUR+ubdOvWxTPqI48OGfVx9HHHTHDURw6H+shHfbS+WThwYHpfMUZ9xGvFFTaO2qODj6NWMxW9m+ClB+Fz+4ybdH1/U4PttxdGbzfu03/tYcYNvzev4z+Z6Ex7ZBtH3bevKXd4PenS0k4xjtqZJxOD46hLS83TiP36mXJHfb05VmeeaXUctZqp0g+7eK7nbWJS23/fF/7Xu+Ft4a4LeU0NLF9uEjSY5PzRR36STiQ6fJL2eK8bDJsIdQMgoaFmG0x70SwT2my/8Hp4/9NxK40GZ9rj3HNh0yaToMEk55df9pN0RUWnSNJOcdpp8NJLMHasyRUrVsDdd5tlMmm2W37YBcwTh3+s9JO0CrzAT9Jfntj+z3LH3HbpUlN7PXDA3Cyrre00c320Qdoik/XrYf58M6rilFNMLTiOOTZc0SH4NDaaerU3/0p1dSRzfbThnHPgjTf89YED4fXXj+pP5OtRu5OoBUEQOjHulj4EQRCEUCRRC4IgOI4kakEQBMeRRC0IguA4kqgFQRAcRxK1IAiC40iiFgRBcBxJ1IIgCI4Tm2di63kDbnsepr0EJxyBj0tg9sWw8CJ/f0d33s7g7LNh2zZ//RiecjoWXJnLwRUdQiatj8vEV6D2eejaDAfLYMZl8HCVvz+S47J4McyaZeYH6toVZs6M5CneqM/R2HvU122CI7Uwdw30+Bi6tpjl/D+Y7ddtilthhFx8MSiVmaTBPJqqlNkvCDEz5k1onglLnoI+TdDzsFkuW2W2j3kzAhF1dVBSAjfeaOZd2bfPLG+4wWyvq4tARHTE6kJ+3SZ4cFX2fd7kJktXpeYc7uhcfDG8+GL+mBdfhOHDYe1aq1L0ndndv72JiFSt1Y/3dTxypu80XV2d6TTd0hKZDsFnzJvw+PLs+xRQqmHFchhj85oNm3UzmTT7I5jQLSpH9lh71EuCSXrAgODsrmYdc/CXrYxFXrQEk/SgQZltMWiQv+/ZZ+1raWmBLl1gwwYzOftLL5nlhg1me1Ts2AFDhphlXR3MmWOWb79ttguR85tgR3XixMzzdKKZJk4BdTmSeVG45hr//bJlcOQINDWZ5bJl/r5gMj/OiS1R3/a8Px0gAwbA1q2ZAVu3Qr9+aFJxYR5pxzNnn+2/HzQItmzJ3L9lS+Y0minnCKs89xwMHZq5bejQzN78+vV2NZSVmd5zZWXm9spKePJJf72x0a4OATA16RKvAzlxopnlMcjSpTB+PJpU3IQJxRexeLE/DfKyZW0/Y8IEWLLEvE8m22o8Tolt9rx95YoeH6dW8mhIKuV/m1jQ6gQq8PMo3/+x0LhjlZH6maYfqMhtcxSMe3Mc/OY39nS8PjZvrTEdd+oiuOmmousQMmk8SdGnKbWS5/xrSShKNaYkceRIcUVUVpoSXNjfLikxibqy0soXefrcK7D0UcjNRCdnzzuhwOPXHPvtzk5ImOu2h23X7UJ/RXUQp2nX6dpcWNzBstQbGx0rzwDaM8fOhbf/wIHia4iB2NLgxyWFxZUlw2OEIhPmuu1h23U7zGnao4M4TbtOOgGHkE7oysIdRS8Bewk7F97+E08svoYYiC1R3zUs4DMWrNEG6d/f9yPr1y8SXbGQunEKhDoaA/Ztn8Jctz1su26HOU17WHKaFjKpvSRwzeYaqzxhAiU6FXfttcUXcccdZplMwkMPZY9ZutSvY9fWFl9DDMSWqO8JHvRt29r+zO3fH956y0/UhfaujkeCN1L//Oe2Nwtb2/xE8PALl17a9mbh+vVmeKCHbRuq5mZjXNq6xtjYCF/9qr8eh/VSJ+TBoYGhsg8+mP1G3sMPo0jF5Uqk7WHSJN9j9brrst/QvOEG8z6R6DAWdrHdTFQzFddtMuOkvWSsMTXpsqQ/jloDE6rh4foOeiPRo5Bx1ACXXWZtHLUrTwS6okPIRM1UjHnTjJP2rs0jypREujabkR7e9jFfgycfs3RcwsZRe1gcR23jHHXyZiLAsiq4/ivgNW0COCHpi0pikvQjnWHI7AsvwEUX5Y+xmKQFoRCe+BcYOw5aUnmqVMNJn5glmO1jvgb1OaqZRaGmBpYv93vWySR89JGfpBOJSB52iRJ3zG1TpY40/fp17HJHPorgaFwUXHHddsVpWshkwgT4xS/M6A6lTCTbJ1wAABU0SURBVE3aRrkjH0uXmjr0gQPmxmFt7XFb7hAXckEQBMcpSulDKVWilNqslPpt8aQJgiAIYRxNjXoysC00ShAEQSgqBSVqpVQlcCWwxK4cQRAEoTWF9qjvBb6HP0CjDUqpSUqpjUqpjXv27CmKOEEQBKGARK2Uugp4X2uddwp/rfVirfV5WuvzevXqVTSBgiAInZ1CetTDgGql1DvAr4ERSqlfWlUlCIIgpAlN1FrrH2itK7XWZwBfB9Zorb9pXZkgCIIAOOCZKAiCIOTnqDwTtdbPAs9aUeIKL78MCxb4T8Hddls8T+MJsePKnCOu6uizH6q3Q/fDsL8c6s+CnSfb1+EkDQ3m6dn9+6F7dzOZWBGfno3V3NYpXnsNRo1KG7imqaszBq+rV8O558ajTRAconcTLFoNY/4SsOYC7nsanjgLbh4F73WLT1+k7N4NN98MTzyROSHU5MkwZgwsWgSnndbuj5FEDSZJV1Xldt7etcvs37zZ/lzQgnNE5TQdqqM2sFJeDj17wt69cPiw0VGb7V8Vl95NsHt+q42JBCSTlGio2QaDd8OFx+d0G0fH7t0wbJgxXy4rM4m5f38zR1F9vZkYavNm+NOfoHfvdn2U1KjB9KTDnLdbWuDLX45bqdDZUQpWrYJDh8z5eeiQWbfhppKFRasDKzNmmAmZjhwxyxkzAPjcPvjpU5HIiZebbzZJesgQs6yrgzlzzPLtt/3tRfDzlET98st+uSPMeXvXLvvO24KQj5Ur4aqrMrdddVWmK/vKlVY+us9+U+4ATFKeNSszYNYsmDaN5kQqbvp0KzqcoKHBlDvKykzvubIyc39lpTkmpaUmrp0Gu5KoFywwy4qKtkna4/zzzX4w034KQhyUl7dN0h5BOzJL9lPV2wM16dZJ2mPOHOr7p+IWLrSiwwlWrjQ16erqtknao08fc1MxmWz3l6ckas/BOsx5u29fs7TtvC0IuejZs7C4Dz+08vHdD6feJPKnjbc8mc0F2pYfj+zfb5atLQRb43m9ennmGJFE7TlYhzlvNzSYpW3nbUHIxd69hcWdfHJ4zDGwvzz1Jplzyh8A+nkyywq0LT8e6d7dLMPMTTwzFC/PHCOSqKdONcsw522vjm3beVsQcnH4MPw2x3TwwZ/WlkofK/sHzG09N/DWTJ/O6O2puClTrOhwgupq88ti5UpzUzcbjY2mfp1IZJamjgFJ1Bdc4Nefw5y3Kyrk4RchXqqr29Y7V67MdGVvZ1LIRWN3M04agNmz294snD4d7rqLsmQqbs4cKzqcoG9fMxyvudnUoVvfLGxsNMekpcXEtfPhF7HiguzjqPv2NeUOryddWirjqDsZrj4RGKeO3k3w0oNmCF5zAur7m5p0v70wejuUJeGvPcw46vfmdfAnE4PjqEtLTcLu18+UO+rrTT4588yCx1Hns+KSB17APHG4aZP/ZKL38qiogKefliQtdHre6wbDJvpPJtYEPJ+OKKgbADddCe9/Oj6NkXHaaeZ5C+/JxBUr/H2JBIwdCz/9absfdgHpUbfFFedtQcjFypWmDv3hh+bGYW2ttXJHXqZPN0PwmpvNjcMpUzp2uSMfjY3muHhzBFVXH3W5Q1zIBUEQHKcoLuSCIAhCPEiiFgRBcBxJ1IIgCI4jiVoQBMFxJFELgiA4jiRqQRAEx5FELQiC4DiSqAVBEBwntkfIXZq/IG4dLmhwidbtcX4DTF0HpxyCD7rAPRfCK4G52iNrD8tO07lo3R7PL4Zhf/PXX6iAy77lr3f08yODmI5JG554wpgp/OMfcNJJMHNmUZ8Wlbk+BGcZuBt+9yhUNEEwVY3bCru6wRX/Bm+03+A5nIicpsN4/Jfw1f8y74PtcckuSNbCk/8MV3/Tugw3cOSYsGYNXHll2mA4zejRxpHnqadgxIh2f0zsiTrDWRnMnAEBZ4gonJUB9CNn+m7C1dWZbsItLZHocMXt2gUG7obX/yOwIeC6rQ4fprIJXl0Mg2+0LCRCp+l8PP5LGPNf2fd5Z8VX/wuWPwr8yJoMN3DkmLBmDVx+ub/e2hn+8GGzf+1auOyy9n2W1rror6qqKh0GtWhq0ZrUa/78zID587UGP84SGTqGDNG6sTEzoLFR6yFDrOoo9G/bbgtXoBbd2C11TJTSetWqzIBVq8x2UnE2GTs29NzQYOIsQS06SeBaGTAgM2DAgPS+JB3//HDhmGittS4vL+gc1eXlBf05YKPOkVPduJk4f77vtOIxdSrMneuvz5tnV0OYm7BHO92EhXDObzDlDiCv67YmFWfJdTtqp+lcPL84sDJgAGzdmhmwdSv060f691iYj9/xjCPHhCee8MsdYc7whw93EHPb1kna4/bb/fd33WVXQ5ibsIetpCCkmbou9XM+xHV7V7dUnCXrqaidpnMx7G+BmnTrJO2R8u5T4Pv0dUQcOSZpF/YwZ/jylNFkO8/R+BN1oQaYrYv1xabQXkg73YSFcE45lHoT4rr9rufhasl1O2qnaaEAXDkm//iHWYY5w3v723mOxp+oC7WU976ZbBHmJuzRTjdhIZwPuqTehLhun+6d+5Zct6N2mhYKwJVjctJJZhnmDO/tb+c5Gn+iBliwIPv2YF162jS7GsLchD3icNLoZCz4IqbeGuK6XdGUirNV+ojYaToXL/0Tfv357LOzB6V6mBr83mRHxJFjknZhD3OG9yoBx33pA4zdVeubhfPmwfe+568H69U2CHMT9ohjMH0nY31fM04ayOu6rUjF2boYI3aazsUlkwIr27a1/dnfvz+89ZZfxy701+HxiCPHhDFj/F/5Yc7w5eXtPkdjs+Jy5Wk8F3S4oMEl1EzFwN1mnHRZ0vQSd3UzNenTP/QfgGlOmHHUb/zMYnsU2Wn6WFAzVfphF0Wgdx2MSW1f8T+h5q2OfX64cEyA8HHUHgWOoxYrLuG4443TYMgk2JnqWVc2wbCdZglm++Ab4U2L1yHgO02PHWtGEaxYAXffbZbJpNluOyFgnjh88p/9JK0CL/CT9Lh/syrDDRw5JowYAX/8o9+zPnwYdu3yk3R5eXEedsElc9t588wQvMOHzX9w2jT75Y5sFMFNWCgyrrhuu3JupEodafr169jljny4ckyKcI6KC7kgCILjtKv0oZTqo5Raq5TaqpR6Uyk1ufgSBUEQhFwUMilTC3Cr1vpVpVQ3YJNS6hmtdY5HpARBEIRiEtqj1lr/XWv9aup9E7ANqLAtTBAEQTAc1agPpdQZwGBgfZZ9k5RSG5VSG/fs2VMcdYIgCELhiVop9WlgBfBdrfU/Wu/XWi/WWp+ntT6vV69exdQoCILQqSkoUSulyjBJ+lGt9eN2JQmCIAhBChn1oYClwDatdY5JOQRBEARbFNKjHgZcC4xQSm1JvUZZ1iUIgiCkCB2ep7V+kUwvzaLQen6LH6+CGzdDQkNSwc+qYMqVAR0deH4LV+b6cEWHKzjbHpYdrwvm2mvhV78yJmBKmfWHHuoUGqI+N2Kf6+OHa4yD8s2b4FNJKNVmOfkVs/2Ha+JWKAiOsGYNdOkCV18NW7aYSYm2bDGTEnXpYvZHwdSpJin+8pdmbg2tzfLhh832XI5NHU1DhMTqQv7DNTD7+ez7vO+rWc/DEUXHd1YmiyN7KyJzZBc39AycaI8oHa/zMXUqLFyYP2bhQjOrXdDztKNpSKEfOdN3Q6+uznRDb2kp2jUba496VjBJT5wY9Fk265iEPee5WOTFx9ChmW0xdGjcioS4uTJVB1QKVq2CQ4fMxPmHDpl1lfqyuOIKuzqCCTLHNQvYNaN2QYPHjh0wZIhZ1tXBnDlm+fbbZnuRiC1R/3hVYGXiRFi6NDNg6VIYP96fe3fChGiExc3QobBhQ+a2DRsyD3pVVbSahHiJ2PE6J9de67/Pc82msXHNuqAhSJgbukc73dBjmz3vkxLFp5KplTwatFKmDJJIwJEjRdPoEt5PZ11L3rYoNK7dOgr8qd9ZbibG3h6DB5tadHm56UHnoksXk6gHD4ZXXy2+jpISUweG/Oef17u3cc26oIHAMX99rOlBh8Wdughuuin/33TROCBR4DmdDrOQmAThuCBix+ucHO01aOOadUFDkDA3dI92uqHHlqiTBd5/SYepznUDSxDSROx4nZOjvQZtXLMuaAhSqGFDO93QY0vU9w8O9Javvz57UKq+pCGzNtWR+cIXsm8P1qWLeJNCOA6I2PE6J9/4hv8+5JoF7FyzLmgIEuaG7tHOce6xJervfCWw8uCDbYv+EybAww/7PeqoB9LHxSuvtL1ZWFWVWXPctClaTUK8ROx4nZNf/MJ/n+eaTWPjmnVBQ5AwN3SPdtqDxepC/sM1Zohe0FlZ45c7vO3TL4W7nu24NWpXnoBzRYcrONUeRXa8PmYKGcMMxu80znHUljXYODecvJkIcOcIuOOSTGflBJnOytMvhbuHxyJPENwhQsfrvCxYAFOm5I+xmaRd0RA1Wuuiv6qqqvRRM3681omE1kqZ5fjxR/83OgpDhgSH8Jt1QfCor9d68GCtzzzTLOvr49HhwjXrggattW5o0HrRIq1nzzbLhoaj/hPARp0jp4oLuSAIggM4W/oQBEEQwpFELQiC4DiSqAVBEBxHErUgCILjSKIWBEFwHEnUgiAIjiOJWhAEwXEkUQuCIDhOrJ6JGSxebJyVDx6Erl2Ns3Ku2bGKiFPzOcSMK23RWsedv4cpG6A0CS0JuOeL8KOR9nW0oZOfo6119NkP1duh+2HYXw71Z8HOwAyrNnS4oCGbjtueh2kvwQlH4OMSmH0xLLyoeDriT9R1dXDNNb5rA5hJtm+4ASZNgsceg5qa+PQJsTH5JVj4jHnvXRafSsKMF81rypfgvmERCJFzNIPeTbBoNYz5C5QE8s99T8MTZ8HNo+C9bh1fA8B1m2DJKnN+eudo1xaY/we45w9ww1dgWRGc8+JN1HV1MG6cv55ImJ7KwYPmokgmzf4VK+Dqq61KicpN+HjABdftyS/Bvc/k+PzUcuEzKYd6m8g5mkHvJtj9RHYdJfX11GxrYfBuuNDiD43eTbB7fquNZWXQ3EyJhpptWNcAJkk/uCr7Pi9xL11VpHM01yQg7XkVPClTIuFPPLRsWea+Zcv8fYnEUU9wUijUoqkNTH7U2JgZ0Nio9ZAhflwHptD/o+22oBadDE5KNWhQZsCgQel9SSwfEzlHM3QsHxCuQ5OKs60BtJ4/PzNg/vz0PlsaPB1HgufoyJGZASNHpvcdKfAcJc+kTPHdTFy82P8puWxZ9gnAlywx75PJtm7DxSYiN2EhnDt/H1gZNMgYuwbZsgUGDvQdgs45x44QOUcz6LPflBrCdDQnUnEWdKQ1AMyfb+amDjJ1Ksyd62uYN6/oGsDUpNMd5ZEj4ZlWP/+eeQaGD/fn1x8xon0fmCuDt+dVUI+6oqKwnojXo6msLOhb6WhJ90LGji0sbtEiKzpcwJUe9YHSQE8lDxm9bhvIOZrBTVek2jpER7rHa0FHWkPIMU9r6N696Bq01vqDEwrTceQozlGc7FEfPGiWXbvmj/P2HzhgV09EbsJCOKXJ8BiAI3ZlyDnaiu6ekUyIjrc8s3QLOtIaysoK0xB0vykiJxR48jUXKcPGl6i9k9u7GHLh7T/xRLt6InITFsJpKfCsLLErQ87RVuwvL0xHP88s3YKOtIbm5sI0eI44RebjAk++sgI7HWHEl6g9Z+VkMrcB5dKlfo3QlrOyR0RuwkI4C78QcKj//OezB6Xq0hpg4EA7QuQczfz4/qkRDCE6Rm9PxVnQkdYAxpIrG/Pm+RqmTSu6BoC7hgXO0S99KXvQiBG+H+zwdvoJ5qqJtOd1TKM+lizJ3LdkSTx31Ftb6DQ0yKiPY4xrj46M+vPAgZkBAwfGM+qjk5+jbUZ95NAR6aiPuXMzA+bOjWfUx/DhmQHDhxd11Ee8VlxhY1Q9LI5RdeWpLxdwpS3UTJV+2CXoUH8Ev9zhbf/Ov8JP/p/FYyLnaIaO3k3w0oPwuX2m/lrf39SD++2F0dvNT/2/9jBjmN+bZ+fJxLg1eDqu22TGSXvnosboKUv646g1MKEaHq4/jl3IqamB5cvNyQ/mxP/oI/8CSCQieZBAcI/7hpknD4MO9aVkOtR/519h0YWWhcg5msF73WDYRKgbAInUwyXTXjTLhDbbL7we3v90x9YA5onD678C3td1Ajgh6SfVJCZJPzKk/Z/ljrnt0qWmxnfggLkpU1sbyTwKbWhsNDW4ffvMzZDqaujTJ3odgs8558Abb/jrAwfC669Hr0POUfd0zJsHd91lRneUl5ua9O23R6sBzDjptWv99eHDYc2ao/oT+XrU7iRqQRCEToy7pQ9BEAQhFEnUgiAIjmOl9KGU2gO8W/Q/fPxxKvDfcYtwBGmLTKQ9fKQtDKdrrXtl22ElUQsGpdTGXDWnzoa0RSbSHj7SFuFI6UMQBMFxJFELgiA4jiRquyyOW4BDSFtkIu3hI20RgtSoBUEQHEd61IIgCI4jiVoQBMFxJFEXGaVUH6XUWqXUVqXUm0qpyXFrihulVIlSarNS6rdxa4kbpVR3pVSdUuovSqltSqkL4tYUJ0qpKanr5A2l1H8qpezM9H+cI4m6+LQAt2qtzwa+CNyklDo7Zk1xMxnYFrcIR7gPeFprfRYwiE7cLkqpCuA7wHla64GYWWy/Hq8qN5FEXWS01n/XWr+aet+EuRAr4lUVH0qpSuBKYEncWuJGKXUycAmwFEBr/YnWen+8qmKnFOiilCoFugJ/i1mPk0iitohS6gxgMLA+XiWxci/wPfxpezsznwX2AMtSpaAlSinLRovuorXeBdwDNAB/Bz7UWv8+XlVuIonaEkqpTwMrgO9qrf8Rt544UEpdBbyvtd4UtxZHKAWGAD/XWg8GDgDfj1dSfCilegCjMV9g/wScqJT6Zryq3EQStQWUUmWYJP2o1vrxuPXEyDCgWin1DvBrYIRS6pfxSoqVncBOrbX3C6sOk7g7KyOBt7XWe7TWzcDjgG3PnuMSSdRFRimlMDXIbVrrHDbJnQOt9Q+01pVa6zMwN4nWaK07bY9Ja70baFRK9U9tuhzYGqOkuGkAvqiU6pq6bi6nE99czUdp3AI6IMOAa4HXlVJbUtumaa1Xx6hJcIdbgEeVUp8CdgDXxawnNrTW65VSdcCrmNFSm5HHybMij5ALgiA4jpQ+BEEQHEcStSAIguNIohYEQXAcSdSCIAiOI4laEATBcSRRC4IgOI4kakEQBMf5/5UvVCoPNgnRAAAAAElFTkSuQmCC\n",
            "text/plain": [
              "<Figure size 432x288 with 1 Axes>"
            ]
          },
          "metadata": {
            "needs_background": "light"
          }
        }
      ]
    },
    {
      "cell_type": "markdown",
      "metadata": {
        "id": "e6TYPE9jXCyn"
      },
      "source": [
        "## Finding the Frauds"
      ]
    },
    {
      "cell_type": "code",
      "metadata": {
        "id": "ftOdS-ukl_gi"
      },
      "source": [
        "mappings = som.win_map(x)"
      ],
      "execution_count": 14,
      "outputs": []
    },
    {
      "cell_type": "code",
      "metadata": {
        "colab": {
          "base_uri": "https://localhost:8080/",
          "height": 370
        },
        "id": "CMI2x62zXpjW",
        "outputId": "e0865824-7698-4687-b587-91bbc80584d2"
      },
      "source": [
        "frauds = np.concatenate((mappings[(1,1)], mappings[(4,1)]), axis = 0)\n",
        "frauds = sc.inverse_transform(frauds)"
      ],
      "execution_count": 15,
      "outputs": [
        {
          "output_type": "error",
          "ename": "ValueError",
          "evalue": "ignored",
          "traceback": [
            "\u001b[0;31m---------------------------------------------------------------------------\u001b[0m",
            "\u001b[0;31mValueError\u001b[0m                                Traceback (most recent call last)",
            "\u001b[0;32m<ipython-input-15-343c74f61eb5>\u001b[0m in \u001b[0;36m<module>\u001b[0;34m()\u001b[0m\n\u001b[1;32m      1\u001b[0m \u001b[0mfrauds\u001b[0m \u001b[0;34m=\u001b[0m \u001b[0mnp\u001b[0m\u001b[0;34m.\u001b[0m\u001b[0mconcatenate\u001b[0m\u001b[0;34m(\u001b[0m\u001b[0;34m(\u001b[0m\u001b[0mmappings\u001b[0m\u001b[0;34m[\u001b[0m\u001b[0;34m(\u001b[0m\u001b[0;36m1\u001b[0m\u001b[0;34m,\u001b[0m\u001b[0;36m1\u001b[0m\u001b[0;34m)\u001b[0m\u001b[0;34m]\u001b[0m\u001b[0;34m,\u001b[0m \u001b[0mmappings\u001b[0m\u001b[0;34m[\u001b[0m\u001b[0;34m(\u001b[0m\u001b[0;36m4\u001b[0m\u001b[0;34m,\u001b[0m\u001b[0;36m1\u001b[0m\u001b[0;34m)\u001b[0m\u001b[0;34m]\u001b[0m\u001b[0;34m)\u001b[0m\u001b[0;34m,\u001b[0m \u001b[0maxis\u001b[0m \u001b[0;34m=\u001b[0m \u001b[0;36m0\u001b[0m\u001b[0;34m)\u001b[0m\u001b[0;34m\u001b[0m\u001b[0;34m\u001b[0m\u001b[0m\n\u001b[0;32m----> 2\u001b[0;31m \u001b[0mfrauds\u001b[0m \u001b[0;34m=\u001b[0m \u001b[0msc\u001b[0m\u001b[0;34m.\u001b[0m\u001b[0minverse_transform\u001b[0m\u001b[0;34m(\u001b[0m\u001b[0mfrauds\u001b[0m\u001b[0;34m)\u001b[0m\u001b[0;34m\u001b[0m\u001b[0;34m\u001b[0m\u001b[0m\n\u001b[0m",
            "\u001b[0;32m/usr/local/lib/python3.7/dist-packages/sklearn/preprocessing/_data.py\u001b[0m in \u001b[0;36minverse_transform\u001b[0;34m(self, X)\u001b[0m\n\u001b[1;32m    432\u001b[0m \u001b[0;34m\u001b[0m\u001b[0m\n\u001b[1;32m    433\u001b[0m         X = check_array(X, copy=self.copy, dtype=FLOAT_DTYPES,\n\u001b[0;32m--> 434\u001b[0;31m                         force_all_finite=\"allow-nan\")\n\u001b[0m\u001b[1;32m    435\u001b[0m \u001b[0;34m\u001b[0m\u001b[0m\n\u001b[1;32m    436\u001b[0m         \u001b[0mX\u001b[0m \u001b[0;34m-=\u001b[0m \u001b[0mself\u001b[0m\u001b[0;34m.\u001b[0m\u001b[0mmin_\u001b[0m\u001b[0;34m\u001b[0m\u001b[0;34m\u001b[0m\u001b[0m\n",
            "\u001b[0;32m/usr/local/lib/python3.7/dist-packages/sklearn/utils/validation.py\u001b[0m in \u001b[0;36mcheck_array\u001b[0;34m(array, accept_sparse, accept_large_sparse, dtype, order, copy, force_all_finite, ensure_2d, allow_nd, ensure_min_samples, ensure_min_features, warn_on_dtype, estimator)\u001b[0m\n\u001b[1;32m    554\u001b[0m                     \u001b[0;34m\"Reshape your data either using array.reshape(-1, 1) if \"\u001b[0m\u001b[0;34m\u001b[0m\u001b[0;34m\u001b[0m\u001b[0m\n\u001b[1;32m    555\u001b[0m                     \u001b[0;34m\"your data has a single feature or array.reshape(1, -1) \"\u001b[0m\u001b[0;34m\u001b[0m\u001b[0;34m\u001b[0m\u001b[0m\n\u001b[0;32m--> 556\u001b[0;31m                     \"if it contains a single sample.\".format(array))\n\u001b[0m\u001b[1;32m    557\u001b[0m \u001b[0;34m\u001b[0m\u001b[0m\n\u001b[1;32m    558\u001b[0m         \u001b[0;31m# in the future np.flexible dtypes will be handled like object dtypes\u001b[0m\u001b[0;34m\u001b[0m\u001b[0;34m\u001b[0m\u001b[0;34m\u001b[0m\u001b[0m\n",
            "\u001b[0;31mValueError\u001b[0m: Expected 2D array, got 1D array instead:\narray=[].\nReshape your data either using array.reshape(-1, 1) if your data has a single feature or array.reshape(1, -1) if it contains a single sample."
          ]
        }
      ]
    },
    {
      "cell_type": "code",
      "metadata": {
        "id": "b6d-34kXYMLc"
      },
      "source": [
        ""
      ],
      "execution_count": null,
      "outputs": []
    }
  ]
}
